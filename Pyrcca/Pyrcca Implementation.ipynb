{
 "cells": [
  {
   "cell_type": "code",
   "execution_count": 12,
   "metadata": {},
   "outputs": [],
   "source": [
    "# Imports\n",
    "import numpy as np\n",
    "import rcca\n",
    "import matplotlib.pyplot as plt\n",
    "# from brewer2mpl import qualitative\n",
    "from palettable.colorbrewer import qualitative\n",
    "%matplotlib inline\n",
    "from mpl_toolkits import mplot3d\n",
    "\n",
    "# Initialize number of samples\n",
    "nSamples = 1000\n",
    "\n",
    "# Define two latent variables (number of samples x 1)\n",
    "latvar1 = np.random.randn(nSamples,)\n",
    "latvar2 = np.random.randn(nSamples,)\n",
    "\n",
    "# Define independent components for each dataset (number of observations x dataset dimensions)\n",
    "indep1 = np.random.randn(nSamples, 4)\n",
    "indep2 = np.random.randn(nSamples, 5)\n",
    "\n",
    "# Create two datasets, with each dimension composed as a sum of 75% one of the latent variables and 25% independent component\n",
    "data1 = 0.25*indep1 + 0.75*np.vstack((latvar1, latvar2, latvar1, latvar2)).T\n",
    "data2 = 0.25*indep2 + 0.75*np.vstack((latvar1, latvar2, latvar1, latvar2, latvar1)).T\n",
    "\n",
    "# Split each dataset into two halves: training set and test set\n",
    "train1 = data1[:nSamples//2]\n",
    "train2 = data2[:nSamples//2]\n",
    "test1 = data1[nSamples//2:]\n",
    "test2 = data2[nSamples//2:]"
   ]
  },
  {
   "cell_type": "code",
   "execution_count": 13,
   "metadata": {},
   "outputs": [
    {
     "data": {
      "text/plain": [
       "array([[ 0.94778869, -0.18147461,  0.20848708, -0.84397369],\n",
       "       [-0.90026153, -1.12786694, -1.11628964, -1.19971146],\n",
       "       [ 1.24232553, -1.18284445,  0.58363246, -1.22011949],\n",
       "       ...,\n",
       "       [ 0.19111946, -0.30376129,  0.35402066, -0.10575333],\n",
       "       [-0.1029803 ,  0.78025967, -0.10437415,  1.02972234],\n",
       "       [-0.08912172,  0.66745341, -0.2134454 ,  0.42431123]])"
      ]
     },
     "execution_count": 13,
     "metadata": {},
     "output_type": "execute_result"
    }
   ],
   "source": [
    "data1"
   ]
  },
  {
   "cell_type": "code",
   "execution_count": 3,
   "metadata": {},
   "outputs": [
    {
     "name": "stdout",
     "output_type": "stream",
     "text": [
      "Training CCA, kernel = None, regularization = 0.0000, 4 components\n"
     ]
    }
   ],
   "source": [
    "# Create a cca object as an instantiation of the CCA object class. \n",
    "nComponents = 4\n",
    "cca = rcca.CCA(kernelcca = False, reg = 0., numCC = nComponents)\n",
    "\n",
    "# Use the train() method to find a CCA mapping between the two training sets.\n",
    "cca.train([train1, train2])\n",
    "\n",
    "# Use the validate() method to test how well the CCA mapping generalizes to the test data.\n",
    "# For each dimension in the test data, correlations between predicted and actual data are computed.\n",
    "testcorrs = cca.validate([test1, test2])"
   ]
  },
  {
   "cell_type": "code",
   "execution_count": 4,
   "metadata": {},
   "outputs": [
    {
     "data": {
      "text/plain": [
       "[array([0.88132225, 0.89527784, 0.90646134, 0.87993032]),\n",
       " array([0.89057608, 0.90750894, 0.87624527, 0.90569142, 0.87911707])]"
      ]
     },
     "execution_count": 4,
     "metadata": {},
     "output_type": "execute_result"
    }
   ],
   "source": [
    "testcorrs\n"
   ]
  },
  {
   "cell_type": "code",
   "execution_count": 6,
   "metadata": {},
   "outputs": [],
   "source": []
  },
  {
   "cell_type": "code",
   "execution_count": 7,
   "metadata": {},
   "outputs": [
    {
     "name": "stdout",
     "output_type": "stream",
     "text": [
      "The canonical correlations are:\n",
      "\n",
      "Component 1: 0.96\n",
      "\n",
      "Component 2: 0.95\n",
      "\n",
      "Component 3: 0.17\n",
      "\n",
      "Component 4: 0.04\n",
      "\n",
      "\n"
     ]
    },
    {
     "data": {
      "image/png": "[encoded data removed]",
      "text/plain": [
       "<matplotlib.figure.Figure at 0x11b791c50>"
      ]
     },
     "metadata": {},
     "output_type": "display_data"
    }
   ],
   "source": [
    "# Plot canonical correlations (cca.cancorrs)\n",
    "plt.plot(np.arange(nComponents)+1, cca.cancorrs, 'ko')\n",
    "plt.xlim(0.5, 0.5+nComponents)\n",
    "plt.xticks(np.arange(nComponents)+1)\n",
    "plt.xlabel('Canonical component')\n",
    "plt.ylabel('Canonical correlation')\n",
    "plt.title('Canonical correlations')\n",
    "print('''The canonical correlations are:\\n\n",
    "Component 1: %.02f\\n\n",
    "Component 2: %.02f\\n\n",
    "Component 3: %.02f\\n\n",
    "Component 4: %.02f\\n\n",
    "''' % tuple(cca.cancorrs))"
   ]
  },
  {
   "cell_type": "code",
   "execution_count": 8,
   "metadata": {},
   "outputs": [
    {
     "data": {
      "text/plain": [
       "array([0.95629736, 0.94526538, 0.17150757, 0.03671387])"
      ]
     },
     "execution_count": 8,
     "metadata": {},
     "output_type": "execute_result"
    }
   ],
   "source": [
    "cca.cancorrs"
   ]
  },
  {
   "cell_type": "code",
   "execution_count": 9,
   "metadata": {},
   "outputs": [
    {
     "name": "stdout",
     "output_type": "stream",
     "text": [
      "The prediction accuracy for the first dataset is:\n",
      "\n",
      "Dimension 1: 0.88\n",
      "\n",
      "Dimension 2: 0.90\n",
      "\n",
      "Dimension 3: 0.91\n",
      "\n",
      "Dimension 4: 0.88\n",
      "\n",
      "\n",
      "The prediction accuracy for the second dataset is:\n",
      "\n",
      "Dimension 1: 0.89\n",
      "\n",
      "Dimension 2: 0.91\n",
      "\n",
      "Dimension 3: 0.88\n",
      "\n",
      "Dimension 4: 0.91\n",
      "\n",
      "Dimension 5: 0.88\n",
      "\n",
      "\n"
     ]
    },
    {
     "data": {
      "image/png": "[encoded data removed]",
      "text/plain": [
       "<matplotlib.figure.Figure at 0x11b7918d0>"
      ]
     },
     "metadata": {},
     "output_type": "display_data"
    }
   ],
   "source": [
    "# Plot correlations between actual test data and predictions \n",
    "# obtained by projecting the other test dataset via the CCA mapping for each dimension.\n",
    "nTicks = max(testcorrs[0].shape[0], testcorrs[1].shape[0])\n",
    "# bmap1 = qualitative.Dark2[3]\n",
    "bmap1 = qualitative.Dark2_3\n",
    "plt.plot(np.arange(testcorrs[0].shape[0])+1, testcorrs[0], 'o', color = bmap1.mpl_colors[0])\n",
    "plt.plot(np.arange(testcorrs[1].shape[0])+1, testcorrs[1], 'o', color = bmap1.mpl_colors[1])\n",
    "plt.xlim(0.5, 0.5 + nTicks + 3)\n",
    "plt.ylim(0.0, 1.0)\n",
    "plt.xticks(np.arange(nTicks)+1)\n",
    "plt.xlabel('Dataset dimension')\n",
    "plt.ylabel('Prediction correlation')\n",
    "plt.title('Prediction accuracy')\n",
    "plt.legend(['Dataset 1', 'Dataset 2'])\n",
    "print('''The prediction accuracy for the first dataset is:\\n\n",
    "Dimension 1: %.02f\\n\n",
    "Dimension 2: %.02f\\n\n",
    "Dimension 3: %.02f\\n\n",
    "Dimension 4: %.02f\\n\n",
    "'''% tuple(testcorrs[0]))\n",
    "print('''The prediction accuracy for the second dataset is:\\n\n",
    "Dimension 1: %.02f\\n\n",
    "Dimension 2: %.02f\\n\n",
    "Dimension 3: %.02f\\n\n",
    "Dimension 4: %.02f\\n\n",
    "Dimension 5: %.02f\\n\n",
    "'''% tuple(testcorrs[1]))"
   ]
  },
  {
   "cell_type": "code",
   "execution_count": null,
   "metadata": {
    "collapsed": true
   },
   "outputs": [],
   "source": []
  }
 ],
 "metadata": {
  "kernelspec": {
   "display_name": "Python 3",
   "language": "python",
   "name": "python3"
  },
  "language_info": {
   "codemirror_mode": {
    "name": "ipython",
    "version": 3
   },
   "file_extension": ".py",
   "mimetype": "text/x-python",
   "name": "python",
   "nbconvert_exporter": "python",
   "pygments_lexer": "ipython3",
   "version": "3.6.5"
  }
 },
 "nbformat": 4,
 "nbformat_minor": 2
}
