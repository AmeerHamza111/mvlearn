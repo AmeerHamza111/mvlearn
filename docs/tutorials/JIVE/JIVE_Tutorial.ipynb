{
 "cells": [
  {
   "cell_type": "code",
   "execution_count": 134,
   "metadata": {},
   "outputs": [
    {
     "name": "stdout",
     "output_type": "stream",
     "text": [
      "The autoreload extension is already loaded. To reload it, use:\n",
      "  %reload_ext autoreload\n"
     ]
    }
   ],
   "source": [
    "%load_ext autoreload\n",
    "%autoreload 2"
   ]
  },
  {
   "cell_type": "markdown",
   "metadata": {},
   "source": [
    "# Angle-based Joint and Individual Variation Explained\n",
    "\n",
    "JIVE is a useful algorithm that decomposes multiple views of data into three main categories:\n",
    "    - Joint Variation\n",
    "    - Individual Variation\n",
    "    - Noise\n",
    "This notebook will prove out the implementation of JIVE and show some examples of the algorithm's usefulness"
   ]
  },
  {
   "cell_type": "code",
   "execution_count": 135,
   "metadata": {},
   "outputs": [],
   "source": [
    "import numpy as np\n",
    "import pandas as pd\n",
    "import matplotlib.pyplot as plt\n",
    "from mvlearn.jive import AJIVE\n",
    "from mvlearn.jive import PCA\n"
   ]
  },
  {
   "cell_type": "markdown",
   "metadata": {},
   "source": [
    "## Data Creation\n",
    "\n",
    "Here we create data in the same way detailed in the initial JIVE paper:\n",
    "<blockquote>\n",
    "    [1] Lock, Eric F., et al. “Joint and Individual Variation Explained (JIVE) for Integrated Analysis of Multiple Data Types.”        The Annals of Applied Statistics, vol. 7, no. 1, 2013, pp. 523–542., doi:10.1214/12-aoas597.\n",
    "</blockquote>\n",
    "\n",
    "The two views are created with a shared joint variation, unique individual variation, and a noise matrix."
   ]
  },
  {
   "cell_type": "code",
   "execution_count": 136,
   "metadata": {},
   "outputs": [],
   "source": [
    "np.random.seed(4)\n",
    "\n",
    "# First View\n",
    "V1_joint = np.bmat([[-1 * np.ones((50, 2000))],\n",
    "                       [np.ones((50, 2000))]])\n",
    "\n",
    "V1_joint = np.bmat([np.zeros((100, 8000)), V1_joint])\n",
    "\n",
    "V1_indiv_t = np.bmat([[np.ones((20, 5000))],\n",
    "                        [-1 * np.ones((20, 5000))],\n",
    "                        [np.zeros((20, 5000))],\n",
    "                        [np.ones((20, 5000))],\n",
    "                        [-1 * np.ones((20, 5000))]])\n",
    "\n",
    "V1_indiv_b = np.bmat([[np.ones((25, 5000))],\n",
    "                        [-1 * np.ones((50, 5000))],\n",
    "                        [np.ones((25, 5000))]])\n",
    "\n",
    "V1_indiv_tot = np.bmat([V1_indiv_t, V1_indiv_t])\n",
    "\n",
    "V1_noise = np.random.normal(loc=0, scale=1, size=(100, 10000))\n",
    "\n",
    "\n",
    "# Second View\n",
    "V2_joint = np.bmat([[np.ones((50, 50))],\n",
    "                      [-1*np.ones((50, 50))]])\n",
    "\n",
    "V2_joint = 5000 * np.bmat([V2_joint, np.zeros((100, 50))])\n",
    "\n",
    "V2_indiv = 5000 * np.bmat([[-1 * np.ones((25, 100))],\n",
    "                              [np.ones((25, 100))],\n",
    "                              [-1 * np.ones((25, 100))],\n",
    "                              [np.ones((25, 100))]])\n",
    "\n",
    "V2_noise = 5000 * np.random.normal(loc=0, scale=1, size=(100, 100))\n",
    "\n",
    "# View Construction\n",
    "\n",
    "V1 = V1_indiv_tot + V1_joint + V1_noise\n",
    "\n",
    "V2 = V2_indiv + V2_joint + V2_noise\n",
    "\n",
    "Views = [V1, V2]"
   ]
  },
  {
   "cell_type": "markdown",
   "metadata": {},
   "source": [
    "## Scree Plots\n",
    "\n",
    "Scree plots allow us to observe variation and determine an appropriate initial signal rank for each view"
   ]
  },
  {
   "cell_type": "code",
   "execution_count": 137,
   "metadata": {},
   "outputs": [
    {
     "data": {
      "image/png": "[encoded data removed]",
      "text/plain": [
       "<Figure size 432x288 with 1 Axes>"
      ]
     },
     "metadata": {
      "needs_background": "light"
     },
     "output_type": "display_data"
    },
    {
     "data": {
      "image/png": "[encoded data removed]",
      "text/plain": [
       "<Figure size 432x288 with 1 Axes>"
      ]
     },
     "metadata": {
      "needs_background": "light"
     },
     "output_type": "display_data"
    },
    {
     "data": {
      "text/plain": [
       "<Figure size 432x288 with 0 Axes>"
      ]
     },
     "metadata": {},
     "output_type": "display_data"
    }
   ],
   "source": [
    "def scree_plot(n,V,name):\n",
    "    U, S, V = np.linalg.svd(V)\n",
    "    eigvals = S**2 / np.sum(S**2)\n",
    "    eigval_terms = np.arange(n) + 1\n",
    "    plt.plot(eigval_terms, eigvals[0:n], 'ro-', linewidth=2)\n",
    "    plt.title('Scree Plot '+ name)\n",
    "    plt.xlabel('Principal Components')\n",
    "    plt.ylabel('Eigenvalue')\n",
    "    plt.figure()\n",
    "\n",
    "scree_plot(12,V1,'View 1')\n",
    "scree_plot(12,V2,'View 2')\n",
    "\n",
    "#It seems as though both inital ranks can be set to 3"
   ]
  },
  {
   "cell_type": "code",
   "execution_count": 141,
   "metadata": {},
   "outputs": [
    {
     "name": "stdout",
     "output_type": "stream",
     "text": [
      "{0, 1}\n",
      "[0, 1]\n"
     ]
    },
    {
     "data": {
      "text/plain": [
       "AJIVE, joint rank: 2, block 0 indiv rank: 3, block 1 indiv rank: 1"
      ]
     },
     "execution_count": 141,
     "metadata": {},
     "output_type": "execute_result"
    }
   ],
   "source": [
    "ajive = AJIVE(init_signal_ranks= [3,3])\n",
    "ajive.fit(blocks=[V1,V2])\n"
   ]
  },
  {
   "cell_type": "code",
   "execution_count": null,
   "metadata": {},
   "outputs": [],
   "source": []
  }
 ],
 "metadata": {
  "kernelspec": {
   "display_name": "Python 3",
   "language": "python",
   "name": "python3"
  },
  "language_info": {
   "codemirror_mode": {
    "name": "ipython",
    "version": 3
   },
   "file_extension": ".py",
   "mimetype": "text/x-python",
   "name": "python",
   "nbconvert_exporter": "python",
   "pygments_lexer": "ipython3",
   "version": "3.8.1"
  }
 },
 "nbformat": 4,
 "nbformat_minor": 2
}
