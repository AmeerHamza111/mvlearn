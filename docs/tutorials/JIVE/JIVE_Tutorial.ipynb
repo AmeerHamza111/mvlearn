{
 "cells": [
  {
   "cell_type": "markdown",
   "metadata": {},
   "source": [
    "# Angle-based Joint and Individual Variation Explained\n",
    "\n",
    "JIVE is a useful algorithm that decomposes multiple views of data into three main categories:\n",
    "    - Joint Variation\n",
    "    - Individual Variation\n",
    "    - Noise\n",
    "This notebook will prove out the implementation of JIVE and show some examples of the algorithm's usefulness"
   ]
  },
  {
   "cell_type": "code",
   "execution_count": 1,
   "metadata": {},
   "outputs": [
    {
     "ename": "ModuleNotFoundError",
     "evalue": "No module named 'mvlearn.JIVE'",
     "output_type": "error",
     "traceback": [
      "\u001b[1;31m---------------------------------------------------------------------------\u001b[0m",
      "\u001b[1;31mModuleNotFoundError\u001b[0m                       Traceback (most recent call last)",
      "\u001b[1;32m<ipython-input-1-c2b3ff5cb552>\u001b[0m in \u001b[0;36m<module>\u001b[1;34m\u001b[0m\n\u001b[1;32m----> 1\u001b[1;33m \u001b[1;32mfrom\u001b[0m \u001b[0mmvlearn\u001b[0m\u001b[1;33m.\u001b[0m\u001b[0mJIVE\u001b[0m\u001b[1;33m.\u001b[0m\u001b[0mAJIVE\u001b[0m \u001b[1;32mimport\u001b[0m \u001b[0mAJIVE\u001b[0m\u001b[1;33m\u001b[0m\u001b[1;33m\u001b[0m\u001b[0m\n\u001b[0m",
      "\u001b[1;31mModuleNotFoundError\u001b[0m: No module named 'mvlearn.JIVE'"
     ]
    }
   ],
   "source": [
    "from mvlearn.JIVE.AJIVE import AJIVE"
   ]
  }
 ],
 "metadata": {
  "kernelspec": {
   "display_name": "Python 3",
   "language": "python",
   "name": "python3"
  },
  "language_info": {
   "codemirror_mode": {
    "name": "ipython",
    "version": 3
   },
   "file_extension": ".py",
   "mimetype": "text/x-python",
   "name": "python",
   "nbconvert_exporter": "python",
   "pygments_lexer": "ipython3",
   "version": "3.7.4"
  }
 },
 "nbformat": 4,
 "nbformat_minor": 2
}
