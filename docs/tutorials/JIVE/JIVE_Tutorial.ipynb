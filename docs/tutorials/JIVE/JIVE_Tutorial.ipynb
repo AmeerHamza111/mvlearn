{
 "cells": [
  {
   "cell_type": "markdown",
   "metadata": {},
   "source": [
    "# Angle-based Joint and Individual Variation Explained\n",
    "\n",
    "JIVE is a useful algorithm that decomposes multiple views of data into three main categories:\n",
    "    - Joint Variation\n",
    "    - Individual Variation\n",
    "    - Noise\n",
    "This notebook will prove out the implementation of JIVE and show some examples of the algorithm's usefulness"
   ]
  },
  {
   "cell_type": "code",
   "execution_count": 5,
   "metadata": {},
   "outputs": [
    {
     "name": "stdout",
     "output_type": "stream",
     "text": [
      "The autoreload extension is already loaded. To reload it, use:\n",
      "  %reload_ext autoreload\n"
     ]
    },
    {
     "ename": "IndentationError",
     "evalue": "unindent does not match any outer indentation level (PCA.py, line 328)",
     "output_type": "error",
     "traceback": [
      "Traceback \u001b[0;36m(most recent call last)\u001b[0m:\n",
      "  File \u001b[1;32m\"/home/rflperry/miniconda3/envs/mvdev/lib/python3.7/site-packages/IPython/core/interactiveshell.py\"\u001b[0m, line \u001b[1;32m3296\u001b[0m, in \u001b[1;35mrun_code\u001b[0m\n    exec(code_obj, self.user_global_ns, self.user_ns)\n",
      "  File \u001b[1;32m\"<ipython-input-5-c162f64bbf23>\"\u001b[0m, line \u001b[1;32m3\u001b[0m, in \u001b[1;35m<module>\u001b[0m\n    import mvlearn.jive\n",
      "  File \u001b[1;32m\"/home/rflperry/jovo-lab/mvlearn/mvlearn/__init__.py\"\u001b[0m, line \u001b[1;32m7\u001b[0m, in \u001b[1;35m<module>\u001b[0m\n    import mvlearn.jive\n",
      "  File \u001b[1;32m\"/home/rflperry/jovo-lab/mvlearn/mvlearn/jive/__init__.py\"\u001b[0m, line \u001b[1;32m1\u001b[0m, in \u001b[1;35m<module>\u001b[0m\n    from .AJIVE import AJIVE\n",
      "\u001b[0;36m  File \u001b[0;32m\"/home/rflperry/jovo-lab/mvlearn/mvlearn/jive/AJIVE.py\"\u001b[0;36m, line \u001b[0;32m15\u001b[0;36m, in \u001b[0;35m<module>\u001b[0;36m\u001b[0m\n\u001b[0;31m    from .PCA import PCA\u001b[0m\n",
      "\u001b[0;36m  File \u001b[0;32m\"/home/rflperry/jovo-lab/mvlearn/mvlearn/jive/PCA.py\"\u001b[0;36m, line \u001b[0;32m328\u001b[0m\n\u001b[0;31m    def _arg_checker(X, n_components):\u001b[0m\n\u001b[0m                                      ^\u001b[0m\n\u001b[0;31mIndentationError\u001b[0m\u001b[0;31m:\u001b[0m unindent does not match any outer indentation level\n"
     ]
    }
   ],
   "source": [
    "%load_ext autoreload\n",
    "%autoreload 2\n",
    "import mvlearn.jive"
   ]
  },
  {
   "cell_type": "code",
   "execution_count": null,
   "metadata": {},
   "outputs": [],
   "source": []
  }
 ],
 "metadata": {
  "kernelspec": {
   "display_name": "Python 3",
   "language": "python",
   "name": "python3"
  },
  "language_info": {
   "codemirror_mode": {
    "name": "ipython",
    "version": 3
   },
   "file_extension": ".py",
   "mimetype": "text/x-python",
   "name": "python",
   "nbconvert_exporter": "python",
   "pygments_lexer": "ipython3",
   "version": "3.7.3"
  }
 },
 "nbformat": 4,
 "nbformat_minor": 2
}
