{
 "cells": [
  {
   "cell_type": "markdown",
   "metadata": {},
   "source": [
    "# Angle-based Joint and Individual Variation Explained\n",
    "\n",
    "JIVE is a useful algorithm that decomposes multiple views of data into three main categories:\n",
    "    - Joint Variation\n",
    "    - Individual Variation\n",
    "    - Noise\n",
    "This notebook will prove out the implementation of JIVE and show some examples of the algorithm's usefulness"
   ]
  },
  {
   "cell_type": "code",
   "execution_count": 8,
   "metadata": {},
   "outputs": [
    {
     "name": "stdout",
     "output_type": "stream",
     "text": [
      "Obtaining file:///C:/Users/arman/Documents/GitHub/New/mvlearn\n",
      "Requirement already satisfied: graspy>=0.1.1 in c:\\users\\arman\\anaconda3\\lib\\site-packages (from mvlearn==0.0.1) (0.1.1)\n",
      "Requirement already satisfied: matplotlib>=3.0.0 in c:\\users\\arman\\anaconda3\\lib\\site-packages (from mvlearn==0.0.1) (3.1.1)\n",
      "Requirement already satisfied: numpy>=1.17.0 in c:\\users\\arman\\anaconda3\\lib\\site-packages (from mvlearn==0.0.1) (1.17.2)\n",
      "Requirement already satisfied: pillow<7.0 in c:\\users\\arman\\anaconda3\\lib\\site-packages (from mvlearn==0.0.1) (6.2.0)\n",
      "Requirement already satisfied: pandas>=0.25.0 in c:\\users\\arman\\anaconda3\\lib\\site-packages (from mvlearn==0.0.1) (0.25.1)\n",
      "Requirement already satisfied: scikit-learn>=0.19.1 in c:\\users\\arman\\anaconda3\\lib\\site-packages (from mvlearn==0.0.1) (0.21.3)\n",
      "Requirement already satisfied: scipy>=1.1.0 in c:\\users\\arman\\anaconda3\\lib\\site-packages (from mvlearn==0.0.1) (1.3.1)\n",
      "Requirement already satisfied: seaborn>=0.9.0 in c:\\users\\arman\\anaconda3\\lib\\site-packages (from mvlearn==0.0.1) (0.9.0)\n",
      "Requirement already satisfied: torch>=1.1.0 in c:\\users\\arman\\anaconda3\\lib\\site-packages (from mvlearn==0.0.1) (1.4.0)\n",
      "Requirement already satisfied: torchvision>=0.4.2 in c:\\users\\arman\\anaconda3\\lib\\site-packages (from mvlearn==0.0.1) (0.5.0)\n",
      "Requirement already satisfied: tqdm in c:\\users\\arman\\anaconda3\\lib\\site-packages (from mvlearn==0.0.1) (4.36.1)\n",
      "Requirement already satisfied: networkx>=2.1 in c:\\users\\arman\\anaconda3\\lib\\site-packages (from graspy>=0.1.1->mvlearn==0.0.1) (2.3)\n",
      "Requirement already satisfied: cycler>=0.10 in c:\\users\\arman\\anaconda3\\lib\\site-packages (from matplotlib>=3.0.0->mvlearn==0.0.1) (0.10.0)\n",
      "Requirement already satisfied: kiwisolver>=1.0.1 in c:\\users\\arman\\anaconda3\\lib\\site-packages (from matplotlib>=3.0.0->mvlearn==0.0.1) (1.1.0)\n",
      "Requirement already satisfied: pyparsing!=2.0.4,!=2.1.2,!=2.1.6,>=2.0.1 in c:\\users\\arman\\anaconda3\\lib\\site-packages (from matplotlib>=3.0.0->mvlearn==0.0.1) (2.4.2)\n",
      "Requirement already satisfied: python-dateutil>=2.1 in c:\\users\\arman\\anaconda3\\lib\\site-packages (from matplotlib>=3.0.0->mvlearn==0.0.1) (2.8.0)\n",
      "Requirement already satisfied: pytz>=2017.2 in c:\\users\\arman\\anaconda3\\lib\\site-packages (from pandas>=0.25.0->mvlearn==0.0.1) (2019.2)\n",
      "Requirement already satisfied: joblib>=0.11 in c:\\users\\arman\\anaconda3\\lib\\site-packages (from scikit-learn>=0.19.1->mvlearn==0.0.1) (0.13.2)\n",
      "Requirement already satisfied: six in c:\\users\\arman\\anaconda3\\lib\\site-packages (from torchvision>=0.4.2->mvlearn==0.0.1) (1.12.0)\n",
      "Requirement already satisfied: decorator>=4.3.0 in c:\\users\\arman\\anaconda3\\lib\\site-packages (from networkx>=2.1->graspy>=0.1.1->mvlearn==0.0.1) (4.4.0)\n",
      "Requirement already satisfied: setuptools in c:\\users\\arman\\anaconda3\\lib\\site-packages (from kiwisolver>=1.0.1->matplotlib>=3.0.0->mvlearn==0.0.1) (45.2.0)\n",
      "Installing collected packages: mvlearn\n",
      "  Attempting uninstall: mvlearn\n",
      "    Found existing installation: mvlearn 0.0.1\n",
      "    Uninstalling mvlearn-0.0.1:\n",
      "      Successfully uninstalled mvlearn-0.0.1\n",
      "  Running setup.py develop for mvlearn\n",
      "Successfully installed mvlearn\n"
     ]
    }
   ],
   "source": [
    "!pip install \n",
    "-e ../../../"
   ]
  },
  {
   "cell_type": "code",
   "execution_count": 3,
   "metadata": {},
   "outputs": [
    {
     "name": "stdout",
     "output_type": "stream",
     "text": [
      "['C:\\\\Users\\\\arman\\\\Documents\\\\GitHub\\\\New\\\\mvlearn\\\\docs\\\\tutorials\\\\JIVE', 'C:\\\\Users\\\\arman\\\\PyMOL\\\\Lib\\\\site-packages\\\\pyCardDeck-1.3.3.dist-info', 'C:\\\\Users\\\\arman\\\\PyMOL\\\\Lib\\\\site-packages\\\\pyCardDeck', '', 'C:\\\\Users\\\\arman\\\\PyMOL\\\\Lib\\\\site-packages', 'C:\\\\Users\\\\arman\\\\Anaconda3\\\\python37.zip', 'C:\\\\Users\\\\arman\\\\Anaconda3\\\\DLLs', 'C:\\\\Users\\\\arman\\\\Anaconda3\\\\lib', 'C:\\\\Users\\\\arman\\\\Anaconda3', 'C:\\\\Users\\\\arman\\\\Anaconda3\\\\lib\\\\site-packages', 'C:\\\\Users\\\\arman\\\\Documents\\\\GitHub\\\\New\\\\multiview', 'C:\\\\Users\\\\arman\\\\Documents\\\\py_jive-master\\\\py_jive-master\\\\jive', 'C:\\\\Users\\\\arman\\\\Documents\\\\GitHub\\\\New\\\\py_jive', 'C:\\\\Users\\\\arman\\\\Documents\\\\GitHub\\\\New\\\\py_jive\\\\jive', 'C:\\\\Users\\\\arman\\\\Documents\\\\GitHub\\\\New\\\\mvlearn', 'C:\\\\Users\\\\arman\\\\Documents\\\\GitHub\\\\New\\\\mvlearn\\\\mvlearn', 'C:\\\\Users\\\\arman\\\\Anaconda3\\\\lib\\\\site-packages\\\\win32', 'C:\\\\Users\\\\arman\\\\Anaconda3\\\\lib\\\\site-packages\\\\win32\\\\lib', 'C:\\\\Users\\\\arman\\\\Anaconda3\\\\lib\\\\site-packages\\\\Pythonwin', 'C:\\\\Users\\\\arman\\\\Anaconda3\\\\lib\\\\site-packages\\\\IPython\\\\extensions', 'C:\\\\Users\\\\arman\\\\.ipython']\n"
     ]
    }
   ],
   "source": [
    "print(sys.path)"
   ]
  },
  {
   "cell_type": "code",
   "execution_count": 9,
   "metadata": {},
   "outputs": [
    {
     "ename": "ModuleNotFoundError",
     "evalue": "No module named 'mvlearn.JIVE'",
     "output_type": "error",
     "traceback": [
      "\u001b[1;31m---------------------------------------------------------------------------\u001b[0m",
      "\u001b[1;31mModuleNotFoundError\u001b[0m                       Traceback (most recent call last)",
      "\u001b[1;32m<ipython-input-9-c2b3ff5cb552>\u001b[0m in \u001b[0;36m<module>\u001b[1;34m\u001b[0m\n\u001b[1;32m----> 1\u001b[1;33m \u001b[1;32mfrom\u001b[0m \u001b[0mmvlearn\u001b[0m\u001b[1;33m.\u001b[0m\u001b[0mJIVE\u001b[0m\u001b[1;33m.\u001b[0m\u001b[0mAJIVE\u001b[0m \u001b[1;32mimport\u001b[0m \u001b[0mAJIVE\u001b[0m\u001b[1;33m\u001b[0m\u001b[1;33m\u001b[0m\u001b[0m\n\u001b[0m",
      "\u001b[1;31mModuleNotFoundError\u001b[0m: No module named 'mvlearn.JIVE'"
     ]
    }
   ],
   "source": [
    "from mvlearn.JIVE.AJIVE import AJIVE"
   ]
  },
  {
   "cell_type": "code",
   "execution_count": null,
   "metadata": {},
   "outputs": [],
   "source": []
  }
 ],
 "metadata": {
  "kernelspec": {
   "display_name": "Python 3",
   "language": "python",
   "name": "python3"
  },
  "language_info": {
   "codemirror_mode": {
    "name": "ipython",
    "version": 3
   },
   "file_extension": ".py",
   "mimetype": "text/x-python",
   "name": "python",
   "nbconvert_exporter": "python",
   "pygments_lexer": "ipython3",
   "version": "3.7.4"
  }
 },
 "nbformat": 4,
 "nbformat_minor": 2
}
