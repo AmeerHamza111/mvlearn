{
 "cells": [
  {
   "cell_type": "code",
   "execution_count": 1,
   "metadata": {},
   "outputs": [],
   "source": [
    "import sklearn\n",
    "from sklearn.datasets import fetch_20newsgroups\n",
    "from sklearn.feature_extraction.text import TfidfVectorizer\n",
    "import numpy as np\n",
    "import scipy as scp\n",
    "from scipy import sparse\n",
    "from mvlearn.cluster.mv_spherical_kmeans import MultiviewSphericalKMeans\n",
    "\n",
    "NUM_SAMPLES = 200"
   ]
  },
  {
   "cell_type": "code",
   "execution_count": 2,
   "metadata": {},
   "outputs": [],
   "source": [
    "#A function to get the 20 newsgroup data\n",
    "def get_data():\n",
    "\n",
    "    #Load in the vectorized news group data from scikit-learn package\n",
    "    news = fetch_20newsgroups(subset='all')\n",
    "    all_data = np.array(news.data)\n",
    "    all_targets = np.array(news.target)\n",
    "    class_names = news.target_names\n",
    "\n",
    "    #Set class pairings as described in the multiview clustering paper\n",
    "    view1_classes = ['comp.graphics','rec.motorcycles', 'sci.space', 'rec.sport.hockey', 'comp.sys.ibm.pc.hardware']\n",
    "    view2_classes = ['rec.autos', 'sci.med','misc.forsale', 'soc.religion.christian','comp.os.ms-windows.misc']\n",
    "    \n",
    "    #Create lists to hold data and labels for each of the 5 classes across 2 different views\n",
    "    labels =  [num for num in range(len(view1_classes)) for _ in range(NUM_SAMPLES)]\n",
    "    labels = np.array(labels)\n",
    "    view1_data = list()\n",
    "    view2_data = list()\n",
    "    \n",
    "    #Randomly sample 200 items from each of the selected classes in view1\n",
    "    for ind in range(len(view1_classes)):\n",
    "        class_num = class_names.index(view1_classes[ind])\n",
    "        class_data = all_data[(all_targets == class_num)]\n",
    "        indices = np.random.choice(class_data.shape[0], NUM_SAMPLES)\n",
    "        view1_data.append(class_data[indices])\n",
    "    view1_data = np.concatenate(view1_data)\n",
    "    \n",
    "    #Randomly sample 200 items from each of the selected classes in view2\n",
    "    for ind in range(len(view2_classes)):\n",
    "        class_num = class_names.index(view2_classes[ind])\n",
    "        class_data = all_data[(all_targets == class_num)]\n",
    "        indices = np.random.choice(class_data.shape[0], NUM_SAMPLES)\n",
    "        view2_data.append(class_data[indices])  \n",
    "    view2_data = np.concatenate(view2_data)\n",
    "    \n",
    "    #Vectorize the data\n",
    "    vectorizer = TfidfVectorizer()\n",
    "    view1_data = vectorizer.fit_transform(view1_data)\n",
    "    view2_data = vectorizer.fit_transform(view2_data)\n",
    "\n",
    "    #Shuffle and normalize vectors\n",
    "    shuffled_inds = np.random.permutation(NUM_SAMPLES * len(view1_classes))\n",
    "    view1_data = sparse.vstack(view1_data)\n",
    "    view2_data = sparse.vstack(view2_data)\n",
    "    view1_data = np.array(view1_data[shuffled_inds].todense())\n",
    "    view2_data = np.array(view2_data[shuffled_inds].todense())\n",
    "    magnitudes1 = np.linalg.norm(view1_data, axis=1)\n",
    "    magnitudes2 = np.linalg.norm(view2_data, axis=1)\n",
    "    magnitudes1[magnitudes1 == 0] = 1\n",
    "    magnitudes2[magnitudes2 == 0] = 1\n",
    "    magnitudes1 = magnitudes1.reshape((-1,1))\n",
    "    magnitudes2 = magnitudes2.reshape((-1,1))\n",
    "    view1_data /= magnitudes1\n",
    "    view2_data /= magnitudes2\n",
    "    labels = labels[shuffled_inds]\n",
    "\n",
    "    return view1_data, view2_data, labels"
   ]
  },
  {
   "cell_type": "code",
   "execution_count": 3,
   "metadata": {},
   "outputs": [],
   "source": [
    "v1_data, v2_data, labels = get_data()"
   ]
  },
  {
   "cell_type": "code",
   "execution_count": 4,
   "metadata": {},
   "outputs": [],
   "source": [
    "def compute_entropy(partitions, labels, k, num_classes):\n",
    "    \n",
    "    total_entropy = 0\n",
    "    num_examples = partitions.shape[0]\n",
    "    for part in range(k):\n",
    "        labs = labels[partitions == part]\n",
    "        part_size = labs.shape[0]\n",
    "        part_entropy = 0\n",
    "        for cl in range(num_classes):\n",
    "            prop = np.sum(labs == cl) * 1.0 / part_size\n",
    "            ent = 0\n",
    "            if(prop != 0):\n",
    "                ent = - prop * np.log2(prop)\n",
    "            part_entropy += ent\n",
    "        part_entropy = part_entropy * part_size / num_examples\n",
    "        total_entropy += part_entropy\n",
    "    return total_entropy"
   ]
  },
  {
   "cell_type": "code",
   "execution_count": 5,
   "metadata": {},
   "outputs": [],
   "source": [
    "def getEntropies(v1_data, v2_data, labels):\n",
    "    \n",
    "    entropies = list()\n",
    "    for num in range(1,11):\n",
    "        kmeans = MultiviewSphericalKMeans(n_clusters=num, init='random', n_init=1)\n",
    "        pred = kmeans.fit_predict([v1_data, v2_data])\n",
    "        ent = compute_entropy(pred, labels, num, 5)\n",
    "        print(ent)\n",
    "        entropies.append(ent)\n",
    "    return entropies\n",
    "\n",
    "def getSingleEntropies(v1_data, v2_data, labels):\n",
    "    \n",
    "    entropies = list()\n",
    "    for num in range(1, 11):\n",
    "        ent = single_spherical_kmeans([v1_data, v2_data], labels, num)\n",
    "        entropies.append(ent)\n",
    "        print(ent)\n",
    "    return entropies"
   ]
  },
  {
   "cell_type": "code",
   "execution_count": 6,
   "metadata": {},
   "outputs": [
    {
     "name": "stdout",
     "output_type": "stream",
     "text": [
      "2.321928094887362\n",
      "1.6003810260059157\n",
      "1.1661431175014043\n",
      "0.7123149219021065\n",
      "0.19256800477592034\n",
      "0.6478359129578402\n",
      "0.19886225345913855\n",
      "0.6112578965344423\n",
      "0.3130429404928407\n",
      "0.3477153480289985\n",
      "2.321928094887362\n",
      "1.7769381964658386\n",
      "1.0932191128200082\n",
      "1.0328020845003398\n",
      "0.7813547056714297\n",
      "0.7061897517927134\n",
      "0.6888075852940819\n",
      "0.31399148454492903\n",
      "0.37902120194982586\n",
      "0.3408171680531556\n",
      "2.321928094887362\n",
      "1.7814248655246752\n",
      "0.9851397600206957\n",
      "0.6548811331253657\n",
      "0.7936405333782047\n",
      "0.28469413965175006\n",
      "0.5569535921920146\n",
      "0.7531092057714203\n",
      "0.7340777889534209\n",
      "0.7171085092674142\n",
      "2.321928094887362\n",
      "1.7369203800476112\n",
      "1.2042043033395002\n",
      "1.224007910792537\n",
      "0.267494056751709\n",
      "0.5892175607898119\n",
      "0.3383598213454708\n",
      "0.7168211385918097\n",
      "0.4541842588698288\n",
      "0.6367898067822338\n",
      "2.321928094887362\n",
      "1.7349186692949516\n",
      "1.09475846089875\n",
      "1.0006544250334717\n",
      "0.6343766861546745\n",
      "0.7630306891321585\n",
      "0.6988807901341385\n",
      "0.3817246654680094\n",
      "0.6664643473012403\n",
      "0.29725594496079943\n"
     ]
    }
   ],
   "source": [
    "#Do spherical kmeans and get entropy values for each k\n",
    "num_trials = 5\n",
    "mult_entropies = list()\n",
    "for ind in range(num_trials):\n",
    "    entropies = getEntropies(v1_data, v2_data, labels)\n",
    "    mult_entropies.append(entropies)\n",
    "mult_entropies = np.array(mult_entropies)\n",
    "ave_m_entropies = np.mean(mult_entropies, axis=0)"
   ]
  },
  {
   "cell_type": "code",
   "execution_count": 31,
   "metadata": {},
   "outputs": [
    {
     "data": {
      "image/png": "[encoded data removed]",
      "text/plain": [
       "<Figure size 432x288 with 1 Axes>"
      ]
     },
     "metadata": {
      "needs_background": "light"
     },
     "output_type": "display_data"
    }
   ],
   "source": [
    "import matplotlib.pyplot as plt\n",
    "\n",
    "mult_entropies = np.array(mult_entropies)\n",
    "ave_m_entropies = np.mean(mult_entropies, axis=0)\n",
    "std_m_entropies = np.std(mult_entropies, axis=0)\n",
    "x_values = list(range(1, 11))\n",
    "plt.errorbar(x_values, ave_m_entropies, std_m_entropies, capsize=5, color = '#F46C12')\n",
    "plt.xlabel('k')\n",
    "plt.ylabel('Entropy')\n",
    "plt.legend(['2 Views'])\n",
    "plt.rc('axes', labelsize=12)\n",
    "plt.show()"
   ]
  },
  {
   "cell_type": "code",
   "execution_count": null,
   "metadata": {},
   "outputs": [],
   "source": []
  },
  {
   "cell_type": "code",
   "execution_count": null,
   "metadata": {},
   "outputs": [],
   "source": []
  }
 ],
 "metadata": {
  "kernelspec": {
   "display_name": "Python 3",
   "language": "python",
   "name": "python3"
  },
  "language_info": {
   "codemirror_mode": {
    "name": "ipython",
    "version": 3
   },
   "file_extension": ".py",
   "mimetype": "text/x-python",
   "name": "python",
   "nbconvert_exporter": "python",
   "pygments_lexer": "ipython3",
   "version": "3.6.7"
  }
 },
 "nbformat": 4,
 "nbformat_minor": 4
}
