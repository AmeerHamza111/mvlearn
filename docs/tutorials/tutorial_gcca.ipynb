{
 "cells": [
  {
   "cell_type": "code",
   "execution_count": 38,
   "metadata": {},
   "outputs": [],
   "source": [
    "import sys\n",
    "sys.path.append('../../')\n",
    "\n",
    "import multiview\n",
    "from multiview.embed.gcca import GCCA\n",
    "\n",
    "import sklearn\n",
    "from sklearn.decomposition import PCA\n",
    "import numpy as np\n",
    "import matplotlib.pyplot as plt"
   ]
  },
  {
   "cell_type": "code",
   "execution_count": 21,
   "metadata": {},
   "outputs": [],
   "source": [
    "## Generate data with 2 views\n",
    "np.random.seed(0)\n",
    "n_obs = 4\n",
    "n_views = 2\n",
    "n_features = 6\n",
    "X = np.random.normal(0, 1, size=(n_views, n_obs, n_features))"
   ]
  },
  {
   "cell_type": "code",
   "execution_count": 22,
   "metadata": {},
   "outputs": [],
   "source": [
    "## Fit projections to data and project\n",
    "gcca = GCCA()\n",
    "gcca = gcca.fit(X)\n",
    "projs = gcca.transform(X)"
   ]
  },
  {
   "cell_type": "code",
   "execution_count": 40,
   "metadata": {},
   "outputs": [],
   "source": [
    "## PCA Data\n",
    "X0 = PCA(n_components=projs.shape[2]).fit_transform(X[0])\n",
    "X1 = PCA(n_components=projs.shape[2]).fit_transform(X[1])"
   ]
  },
  {
   "cell_type": "code",
   "execution_count": 41,
   "metadata": {},
   "outputs": [
    {
     "name": "stdout",
     "output_type": "stream",
     "text": [
      "Raw Distance: 7.762801608269861\n",
      "PCA Distance: 2.640694026670473\n",
      "GCCA Distance: 2.1457933385128066e-15\n"
     ]
    }
   ],
   "source": [
    "print(f'Raw Distance: {np.linalg.norm(X[0] - X[1])}')\n",
    "print(f'PCA Distance: {np.linalg.norm(X0[0] - X1[1])}')\n",
    "print(f'GCCA Distance: {np.linalg.norm(projs[0] - projs[1])}')"
   ]
  }
 ],
 "metadata": {
  "kernelspec": {
   "display_name": "Python [conda env:datasci] *",
   "language": "python",
   "name": "conda-env-datasci-py"
  },
  "language_info": {
   "codemirror_mode": {
    "name": "ipython",
    "version": 3
   },
   "file_extension": ".py",
   "mimetype": "text/x-python",
   "name": "python",
   "nbconvert_exporter": "python",
   "pygments_lexer": "ipython3",
   "version": "3.7.3"
  }
 },
 "nbformat": 4,
 "nbformat_minor": 2
}
