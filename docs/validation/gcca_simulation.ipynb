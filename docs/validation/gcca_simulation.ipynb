{
 "cells": [
  {
   "cell_type": "code",
   "execution_count": 151,
   "metadata": {},
   "outputs": [],
   "source": [
    "from multiview.embed.gcca import GCCA\n",
    "import matplotlib.pyplot as plt\n",
    "import numpy as np\n",
    "import scipy\n",
    "%matplotlib inline\n",
    "import seaborn as sns\n",
    "from scipy import linalg"
   ]
  },
  {
   "cell_type": "code",
   "execution_count": 234,
   "metadata": {},
   "outputs": [],
   "source": [
    "np.random.seed(0)\n",
    "\n",
    "def get_train_test(n=100, mu=0, var=1, nviews=3,m=1000):\n",
    "    np.random.seed(0)\n",
    "    \n",
    "    X_TRAIN = np.random.normal(mu,var,(n,1))\n",
    "    X_TEST = np.random.normal(mu,var,(n,1))\n",
    "\n",
    "    Xs_train = []\n",
    "    Xs_test = []\n",
    "    for i in range(nviews):\n",
    "        X_train = np.hstack((np.random.normal(0,1,(n,i)), \n",
    "                             X_TRAIN, \n",
    "                             np.random.normal(0,1,(n,m-1-i))))\n",
    "        X_test = np.hstack((np.random.normal(0,1,(n,i)), \n",
    "                             X_TEST, \n",
    "                             np.random.normal(0,1,(n,m-1-i))))\n",
    "        \n",
    "        Xs_train.append(X_train)\n",
    "        Xs_test.append(X_test)\n",
    "    \n",
    "    return(Xs_train,Xs_test)"
   ]
  },
  {
   "cell_type": "markdown",
   "metadata": {},
   "source": [
    "## Positive Test"
   ]
  },
  {
   "cell_type": "code",
   "execution_count": 235,
   "metadata": {},
   "outputs": [],
   "source": [
    "nviews = 3\n",
    "Xs_train, Xs_test = get_train_test(var=10,nviews=nviews,m=100)"
   ]
  },
  {
   "cell_type": "code",
   "execution_count": 236,
   "metadata": {},
   "outputs": [],
   "source": [
    "gcca = GCCA()\n",
    "gcca.fit(Xs_train, n_components = 1)\n",
    "Xs_hat = gcca.transform(Xs_test)"
   ]
  },
  {
   "cell_type": "code",
   "execution_count": 237,
   "metadata": {},
   "outputs": [
    {
     "data": {
      "text/plain": [
       "array([[1.        , 0.99884841, 0.99859128],\n",
       "       [0.99884841, 1.        , 0.99825069],\n",
       "       [0.99859128, 0.99825069, 1.        ]])"
      ]
     },
     "execution_count": 237,
     "metadata": {},
     "output_type": "execute_result"
    }
   ],
   "source": [
    "np.corrcoef(np.reshape(Xs_hat, (nviews,-1)))"
   ]
  },
  {
   "cell_type": "markdown",
   "metadata": {},
   "source": [
    "## Negative Test"
   ]
  },
  {
   "cell_type": "code",
   "execution_count": 238,
   "metadata": {},
   "outputs": [],
   "source": [
    "nviews = 3\n",
    "Xs_train, Xs_test = get_train_test(var=1,nviews=nviews,m=100)"
   ]
  },
  {
   "cell_type": "code",
   "execution_count": 239,
   "metadata": {},
   "outputs": [],
   "source": [
    "gcca = GCCA()\n",
    "gcca.fit(Xs_train, n_components = 1)\n",
    "Xs_hat = gcca.transform(Xs_test)"
   ]
  },
  {
   "cell_type": "code",
   "execution_count": 240,
   "metadata": {},
   "outputs": [
    {
     "data": {
      "text/plain": [
       "array([[1.        , 0.03048345, 0.05483678],\n",
       "       [0.03048345, 1.        , 0.10558241],\n",
       "       [0.05483678, 0.10558241, 1.        ]])"
      ]
     },
     "execution_count": 240,
     "metadata": {},
     "output_type": "execute_result"
    }
   ],
   "source": [
    "np.corrcoef(np.reshape(Xs_hat, (nviews,-1)))"
   ]
  },
  {
   "cell_type": "code",
   "execution_count": null,
   "metadata": {},
   "outputs": [],
   "source": []
  }
 ],
 "metadata": {
  "kernelspec": {
   "display_name": "Python [conda env:mvdev]",
   "language": "python",
   "name": "conda-env-mvdev-py"
  },
  "language_info": {
   "codemirror_mode": {
    "name": "ipython",
    "version": 3
   },
   "file_extension": ".py",
   "mimetype": "text/x-python",
   "name": "python",
   "nbconvert_exporter": "python",
   "pygments_lexer": "ipython3",
   "version": "3.7.3"
  }
 },
 "nbformat": 4,
 "nbformat_minor": 2
}
