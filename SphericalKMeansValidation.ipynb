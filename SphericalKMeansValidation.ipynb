{
 "cells": [
  {
   "cell_type": "code",
   "execution_count": 1,
   "metadata": {},
   "outputs": [],
   "source": [
    "import sklearn\n",
    "from sklearn.datasets import fetch_20newsgroups\n",
    "from sklearn.feature_extraction.text import TfidfVectorizer\n",
    "import numpy as np\n",
    "import scipy as scp\n",
    "from scipy import sparse\n",
    "from mvlearn.cluster.mv_spherical_kmeans import MultiviewSphericalKMeans\n",
    "\n",
    "NUM_SAMPLES = 200"
   ]
  },
  {
   "cell_type": "code",
   "execution_count": 2,
   "metadata": {},
   "outputs": [],
   "source": [
    "#A function to get the 20 newsgroup data\n",
    "def get_data():\n",
    "\n",
    "    #Load in the vectorized news group data from scikit-learn package\n",
    "    news = fetch_20newsgroups(subset='all')\n",
    "    all_data = np.array(news.data)\n",
    "    all_targets = np.array(news.target)\n",
    "    class_names = news.target_names\n",
    "\n",
    "    #Set class pairings as described in the multiview clustering paper\n",
    "    view1_classes = ['comp.graphics','rec.motorcycles', 'sci.space', 'rec.sport.hockey', 'comp.sys.ibm.pc.hardware']\n",
    "    view2_classes = ['rec.autos', 'sci.med','misc.forsale', 'soc.religion.christian','comp.os.ms-windows.misc']\n",
    "    \n",
    "    #Create lists to hold data and labels for each of the 5 classes across 2 different views\n",
    "    labels =  [num for num in range(len(view1_classes)) for _ in range(NUM_SAMPLES)]\n",
    "    labels = np.array(labels)\n",
    "    view1_data = list()\n",
    "    view2_data = list()\n",
    "    \n",
    "    #Randomly sample 200 items from each of the selected classes in view1\n",
    "    for ind in range(len(view1_classes)):\n",
    "        class_num = class_names.index(view1_classes[ind])\n",
    "        class_data = all_data[(all_targets == class_num)]\n",
    "        indices = np.random.choice(class_data.shape[0], NUM_SAMPLES)\n",
    "        view1_data.append(class_data[indices])\n",
    "    view1_data = np.concatenate(view1_data)\n",
    "    \n",
    "    #Randomly sample 200 items from each of the selected classes in view2\n",
    "    for ind in range(len(view2_classes)):\n",
    "        class_num = class_names.index(view2_classes[ind])\n",
    "        class_data = all_data[(all_targets == class_num)]\n",
    "        indices = np.random.choice(class_data.shape[0], NUM_SAMPLES)\n",
    "        view2_data.append(class_data[indices])  \n",
    "    view2_data = np.concatenate(view2_data)\n",
    "    \n",
    "    #Vectorize the data\n",
    "    vectorizer = TfidfVectorizer()\n",
    "    view1_data = vectorizer.fit_transform(view1_data)\n",
    "    view2_data = vectorizer.fit_transform(view2_data)\n",
    "\n",
    "    #Shuffle and normalize vectors\n",
    "    shuffled_inds = np.random.permutation(NUM_SAMPLES * len(view1_classes))\n",
    "    view1_data = sparse.vstack(view1_data)\n",
    "    view2_data = sparse.vstack(view2_data)\n",
    "    view1_data = np.array(view1_data[shuffled_inds].todense())\n",
    "    view2_data = np.array(view2_data[shuffled_inds].todense())\n",
    "    magnitudes1 = np.linalg.norm(view1_data, axis=1)\n",
    "    magnitudes2 = np.linalg.norm(view2_data, axis=1)\n",
    "    magnitudes1[magnitudes1 == 0] = 1\n",
    "    magnitudes2[magnitudes2 == 0] = 1\n",
    "    magnitudes1 = magnitudes1.reshape((-1,1))\n",
    "    magnitudes2 = magnitudes2.reshape((-1,1))\n",
    "    view1_data /= magnitudes1\n",
    "    view2_data /= magnitudes2\n",
    "    labels = labels[shuffled_inds]\n",
    "\n",
    "    return view1_data, view2_data, labels"
   ]
  },
  {
   "cell_type": "code",
   "execution_count": 3,
   "metadata": {},
   "outputs": [],
   "source": [
    "v1_data, v2_data, labels = get_data()"
   ]
  },
  {
   "cell_type": "code",
   "execution_count": 4,
   "metadata": {},
   "outputs": [],
   "source": [
    "def compute_entropy(partitions, labels, k, num_classes):\n",
    "    \n",
    "    total_entropy = 0\n",
    "    num_examples = partitions.shape[0]\n",
    "    for part in range(k):\n",
    "        labs = labels[partitions == part]\n",
    "        part_size = labs.shape[0]\n",
    "        part_entropy = 0\n",
    "        for cl in range(num_classes):\n",
    "            prop = np.sum(labs == cl) * 1.0 / part_size\n",
    "            ent = 0\n",
    "            if(prop != 0):\n",
    "                ent = - prop * np.log2(prop)\n",
    "            part_entropy += ent\n",
    "        part_entropy = part_entropy * part_size / num_examples\n",
    "        total_entropy += part_entropy\n",
    "    return total_entropy"
   ]
  },
  {
   "cell_type": "code",
   "execution_count": 5,
   "metadata": {},
   "outputs": [],
   "source": [
    "def getEntropies(v1_data, v2_data, labels):\n",
    "    \n",
    "    entropies = list()\n",
    "    for num in range(1,11):\n",
    "        kmeans = MultiviewSphericalKMeans(n_clusters=num, init='random', n_init=1)\n",
    "        pred = kmeans.fit_predict([v1_data, v2_data])\n",
    "        ent = compute_entropy(pred, labels, num, 5)\n",
    "        print(ent)\n",
    "        entropies.append(ent)\n",
    "    return entropies\n",
    "\n",
    "def getSingleEntropies(v1_data, v2_data, labels):\n",
    "    \n",
    "    entropies = list()\n",
    "    for num in range(1, 11):\n",
    "        ent = single_spherical_kmeans([v1_data, v2_data], labels, num)\n",
    "        entropies.append(ent)\n",
    "        print(ent)\n",
    "    return entropies"
   ]
  },
  {
   "cell_type": "code",
   "execution_count": 6,
   "metadata": {},
   "outputs": [
    {
     "name": "stdout",
     "output_type": "stream",
     "text": [
      "2.321928094887362\n",
      "1.7720878993557514\n",
      "1.0067506146418024\n",
      "0.7086862536929563\n",
      "0.753075925027547\n",
      "1.0182021681538156\n",
      "0.3691827668233449\n",
      "0.9057599143965833\n",
      "0.9012425686649297\n",
      "0.4690124187825366\n",
      "2.321928094887362\n",
      "1.7720878993557514\n",
      "1.2620902344641696\n",
      "0.6405746025244045\n",
      "1.2708589723493133\n",
      "1.233800068970106\n",
      "0.39362909302337085\n",
      "1.0588048049807288\n",
      "0.8231823717456295\n",
      "0.7404624956203328\n",
      "2.321928094887362\n",
      "1.7624834603073407\n",
      "1.2457461934516516\n",
      "0.6708241066561281\n",
      "1.1017384816277032\n",
      "0.26359927135544997\n",
      "0.7969508456350307\n",
      "0.6003845455029589\n",
      "0.9029959214353963\n",
      "0.8057665816695928\n",
      "2.321928094887362\n",
      "1.5108253795468256\n",
      "1.758572721282471\n",
      "0.7066906221125923\n",
      "0.7636498061825456\n",
      "0.9018472129808683\n",
      "0.8471525363623539\n",
      "1.3891840056103242\n",
      "0.4577760419534154\n",
      "0.6692454877938813\n",
      "2.321928094887362\n",
      "1.7574091855512912\n",
      "1.0807091093971817\n",
      "0.5433454213712493\n",
      "1.1311214076446923\n",
      "0.7643893592314134\n",
      "0.6545957085281571\n",
      "0.9040374038632104\n",
      "0.7889220779421515\n",
      "0.29575803970446096\n"
     ]
    }
   ],
   "source": [
    "#Do spherical kmeans and get entropy values for each k\n",
    "num_trials = 5\n",
    "mult_entropies = list()\n",
    "for ind in range(num_trials):\n",
    "    entropies = getEntropies(v1_data, v2_data, labels)\n",
    "    mult_entropies.append(entropies)\n",
    "mult_entropies = np.array(mult_entropies)\n",
    "ave_m_entropies = np.mean(mult_entropies, axis=0)"
   ]
  },
  {
   "cell_type": "code",
   "execution_count": 7,
   "metadata": {},
   "outputs": [
    {
     "data": {
      "image/png": "[encoded data removed]",
      "text/plain": [
       "<Figure size 432x288 with 1 Axes>"
      ]
     },
     "metadata": {
      "needs_background": "light"
     },
     "output_type": "display_data"
    }
   ],
   "source": [
    "import matplotlib.pyplot as plt\n",
    "\n",
    "mult_entropies = np.array(mult_entropies)\n",
    "ave_m_entropies = np.mean(mult_entropies, axis=0)\n",
    "std_m_entropies = np.std(mult_entropies, axis=0)\n",
    "x_values = list(range(1, 11))\n",
    "plt.errorbar(x_values, ave_m_entropies, std_m_entropies, capsize=5, color = '#F46C12')\n",
    "plt.xlabel('k')\n",
    "plt.ylabel('Entropy')\n",
    "plt.legend(['2 Views'])\n",
    "plt.rc('axes', labelsize=12)\n",
    "plt.show()"
   ]
  },
  {
   "cell_type": "code",
   "execution_count": null,
   "metadata": {},
   "outputs": [],
   "source": []
  },
  {
   "cell_type": "code",
   "execution_count": null,
   "metadata": {},
   "outputs": [],
   "source": []
  }
 ],
 "metadata": {
  "kernelspec": {
   "display_name": "Python 3",
   "language": "python",
   "name": "python3"
  },
  "language_info": {
   "codemirror_mode": {
    "name": "ipython",
    "version": 3
   },
   "file_extension": ".py",
   "mimetype": "text/x-python",
   "name": "python",
   "nbconvert_exporter": "python",
   "pygments_lexer": "ipython3",
   "version": "3.6.7"
  }
 },
 "nbformat": 4,
 "nbformat_minor": 4
}
