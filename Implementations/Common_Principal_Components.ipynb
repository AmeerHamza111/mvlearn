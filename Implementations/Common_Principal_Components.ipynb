{
 "cells": [
  {
   "cell_type": "code",
   "execution_count": 105,
   "metadata": {},
   "outputs": [],
   "source": [
    "from multiview import cpcmv as cpcmv\n",
    "import numpy as np\n",
    "import matplotlib.pyplot as plt\n",
    "import pandas as pd\n",
    "from sklearn import naive_bayes, model_selection, metrics\n",
    "import matplotlib.pyplot as plt\n",
    "from sklearn.metrics import euclidean_distances\n",
    "import re\n",
    "\n",
    "\n",
    "\n",
    "data_set = pd.read_excel('D:/Datasets/Banking.xlsx', header = 0)\n",
    "\n",
    "\n",
    "\n"
   ]
  },
  {
   "cell_type": "code",
   "execution_count": 93,
   "metadata": {},
   "outputs": [],
   "source": [
    "genuine = data_set[data_set['Status']==0]\n",
    "counterfeit = data_set[data_set['Status']==1]\n",
    "\n",
    "genuine = genuine.loc[:,genuine.columns != 'Status']\n",
    "counterfeit = counterfeit.loc[:,counterfeit.columns != 'Status']\n",
    "\n",
    "\n"
   ]
  },
  {
   "cell_type": "code",
   "execution_count": 94,
   "metadata": {},
   "outputs": [],
   "source": [
    "genuine_cov = np.cov(genuine.T)\n",
    "counterfeit_cov = np.cov(counterfeit.T)"
   ]
  },
  {
   "cell_type": "code",
   "execution_count": 95,
   "metadata": {},
   "outputs": [
    {
     "data": {
      "text/plain": [
       "2"
      ]
     },
     "execution_count": 95,
     "metadata": {},
     "output_type": "execute_result"
    }
   ],
   "source": [
    "t = np.array([genuine_cov,counterfeit_cov])\n",
    "\n",
    "len(t)"
   ]
  },
  {
   "cell_type": "code",
   "execution_count": 96,
   "metadata": {},
   "outputs": [],
   "source": [
    "k = 4\n",
    "\n",
    "t = np.array([genuine_cov,counterfeit_cov])\n",
    "it = 15\n",
    "\n",
    "def cpc(k,x,iter2):\n",
    "    \n",
    "    n = p = len(x[0])\n",
    "    n_num = np.array([n] * n)/np.sum(np.array([n] * n))\n",
    "    views = len(x)\n",
    "\n",
    "\n",
    "    D = np.zeros((p,views))\n",
    "    Eigvec = np.zeros((p,p)) #got to think about what happens after \n",
    "    pi = np.eye(p)\n",
    "\n",
    "    s = np.zeros((p,p))\n",
    "\n",
    "    #make a for loop for script\n",
    "    for i in np.arange(views):\n",
    "        s = s + ((n_num[i]) * x[i])\n",
    "        \n",
    "    e1,e2 = np.linalg.eigh(s)\n",
    "\n",
    "    q0 = e2[:,::-1]\n",
    "    for i in np.arange(k):\n",
    "        q = q0[:,i]\n",
    "        q = np.array(q).reshape(len(q),1)\n",
    "        d = np.zeros((1,views))\n",
    "    \n",
    "        for j in np.arange(views):\n",
    "        \n",
    "            d[:,j] = np.dot(np.dot(q.T,x[j]),q)\n",
    "    \n",
    "    #iterating part grabbed from r script\n",
    "    \n",
    "        for j in np.arange(iter2):\n",
    "            s2 = np.zeros((p,p))\n",
    "        \n",
    "            for yy in np.arange(views):\n",
    "                \n",
    "                s2 = s2 + (n_num[yy] * x[yy] / d[:,yy])\n",
    "            #this is where I ended\n",
    "            \n",
    "            \n",
    "            w = np.dot(s2,q) #pi is the identity\n",
    "            if i != 1:\n",
    "                w = np.dot(pi,w)\n",
    "        \n",
    "            xvec = w/ np.sqrt(np.dot(w.T,w))\n",
    "        \n",
    "            for yy in np.arange(views):\n",
    "                \n",
    "                d[:,yy] = np.dot(np.dot(xvec.T,x[yy]),xvec)\n",
    "            \n",
    "        D[i,:] = d\n",
    "        Eigvec[:,i] = xvec[:,0]\n",
    "        pi = pi - np.dot(xvec,xvec.T)\n",
    "\n",
    "\n",
    "    return(D,Eigvec)\n",
    "#print(D)  #eigenvalues"
   ]
  },
  {
   "cell_type": "code",
   "execution_count": 98,
   "metadata": {},
   "outputs": [
    {
     "data": {
      "text/plain": [
       "array([[-0.00265982, -0.25588952,  0.39966119,  0.48773814, -0.73193838,\n",
       "        -0.08962536],\n",
       "       [ 0.00777695, -0.11373697,  0.51267035,  0.16941856,  0.33312949,\n",
       "         0.76602604],\n",
       "       [ 0.01990684, -0.21805006,  0.46030643,  0.22256545,  0.54778275,\n",
       "        -0.62535178],\n",
       "       [ 0.82654241, -0.04855219,  0.23526296, -0.46517674, -0.13284056,\n",
       "        -0.03121286],\n",
       "       [-0.54518249, -0.47144239,  0.26386766, -0.65174421, -0.13934386,\n",
       "        -0.02474136],\n",
       "       [ 0.13834685, -0.80586809, -0.49049284,  0.2066726 ,  0.12712865,\n",
       "         0.11189359]])"
      ]
     },
     "execution_count": 98,
     "metadata": {},
     "output_type": "execute_result"
    }
   ],
   "source": [
    "it = 30\n",
    "k = 6\n",
    "cpc(k,t,it)[1]"
   ]
  },
  {
   "cell_type": "code",
   "execution_count": 101,
   "metadata": {},
   "outputs": [
    {
     "data": {
      "text/plain": [
       "(50, 4)"
      ]
     },
     "execution_count": 101,
     "metadata": {},
     "output_type": "execute_result"
    }
   ],
   "source": [
    "\n",
    "#check this next week\n",
    "\n",
    "\n",
    "from sklearn import datasets\n",
    "\n",
    "iris = datasets.load_iris()\n",
    "X = iris.data # we only take the first two features.\n",
    "y = iris.target\n",
    "\n",
    "tot = pd.DataFrame(data = np.c_[X,y], columns = iris['feature_names'] + ['target'])\n",
    "\n",
    "setosa = tot[tot['target'] == 0]\n",
    "\n",
    "\n",
    "versicolour = tot[tot['target'] == 1]\n",
    "\n",
    "virginica = tot[tot['target'] == 2]\n",
    "\n",
    "\n",
    "setosa_data = setosa.loc[:,setosa.columns != 'target']\n",
    "\n",
    "versicolour_data = versicolour.loc[:,versicolour.columns != 'target']\n",
    "\n",
    "virginica_data = virginica.loc[:,virginica.columns != 'target']\n",
    "\n",
    "\n",
    "setosa_cov = np.cov(setosa_data.T)\n",
    "\n",
    "versicolour_cov = np.cov(versicolour_data.T)\n",
    "\n",
    "virginica_cov = np.cov(virginica_data.T)\n",
    "\n",
    "t = np.array([setosa_cov,versicolour_cov,virginica_cov])\n",
    "\n",
    "virginica_data.shape"
   ]
  },
  {
   "cell_type": "code",
   "execution_count": 102,
   "metadata": {},
   "outputs": [],
   "source": [
    "k = 4\n",
    "\n",
    "j = cpc(k,t,it)\n",
    "\n",
    "fit = cpcmv.MVCPC(k = 4).fit_transform(t)\n",
    "\n",
    "comp = fit[1]"
   ]
  },
  {
   "cell_type": "code",
   "execution_count": 104,
   "metadata": {},
   "outputs": [
    {
     "data": {
      "text/plain": [
       "array([[-0.74672561,  0.0911447 , -0.6286431 , -0.19723426],\n",
       "       [-0.44232205, -0.79279726,  0.32883123,  0.26018019],\n",
       "       [-0.47429412,  0.60227868,  0.54335749,  0.34215219],\n",
       "       [-0.1476386 , -0.0206288 ,  0.44882124, -0.88109976]])"
      ]
     },
     "execution_count": 104,
     "metadata": {},
     "output_type": "execute_result"
    }
   ],
   "source": [
    "comp"
   ]
  },
  {
   "cell_type": "code",
   "execution_count": 87,
   "metadata": {},
   "outputs": [
    {
     "data": {
      "text/plain": [
       "259.3333333333333"
      ]
     },
     "execution_count": 87,
     "metadata": {},
     "output_type": "execute_result"
    }
   ],
   "source": [
    "\n"
   ]
  }
 ],
 "metadata": {
  "kernelspec": {
   "display_name": "Python 3",
   "language": "python",
   "name": "python3"
  },
  "language_info": {
   "codemirror_mode": {
    "name": "ipython",
    "version": 3
   },
   "file_extension": ".py",
   "mimetype": "text/x-python",
   "name": "python",
   "nbconvert_exporter": "python",
   "pygments_lexer": "ipython3",
   "version": "3.7.1"
  }
 },
 "nbformat": 4,
 "nbformat_minor": 2
}
