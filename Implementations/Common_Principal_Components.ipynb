{
 "cells": [
  {
   "cell_type": "code",
   "execution_count": null,
   "metadata": {},
   "outputs": [],
   "source": []
  },
  {
   "cell_type": "code",
   "execution_count": 140,
   "metadata": {},
   "outputs": [],
   "source": [
    "from multiview import cpcmv as cpcmv\n",
    "import numpy as np\n",
    "import matplotlib.pyplot as plt\n",
    "import pandas as pd\n",
    "from sklearn import naive_bayes, model_selection, metrics\n",
    "import matplotlib.pyplot as plt\n",
    "from sklearn.metrics import euclidean_distances\n",
    "import re\n",
    "\n",
    "\n",
    "\n",
    "data_set = pd.read_excel('D:/Datasets/Banking.xlsx', header = 0)\n",
    "\n",
    "\n",
    "\n"
   ]
  },
  {
   "cell_type": "code",
   "execution_count": 141,
   "metadata": {},
   "outputs": [],
   "source": [
    "genuine = data_set[data_set['Status']==0]\n",
    "counterfeit = data_set[data_set['Status']==1]\n",
    "\n",
    "genuine = genuine.loc[:,genuine.columns != 'Status']\n",
    "counterfeit = counterfeit.loc[:,counterfeit.columns != 'Status']\n",
    "\n",
    "\n"
   ]
  },
  {
   "cell_type": "code",
   "execution_count": 142,
   "metadata": {},
   "outputs": [],
   "source": [
    "genuine_cov = np.cov(genuine.T)\n",
    "counterfeit_cov = np.cov(counterfeit.T)"
   ]
  },
  {
   "cell_type": "code",
   "execution_count": 143,
   "metadata": {},
   "outputs": [
    {
     "data": {
      "text/plain": [
       "(2, 6, 6)"
      ]
     },
     "execution_count": 143,
     "metadata": {},
     "output_type": "execute_result"
    }
   ],
   "source": [
    "t = np.array([genuine_cov,counterfeit_cov])\n",
    "\n",
    "t.shape"
   ]
  },
  {
   "cell_type": "code",
   "execution_count": 146,
   "metadata": {},
   "outputs": [
    {
     "name": "stdout",
     "output_type": "stream",
     "text": [
      "[[0.66127471 1.50107201]\n",
      " [0.17646271 0.31747011]\n",
      " [0.34858864 0.11849525]\n",
      " [0.12928581 0.22733228]\n",
      " [0.08516157 0.08540741]\n",
      " [0.04251141 0.02520577]]\n"
     ]
    }
   ],
   "source": [
    "k = 6 # number of features\n",
    "n = p = len(genuine_cov)\n",
    "n_num = np.array([n] * n)/np.sum(np.array([n] * n))\n",
    "views = 2 \n",
    "\n",
    "iter2 = 30\n",
    "\n",
    "D = np.zeros((k,views))\n",
    "Eigvec = np.zeros((p,k)) #got to think about what happens after \n",
    "pi = np.eye(p)\n",
    "\n",
    "s = np.zeros((p,p))\n",
    "\n",
    "#make a for loop for script\n",
    "\n",
    "s = s + ((n_num[0]) * genuine_cov)\n",
    "s = s + ((n_num[0]) * counterfeit_cov)\n",
    "\n",
    "e1,e2 = np.linalg.eigh(s)\n",
    "\n",
    "q0 = e2[:,::-1]\n",
    "for i in np.arange(k):\n",
    "    q = q0[:,i]\n",
    "    q = np.array(q0[:,i]).reshape(len(q),1)\n",
    "    d = np.zeros((1,views))\n",
    "    \n",
    "    d[:,0] = np.dot(np.dot(q.T,genuine_cov),q)\n",
    "    d[:,1] = np.dot(np.dot(q.T,counterfeit_cov),q)\n",
    "    \n",
    "    \n",
    "    #iterating part grabbed from r script\n",
    "    \n",
    "    for j in np.arange(iter2):\n",
    "        s2 = np.zeros_like(s)\n",
    "        \n",
    "        s2 = s2 + (n_num[0] * genuine_cov / d[:,0])\n",
    "        s2 = s2 + (n_num[1] * counterfeit_cov / d[:,1])\n",
    "        \n",
    "        w = np.dot(pi,np.dot(s2,q)) #pi is the identity\n",
    "        \n",
    "        \n",
    "        xvec = w/ np.sqrt(np.dot(w.T,w))\n",
    "        \n",
    "        d[:,0] = np.dot(np.dot(xvec.T,genuine_cov),xvec)\n",
    "        d[:,1] = np.dot(np.dot(xvec.T,counterfeit_cov),xvec)\n",
    "\n",
    "    D[i,:] = d\n",
    "    Eigvec[:,i] = xvec[:,0]\n",
    "    pi = pi - np.dot(xvec,xvec.T)\n",
    "\n",
    "print(D)  #eigenvalues"
   ]
  },
  {
   "cell_type": "code",
   "execution_count": 23,
   "metadata": {},
   "outputs": [
    {
     "data": {
      "text/plain": [
       "array([[0.26643265, 0.08518367, 0.18289796, 0.05577959],\n",
       "       [0.08518367, 0.09846939, 0.08265306, 0.04120408],\n",
       "       [0.18289796, 0.08265306, 0.22081633, 0.07310204],\n",
       "       [0.05577959, 0.04120408, 0.07310204, 0.03910612]])"
      ]
     },
     "execution_count": 23,
     "metadata": {},
     "output_type": "execute_result"
    }
   ],
   "source": [
    "\n",
    "#check this next week\n",
    "\n",
    "\n",
    "from sklearn import datasets\n",
    "\n",
    "iris = datasets.load_iris()\n",
    "X = iris.data # we only take the first two features.\n",
    "y = iris.target\n",
    "\n",
    "tot = pd.DataFrame(data = np.c_[X,y], columns = iris['feature_names'] + ['target'])\n",
    "\n",
    "\n",
    "versicolour = tot[tot['target'] == 1]\n",
    "\n",
    "virginica = tot[tot['target'] == 2]\n",
    "\n",
    "versicolour_data = versicolour.loc[:,versicolour.columns != 'target']\n",
    "\n",
    "virginica_data = virginica.loc[:,virginica.columns != 'target']\n",
    "\n",
    "\n",
    "np.cov(versicolour_data.T)\n"
   ]
  }
 ],
 "metadata": {
  "kernelspec": {
   "display_name": "Python 3",
   "language": "python",
   "name": "python3"
  },
  "language_info": {
   "codemirror_mode": {
    "name": "ipython",
    "version": 3
   },
   "file_extension": ".py",
   "mimetype": "text/x-python",
   "name": "python",
   "nbconvert_exporter": "python",
   "pygments_lexer": "ipython3",
   "version": "3.7.1"
  }
 },
 "nbformat": 4,
 "nbformat_minor": 2
}
