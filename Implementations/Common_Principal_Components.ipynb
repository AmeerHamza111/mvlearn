{
 "cells": [
  {
   "cell_type": "code",
   "execution_count": 192,
   "metadata": {},
   "outputs": [],
   "source": [
    "from multiview import cpcmv as cpcmv\n",
    "import numpy as np\n",
    "import matplotlib.pyplot as plt\n",
    "import pandas as pd\n",
    "from sklearn import naive_bayes, model_selection, metrics\n",
    "import matplotlib.pyplot as plt\n",
    "from sklearn.metrics import euclidean_distances\n",
    "import re\n",
    "\n",
    "import scipy.sparse.linalg as sparse\n",
    "\n",
    "\n",
    "data_set = pd.read_excel('D:/Datasets/Banking.xlsx', header = 0)\n",
    "\n",
    "\n",
    "\n"
   ]
  },
  {
   "cell_type": "code",
   "execution_count": 193,
   "metadata": {},
   "outputs": [],
   "source": [
    "genuine = data_set[data_set['Status']==0]\n",
    "counterfeit = data_set[data_set['Status']==1]\n",
    "\n",
    "genuine = genuine.loc[:,genuine.columns != 'Status']\n",
    "counterfeit = counterfeit.loc[:,counterfeit.columns != 'Status']\n",
    "\n",
    "\n"
   ]
  },
  {
   "cell_type": "code",
   "execution_count": 194,
   "metadata": {},
   "outputs": [],
   "source": [
    "genuine_cov = np.cov(genuine.T)\n",
    "counterfeit_cov = np.cov(counterfeit.T)"
   ]
  },
  {
   "cell_type": "code",
   "execution_count": 195,
   "metadata": {},
   "outputs": [
    {
     "data": {
      "text/plain": [
       "array([0.5, 0.5])"
      ]
     },
     "execution_count": 195,
     "metadata": {},
     "output_type": "execute_result"
    }
   ],
   "source": [
    "t = np.array([genuine_cov,counterfeit_cov])\n",
    "\n",
    "n = len(t[0])\n",
    "np.array([n] * n)\n",
    "\n",
    "#np.array([n] * t.shape[0])/np.sum(np.array([n] * t.shape[0]))\n",
    "\n",
    "n_g = np.array([t.shape[1]] * t.shape[0])\n",
    "\n",
    "n = n_g/np.sum(n_g)\n",
    "n = len(t[0])\n",
    "\n",
    "views = 2\n",
    "\n",
    "n_num = np.array([n] * views)/np.sum(np.array([n] * views))\n",
    "n_num"
   ]
  },
  {
   "cell_type": "code",
   "execution_count": 199,
   "metadata": {},
   "outputs": [],
   "source": [
    "k = 4\n",
    "\n",
    "t = np.array([genuine_cov,counterfeit_cov])\n",
    "it = 15\n",
    "\n",
    "def cpc(k,x):\n",
    "    \n",
    "    n = p = x.shape[1]\n",
    "    \n",
    "    views = len(x)\n",
    "\n",
    "    n_num = np.array([n] * views)/np.sum(np.array([n] * views))\n",
    "\n",
    "\n",
    "    D = np.zeros((k,views))\n",
    "    Eigvec = np.zeros((p,k)) \n",
    "    \n",
    "    pi = np.eye(p)\n",
    "\n",
    "    s = np.zeros((p,p))\n",
    "    it = 15\n",
    "    \n",
    "\n",
    "    #make a for loop for script\n",
    "    for i in np.arange(views):\n",
    "        s = s + (n_num[i] * x[i])\n",
    "        \n",
    "        \n",
    "    e1,e2 = np.linalg.eigh(s)\n",
    "    \n",
    "    \n",
    "    q0 = e2[:,::-1] \n",
    "    \n",
    "    \n",
    "    for i in np.arange(k):\n",
    "        \n",
    "        q = q0[:,i]\n",
    "        q = np.array(q).reshape(len(q),1)\n",
    "        d = np.zeros((1,views))\n",
    "    \n",
    "        for j in np.arange(views):\n",
    "        \n",
    "            d[:,j] = np.dot(np.dot(q.T,x[j]),q)\n",
    "    \n",
    "    \n",
    "    \n",
    "    \n",
    "        for j in np.arange(it):\n",
    "            s2 = np.zeros((p,p))\n",
    "        \n",
    "            for yy in np.arange(views):\n",
    "                s2 = s2 + (n_num[yy]*np.sum(np.array([n] * views)) * x[yy] / d[:,yy])\n",
    "         \n",
    "        \n",
    "            w = np.dot(s2,q) \n",
    "                \n",
    "            w = np.dot(pi,w)\n",
    "        \n",
    "            q = w/ np.sqrt(np.dot(w.T,w))\n",
    "        \n",
    "            for yy in np.arange(views):\n",
    "                \n",
    "                d[:,yy] = np.dot(np.dot(q.T,x[yy]),q)\n",
    "            \n",
    "        D[i,:] = d\n",
    "        Eigvec[:,i] = q[:,0]\n",
    "        pi = pi - np.dot(q,q.T)\n",
    "\n",
    "\n",
    "    return(Eigvec)\n",
    "#print(D)  #eigenvalues"
   ]
  },
  {
   "cell_type": "code",
   "execution_count": 214,
   "metadata": {},
   "outputs": [],
   "source": [
    "def cpc(k,x):\n",
    "    \n",
    "    n = p = x.shape[1]\n",
    "    \n",
    "    views = len(x)\n",
    "\n",
    "    n_num = np.array([n] * views)/np.sum(np.array([n] * views))\n",
    "\n",
    "    Eigvec = np.zeros((p,k)) \n",
    "    \n",
    "    pi = np.eye(p)\n",
    "\n",
    "    s = np.zeros((p,p))\n",
    "    it = 15\n",
    "    \n",
    "\n",
    "    #make a for loop for script\n",
    "    for i in np.arange(views):\n",
    "        s = s + (n_num[i] * x[i])\n",
    "        \n",
    "        \n",
    "    e1,e2 = np.linalg.eigh(s)\n",
    "    \n",
    "    \n",
    "    q0 = e2[:,::-1] \n",
    "    \n",
    "    \n",
    "    for i in np.arange(k):\n",
    "        \n",
    "        q = q0[:,i]\n",
    "        q = np.array(q).reshape(len(q),1)\n",
    "        d = np.zeros((1,views))\n",
    "    \n",
    "        for j in np.arange(views):\n",
    "        \n",
    "            d[:,j] = np.dot(np.dot(q.T,x[j]),q)\n",
    "     \n",
    "    \n",
    "        for j in np.arange(it):\n",
    "            s2 = np.zeros((p,p))\n",
    "        \n",
    "            for yy in np.arange(views):\n",
    "                s2 = s2 + (n_num[yy]*np.sum(np.array([n] * views)) * x[yy] / d[:,yy])\n",
    "         \n",
    "        \n",
    "            w = np.dot(s2,q) \n",
    "                \n",
    "            w = np.dot(pi,w)\n",
    "        \n",
    "            q = w/ np.sqrt(np.dot(w.T,w))\n",
    "        \n",
    "            for yy in np.arange(views):\n",
    "                \n",
    "                d[:,yy] = np.dot(np.dot(q.T,x[yy]),q)\n",
    "            \n",
    "        Eigvec[:,i] = q[:,0]\n",
    "        pi = pi - np.dot(q,q.T)\n",
    "\n",
    "\n",
    "    return(Eigvec)\n"
   ]
  },
  {
   "cell_type": "code",
   "execution_count": 204,
   "metadata": {},
   "outputs": [
    {
     "data": {
      "text/plain": [
       "array([[ 6.04619850e-04, -3.68775504e-01,  3.32212702e-01,\n",
       "         4.63777792e-01, -7.28022756e-01, -9.23688757e-02],\n",
       "       [ 8.05815300e-03, -3.05693291e-01,  4.46111952e-01,\n",
       "         1.15866236e-01,  3.35484880e-01,  7.62558663e-01],\n",
       "       [ 2.02613240e-02, -3.79477730e-01,  3.53790081e-01,\n",
       "         1.82146491e-01,  5.49486671e-01, -6.28733460e-01],\n",
       "       [ 8.19592081e-01, -2.49559607e-01,  9.46819497e-02,\n",
       "        -4.87367556e-01, -1.36359603e-01, -3.00512174e-02],\n",
       "       [-5.56425122e-01, -5.18062777e-01, -2.15442301e-02,\n",
       "        -6.31813842e-01, -1.46726474e-01, -2.86443704e-02],\n",
       "       [ 1.34848374e-01, -5.43952069e-01, -7.45669230e-01,\n",
       "         3.18734944e-01,  1.23994197e-01,  1.13767026e-01]])"
      ]
     },
     "execution_count": 204,
     "metadata": {},
     "output_type": "execute_result"
    }
   ],
   "source": [
    "it = 30\n",
    "k = 6\n",
    "cpc(k,t)"
   ]
  },
  {
   "cell_type": "code",
   "execution_count": 207,
   "metadata": {},
   "outputs": [
    {
     "data": {
      "text/plain": [
       "(50, 4)"
      ]
     },
     "execution_count": 207,
     "metadata": {},
     "output_type": "execute_result"
    }
   ],
   "source": [
    "\n",
    "#check this next week\n",
    "\n",
    "\n",
    "from sklearn import datasets\n",
    "\n",
    "iris = datasets.load_iris()\n",
    "X = iris.data # we only take the first two features.\n",
    "y = iris.target\n",
    "\n",
    "tot = pd.DataFrame(data = np.c_[X,y], columns = iris['feature_names'] + ['target'])\n",
    "\n",
    "setosa = tot[tot['target'] == 0]\n",
    "\n",
    "\n",
    "versicolour = tot[tot['target'] == 1]\n",
    "\n",
    "virginica = tot[tot['target'] == 2]\n",
    "\n",
    "\n",
    "setosa_data = setosa.loc[:,setosa.columns != 'target']\n",
    "\n",
    "versicolour_data = versicolour.loc[:,versicolour.columns != 'target']\n",
    "\n",
    "virginica_data = virginica.loc[:,virginica.columns != 'target']\n",
    "\n",
    "\n",
    "setosa_cov = np.cov(setosa_data.T)\n",
    "\n",
    "versicolour_cov = np.cov(versicolour_data.T)\n",
    "\n",
    "virginica_cov = np.cov(virginica_data.T)\n",
    "\n",
    "t = np.array([setosa_cov,versicolour_cov,virginica_cov])\n",
    "\n",
    "virginica_data.shape"
   ]
  },
  {
   "cell_type": "code",
   "execution_count": 208,
   "metadata": {},
   "outputs": [
    {
     "data": {
      "text/plain": [
       "array([[-0.74672561,  0.0911447 , -0.6286431 , -0.19723426],\n",
       "       [-0.44232205, -0.79279726,  0.32883123,  0.26018019],\n",
       "       [-0.47429412,  0.60227868,  0.54335749,  0.34215219],\n",
       "       [-0.1476386 , -0.0206288 ,  0.44882124, -0.88109976]])"
      ]
     },
     "execution_count": 208,
     "metadata": {},
     "output_type": "execute_result"
    }
   ],
   "source": [
    "k = 4\n",
    "\n",
    "\n",
    "j = cpc(k,t)\n",
    "\n",
    "fit = cpcmv.MVCPC(k = 4).fit_transform(t)\n",
    "\n",
    "comp = fit[1]\n",
    "\n",
    "comp"
   ]
  },
  {
   "cell_type": "code",
   "execution_count": 209,
   "metadata": {},
   "outputs": [
    {
     "data": {
      "text/plain": [
       "array([[-0.74672561,  0.0911447 , -0.6286431 , -0.19723426],\n",
       "       [-0.44232205, -0.79279726,  0.32883123,  0.26018019],\n",
       "       [-0.47429412,  0.60227868,  0.54335749,  0.34215219],\n",
       "       [-0.1476386 , -0.0206288 ,  0.44882124, -0.88109976]])"
      ]
     },
     "execution_count": 209,
     "metadata": {},
     "output_type": "execute_result"
    }
   ],
   "source": [
    "j"
   ]
  },
  {
   "cell_type": "code",
   "execution_count": 212,
   "metadata": {},
   "outputs": [
    {
     "data": {
      "text/plain": [
       "array([[-0.45139369,  0.88875921, -0.07969196],\n",
       "       [-0.55811719, -0.35088538, -0.75192065],\n",
       "       [-0.69623914, -0.29493478,  0.65441923]])"
      ]
     },
     "execution_count": 212,
     "metadata": {},
     "output_type": "execute_result"
    }
   ],
   "source": [
    "k = 3\n",
    "x = np.array([[[2, 1, 8], [4, 5, 6], [3, 7, 9]],\n",
    "                      [[1, 4, 7], [2, 5, 8], [3, 6, 9]]])\n",
    "\n",
    "bb = cpc(k,x)\n",
    "\n",
    "fit4 = cpcmv.MVCPC(k = 3).fit_transform(x)\n",
    "\n",
    "\n",
    "bb\n",
    "\n"
   ]
  },
  {
   "cell_type": "code",
   "execution_count": 213,
   "metadata": {},
   "outputs": [
    {
     "data": {
      "text/plain": [
       "array([[-0.45139369,  0.88875921, -0.07969196],\n",
       "       [-0.55811719, -0.35088538, -0.75192065],\n",
       "       [-0.69623914, -0.29493478,  0.65441923]])"
      ]
     },
     "execution_count": 213,
     "metadata": {},
     "output_type": "execute_result"
    }
   ],
   "source": [
    "fit4[1]"
   ]
  }
 ],
 "metadata": {
  "kernelspec": {
   "display_name": "Python 3",
   "language": "python",
   "name": "python3"
  },
  "language_info": {
   "codemirror_mode": {
    "name": "ipython",
    "version": 3
   },
   "file_extension": ".py",
   "mimetype": "text/x-python",
   "name": "python",
   "nbconvert_exporter": "python",
   "pygments_lexer": "ipython3",
   "version": "3.7.1"
  }
 },
 "nbformat": 4,
 "nbformat_minor": 2
}
