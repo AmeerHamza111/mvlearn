{
 "cells": [
  {
   "cell_type": "code",
   "execution_count": 17,
   "metadata": {},
   "outputs": [],
   "source": [
    "import numpy as np\n",
    "import pandas as pd\n",
    "from pathlib import Path\n",
    "from scipy.io import loadmat\n",
    "import os\n",
    "from graspy.plot import heatmap\n",
    "import matplotlib.pyplot as plt\n",
    "%matplotlib inline \n",
    "from tqdm import tqdm"
   ]
  },
  {
   "cell_type": "code",
   "execution_count": 79,
   "metadata": {},
   "outputs": [],
   "source": [
    "data_dir = Path('/mnt/c/Users/Ronan Perry/Documents/JHU/jovo-lab/multiview/data')\n",
    "embed_dir = data_dir / 'embedding'\n",
    "\n",
    "fmri_dir = data_dir / 'raw' / 'fMRI' / 'REST_Data'\n",
    "fmri_metadata_path = data_dir / 'raw' / 'fMRI' / 'SubjectsIDs_Schaefer_rest_Alone.csv'\n",
    "\n",
    "sc_dir = data_dir / 'raw' / 'structural' / 'Deterministic_FA'\n",
    "sc_metadata_path = data_dir / 'raw' / 'structural' / 'SubjectsIDs_Schaefer_Diffusion.csv'\n",
    "\n",
    "demographics_path = data_dir / 'raw' / 'Demographics_MedicalFilter.csv'\n",
    "clinical_path = data_dir / 'raw' / 'Cognitive_MedicalFilter.csv'\n",
    "schaefer_coords_path = data_dir / 'supplementary' / 'Schaefer2018_400Parcels_17Networks_order.txt'\n",
    "\n",
    "bblids_filtered_path = data_dir / 'filtered_matched_bblids.csv'"
   ]
  },
  {
   "cell_type": "code",
   "execution_count": 3,
   "metadata": {},
   "outputs": [],
   "source": [
    "timestamp = 'T=336-11_31'#'T=319-11_24'\n",
    "proj_mat_files = [f'fmri_gcca_projection_mat_{timestamp}.csv', f'sc_gcca_projection_mat_{timestamp}.csv', f'clinical_gcca_projection_mat_{timestamp}.csv']"
   ]
  },
  {
   "cell_type": "code",
   "execution_count": 26,
   "metadata": {},
   "outputs": [],
   "source": [
    "proj_mats = [np.genfromtxt(embed_dir / file, delimiter=',') for file in proj_mat_files]"
   ]
  },
  {
   "cell_type": "code",
   "execution_count": 27,
   "metadata": {},
   "outputs": [],
   "source": [
    "def ut2mat(ut, n=400):\n",
    "    uidx = np.triu_indices(n)\n",
    "    mat = np.zeros((n,n))\n",
    "    mat[uidx] = ut\n",
    "    diag = np.diagonal(mat).copy()\n",
    "    mat += mat.T\n",
    "    return(mat - np.diag(diag))"
   ]
  },
  {
   "cell_type": "code",
   "execution_count": 28,
   "metadata": {},
   "outputs": [],
   "source": [
    "for i in [0,1]:\n",
    "    proj_mats[i] = np.array([ut2mat(ut) for ut in proj_mats[i].T])\n",
    "    proj_mats[i] = proj_mats[i].reshape((proj_mats[i].shape[0],-1))\n",
    "    \n",
    "proj_mats[2] = proj_mats[2].T"
   ]
  },
  {
   "cell_type": "markdown",
   "metadata": {},
   "source": [
    "### Load Metadata"
   ]
  },
  {
   "cell_type": "code",
   "execution_count": 15,
   "metadata": {},
   "outputs": [],
   "source": [
    "fmri_metadata = pd.read_csv(fmri_metadata_path)\n",
    "sc_metadata = pd.read_csv(sc_metadata_path)\n",
    "demographics = pd.read_csv(demographics_path)\n",
    "clinical_scores = pd.read_csv(clinical_path)"
   ]
  },
  {
   "cell_type": "code",
   "execution_count": 18,
   "metadata": {},
   "outputs": [],
   "source": [
    "fmri_files = [f for f in os.listdir(fmri_dir)]\n",
    "fmri_ids = [f.split('_')[0] for f in os.listdir(fmri_dir)]\n",
    "fmri_bblids = [fmri_metadata.query(f'scanid == {idx}')['bblid'].iloc[0] for idx in fmri_ids]"
   ]
  },
  {
   "cell_type": "code",
   "execution_count": 19,
   "metadata": {},
   "outputs": [],
   "source": [
    "names = None\n",
    "sc_bblids = [int(f.split('_')[0]) for f in os.listdir(sc_dir)]\n",
    "sc_files = [f for f in os.listdir(sc_dir)]\n",
    "\n",
    "#for f in os.listdir(sc_dir):\n",
    "#    # one-liner to read a single variable\n",
    "#    names = loadmat(sc_dir / f)['name'][0]\n",
    "#    sc_files.append(loadmat(sc_dir / f)['connectivity'])"
   ]
  },
  {
   "cell_type": "code",
   "execution_count": 20,
   "metadata": {},
   "outputs": [],
   "source": [
    "def get_matched_indices(x,y):\n",
    "    \"\"\"\n",
    "    Returns indices of all shared elements of two lists\n",
    "    \"\"\"\n",
    "    matches = set(x).intersection(set(y))\n",
    "    return(([x.index(i) for i in matches], [y.index(i) for i in matches]))"
   ]
  },
  {
   "cell_type": "code",
   "execution_count": 21,
   "metadata": {},
   "outputs": [],
   "source": [
    "idx_fmri, idx_sc = get_matched_indices(fmri_bblids, sc_bblids)"
   ]
  },
  {
   "cell_type": "code",
   "execution_count": 84,
   "metadata": {},
   "outputs": [],
   "source": [
    "bblids_filtered = np.genfromtxt(bblids_filtered_path)"
   ]
  },
  {
   "cell_type": "code",
   "execution_count": 93,
   "metadata": {},
   "outputs": [
    {
     "name": "stdout",
     "output_type": "stream",
     "text": [
      "There are 0 mismatches\n"
     ]
    }
   ],
   "source": [
    "fmri_mats_matched = [fmri_files[i] for i in idx_fmri]\n",
    "fmri_bblids_matched = [fmri_bblids[i] for i in idx_fmri]\n",
    "\n",
    "sc_mats_matched = [sc_files[i] for i in idx_sc]\n",
    "sc_bblids_matched = [sc_bblids[i] for i in idx_sc]\n",
    "\n",
    "print(f'There are {len(np.where(not sc_bblids_matched == fmri_bblids_matched)[0])} mismatches')\n",
    "\n",
    "bblids = sc_bblids_matched"
   ]
  },
  {
   "cell_type": "code",
   "execution_count": 34,
   "metadata": {},
   "outputs": [],
   "source": [
    "#clinical_scores_matched = np.array([clinical_scores.query(f'bblid == {bblid}').to_numpy()[0,3:-6] for bblid in bblids_filtered])"
   ]
  },
  {
   "cell_type": "code",
   "execution_count": 87,
   "metadata": {},
   "outputs": [],
   "source": [
    "fmri_dict = {int(f.split('_')[0]): f for f in os.listdir(fmri_dir)}\n",
    "sc_dict = {int(f.split('_')[0]): f for f in os.listdir(sc_dir)}"
   ]
  },
  {
   "cell_type": "code",
   "execution_count": 90,
   "metadata": {},
   "outputs": [
    {
     "ename": "KeyError",
     "evalue": "80010",
     "output_type": "error",
     "traceback": [
      "\u001b[0;31m---------------------------------------------------------------------------\u001b[0m",
      "\u001b[0;31mKeyError\u001b[0m                                  Traceback (most recent call last)",
      "\u001b[0;32m<ipython-input-90-0569aee2477f>\u001b[0m in \u001b[0;36m<module>\u001b[0;34m\u001b[0m\n\u001b[1;32m      5\u001b[0m \u001b[0;32mfor\u001b[0m \u001b[0mbblid\u001b[0m \u001b[0;32min\u001b[0m \u001b[0mbblids_filtered\u001b[0m\u001b[0;34m:\u001b[0m\u001b[0;34m\u001b[0m\u001b[0;34m\u001b[0m\u001b[0m\n\u001b[1;32m      6\u001b[0m     \u001b[0mbblid\u001b[0m \u001b[0;34m=\u001b[0m \u001b[0mint\u001b[0m\u001b[0;34m(\u001b[0m\u001b[0mbblid\u001b[0m\u001b[0;34m)\u001b[0m\u001b[0;34m\u001b[0m\u001b[0;34m\u001b[0m\u001b[0m\n\u001b[0;32m----> 7\u001b[0;31m     subj0 = [np.genfromtxt(fmri_dir / fmri_dict[bblid], delimiter=','),\n\u001b[0m\u001b[1;32m      8\u001b[0m              \u001b[0mnp\u001b[0m\u001b[0;34m.\u001b[0m\u001b[0mgenfromtxt\u001b[0m\u001b[0;34m(\u001b[0m\u001b[0msc_dir\u001b[0m \u001b[0;34m/\u001b[0m \u001b[0msc_dict\u001b[0m\u001b[0;34m[\u001b[0m\u001b[0mbblid\u001b[0m\u001b[0;34m]\u001b[0m\u001b[0;34m,\u001b[0m \u001b[0mdelimiter\u001b[0m\u001b[0;34m=\u001b[0m\u001b[0;34m','\u001b[0m\u001b[0;34m)\u001b[0m\u001b[0;34m,\u001b[0m\u001b[0;34m\u001b[0m\u001b[0;34m\u001b[0m\u001b[0m\n\u001b[1;32m      9\u001b[0m              clinical_scores.query(f'bblid == {bblid}').to_numpy()[0,3:-6]]\n",
      "\u001b[0;31mKeyError\u001b[0m: 80010"
     ]
    }
   ],
   "source": [
    "component = 0\n",
    "\n",
    "latents = []\n",
    "\n",
    "for bblid in bblids_filtered:\n",
    "    bblid = int(bblid)\n",
    "    subj0 = [np.genfromtxt(fmri_dir / fmri_dict[bblid], delimiter=','),\n",
    "             np.genfromtxt(sc_dir / sc_dict[bblid], delimiter=','),\n",
    "             clinical_scores.query(f'bblid == {bblid}').to_numpy()[0,3:-6]]\n",
    "    subj0_hat = [view @ proj[component,:] for view,proj in zip(subj0, proj_mats)]\n",
    "    latents.append(subj0_hat)"
   ]
  },
  {
   "cell_type": "code",
   "execution_count": 70,
   "metadata": {},
   "outputs": [],
   "source": [
    "latent2 = np.array(latents)"
   ]
  },
  {
   "cell_type": "code",
   "execution_count": 73,
   "metadata": {},
   "outputs": [],
   "source": [
    "latent2 = latent2.T"
   ]
  },
  {
   "cell_type": "code",
   "execution_count": 74,
   "metadata": {},
   "outputs": [
    {
     "data": {
      "text/plain": [
       "array([[1.        , 0.21491945,        nan],\n",
       "       [0.21491945, 1.        ,        nan],\n",
       "       [       nan,        nan,        nan]])"
      ]
     },
     "execution_count": 74,
     "metadata": {},
     "output_type": "execute_result"
    }
   ],
   "source": [
    "np.corrcoef(latent2)"
   ]
  },
  {
   "cell_type": "code",
   "execution_count": 78,
   "metadata": {},
   "outputs": [
    {
     "data": {
      "text/plain": [
       "926"
      ]
     },
     "execution_count": 78,
     "metadata": {},
     "output_type": "execute_result"
    }
   ],
   "source": [
    "len(bblids)"
   ]
  },
  {
   "cell_type": "code",
   "execution_count": 94,
   "metadata": {},
   "outputs": [],
   "source": [
    "corrcoeffs = [[1,0.221,0.169],[0.221,1,0.240],[0.169,0.240,1]]"
   ]
  },
  {
   "cell_type": "code",
   "execution_count": null,
   "metadata": {},
   "outputs": [],
   "source": []
  }
 ],
 "metadata": {
  "kernelspec": {
   "display_name": "Python [conda env:root] *",
   "language": "python",
   "name": "conda-root-py"
  },
  "language_info": {
   "codemirror_mode": {
    "name": "ipython",
    "version": 3
   },
   "file_extension": ".py",
   "mimetype": "text/x-python",
   "name": "python",
   "nbconvert_exporter": "python",
   "pygments_lexer": "ipython3",
   "version": "3.7.3"
  }
 },
 "nbformat": 4,
 "nbformat_minor": 2
}
