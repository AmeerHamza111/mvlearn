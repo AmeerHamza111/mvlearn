{
 "cells": [
  {
   "cell_type": "code",
   "execution_count": 183,
   "metadata": {},
   "outputs": [],
   "source": [
    "from multiview.embed import gcca\n",
    "import numpy as np\n",
    "from scipy.sparse.linalg import svds\n",
    "from scipy.linalg import orth\n",
    "import matplotlib.pyplot as plt\n",
    "%matplotlib inline"
   ]
  },
  {
   "cell_type": "code",
   "execution_count": 98,
   "metadata": {},
   "outputs": [],
   "source": [
    "n = 100\n",
    "m = 10\n",
    "X = np.random.normal(0,10,size=(n,m))\n",
    "a = np.array([2,3,5]).reshape(1,3)\n",
    "X[:,:3] += np.arange(n).reshape(100,1) @ a\n"
   ]
  },
  {
   "cell_type": "code",
   "execution_count": 105,
   "metadata": {},
   "outputs": [
    {
     "name": "stdout",
     "output_type": "stream",
     "text": [
      "Help on built-in function multivariate_normal:\n",
      "\n",
      "multivariate_normal(...) method of numpy.random.mtrand.RandomState instance\n",
      "    multivariate_normal(mean, cov, size=None, check_valid='warn', tol=1e-8)\n",
      "    \n",
      "    Draw random samples from a multivariate normal distribution.\n",
      "    \n",
      "    The multivariate normal, multinormal or Gaussian distribution is a\n",
      "    generalization of the one-dimensional normal distribution to higher\n",
      "    dimensions.  Such a distribution is specified by its mean and\n",
      "    covariance matrix.  These parameters are analogous to the mean\n",
      "    (average or \"center\") and variance (standard deviation, or \"width,\"\n",
      "    squared) of the one-dimensional normal distribution.\n",
      "    \n",
      "    Parameters\n",
      "    ----------\n",
      "    mean : 1-D array_like, of length N\n",
      "        Mean of the N-dimensional distribution.\n",
      "    cov : 2-D array_like, of shape (N, N)\n",
      "        Covariance matrix of the distribution. It must be symmetric and\n",
      "        positive-semidefinite for proper sampling.\n",
      "    size : int or tuple of ints, optional\n",
      "        Given a shape of, for example, ``(m,n,k)``, ``m*n*k`` samples are\n",
      "        generated, and packed in an `m`-by-`n`-by-`k` arrangement.  Because\n",
      "        each sample is `N`-dimensional, the output shape is ``(m,n,k,N)``.\n",
      "        If no shape is specified, a single (`N`-D) sample is returned.\n",
      "    check_valid : { 'warn', 'raise', 'ignore' }, optional\n",
      "        Behavior when the covariance matrix is not positive semidefinite.\n",
      "    tol : float, optional\n",
      "        Tolerance when checking the singular values in covariance matrix.\n",
      "        cov is cast to double before the check.\n",
      "    \n",
      "    Returns\n",
      "    -------\n",
      "    out : ndarray\n",
      "        The drawn samples, of shape *size*, if that was provided.  If not,\n",
      "        the shape is ``(N,)``.\n",
      "    \n",
      "        In other words, each entry ``out[i,j,...,:]`` is an N-dimensional\n",
      "        value drawn from the distribution.\n",
      "    \n",
      "    Notes\n",
      "    -----\n",
      "    The mean is a coordinate in N-dimensional space, which represents the\n",
      "    location where samples are most likely to be generated.  This is\n",
      "    analogous to the peak of the bell curve for the one-dimensional or\n",
      "    univariate normal distribution.\n",
      "    \n",
      "    Covariance indicates the level to which two variables vary together.\n",
      "    From the multivariate normal distribution, we draw N-dimensional\n",
      "    samples, :math:`X = [x_1, x_2, ... x_N]`.  The covariance matrix\n",
      "    element :math:`C_{ij}` is the covariance of :math:`x_i` and :math:`x_j`.\n",
      "    The element :math:`C_{ii}` is the variance of :math:`x_i` (i.e. its\n",
      "    \"spread\").\n",
      "    \n",
      "    Instead of specifying the full covariance matrix, popular\n",
      "    approximations include:\n",
      "    \n",
      "      - Spherical covariance (`cov` is a multiple of the identity matrix)\n",
      "      - Diagonal covariance (`cov` has non-negative elements, and only on\n",
      "        the diagonal)\n",
      "    \n",
      "    This geometrical property can be seen in two dimensions by plotting\n",
      "    generated data-points:\n",
      "    \n",
      "    >>> mean = [0, 0]\n",
      "    >>> cov = [[1, 0], [0, 100]]  # diagonal covariance\n",
      "    \n",
      "    Diagonal covariance means that points are oriented along x or y-axis:\n",
      "    \n",
      "    >>> import matplotlib.pyplot as plt\n",
      "    >>> x, y = np.random.multivariate_normal(mean, cov, 5000).T\n",
      "    >>> plt.plot(x, y, 'x')\n",
      "    >>> plt.axis('equal')\n",
      "    >>> plt.show()\n",
      "    \n",
      "    Note that the covariance matrix must be positive semidefinite (a.k.a.\n",
      "    nonnegative-definite). Otherwise, the behavior of this method is\n",
      "    undefined and backwards compatibility is not guaranteed.\n",
      "    \n",
      "    References\n",
      "    ----------\n",
      "    .. [1] Papoulis, A., \"Probability, Random Variables, and Stochastic\n",
      "           Processes,\" 3rd ed., New York: McGraw-Hill, 1991.\n",
      "    .. [2] Duda, R. O., Hart, P. E., and Stork, D. G., \"Pattern\n",
      "           Classification,\" 2nd ed., New York: Wiley, 2001.\n",
      "    \n",
      "    Examples\n",
      "    --------\n",
      "    >>> mean = (1, 2)\n",
      "    >>> cov = [[1, 0], [0, 1]]\n",
      "    >>> x = np.random.multivariate_normal(mean, cov, (3, 3))\n",
      "    >>> x.shape\n",
      "    (3, 3, 2)\n",
      "    \n",
      "    The following is probably true, given that 0.6 is roughly twice the\n",
      "    standard deviation:\n",
      "    \n",
      "    >>> list((x[0,0,:] - mean) < 0.6)\n",
      "    [True, True] # random\n",
      "\n"
     ]
    }
   ],
   "source": [
    "help(np.random.multivariate_normal)"
   ]
  },
  {
   "cell_type": "code",
   "execution_count": 147,
   "metadata": {},
   "outputs": [],
   "source": [
    "n = 100\n",
    "m = 10\n",
    "X1 = np.random.normal(0,1,size=(n,m))\n",
    "\n",
    "cov = np.array([[1,0.5,0],\n",
    "       [0.5, 1, 0.2],\n",
    "       [0, 0.2, 1]]) * 10\n",
    "cov = np.diag(np.ones(3))\n",
    "mu = [0,0,0]\n",
    "X1[:,:len(mu)] = np.random.multivariate_normal(mu, cov, size=(n,))\n",
    "\n",
    "m = 6\n",
    "X2 = np.random.normal(0,1,size=(n,m))\n",
    "\n",
    "cov = np.array([[0.5,-0.5,0],\n",
    "       [-0.5, 1, -0.2],\n",
    "       [0, -0.2, 2]]) * 10\n",
    "cov = np.diag(np.ones(3))\n",
    "mu = [0,0,0]\n",
    "X2[:,:len(mu)] = np.random.multivariate_normal(mu, cov, size=(n,))"
   ]
  },
  {
   "cell_type": "code",
   "execution_count": 156,
   "metadata": {},
   "outputs": [],
   "source": [
    "U,D,Vt = svds(X1)\n",
    "D = np.sort(D)[::-1]"
   ]
  },
  {
   "cell_type": "code",
   "execution_count": 157,
   "metadata": {},
   "outputs": [],
   "source": [
    "func =  gcca._select_dimension"
   ]
  },
  {
   "cell_type": "code",
   "execution_count": 158,
   "metadata": {},
   "outputs": [],
   "source": [
    "elbows, values, likelihoods = func(X=D, return_likelihoods=True)"
   ]
  },
  {
   "cell_type": "code",
   "execution_count": 159,
   "metadata": {},
   "outputs": [
    {
     "data": {
      "text/plain": [
       "[<matplotlib.lines.Line2D at 0x7f726bf60a20>]"
      ]
     },
     "execution_count": 159,
     "metadata": {},
     "output_type": "execute_result"
    },
    {
     "data": {
      "image/png": "[encoded data removed]",
      "text/plain": [
       "<Figure size 432x288 with 1 Axes>"
      ]
     },
     "metadata": {
      "needs_background": "light"
     },
     "output_type": "display_data"
    }
   ],
   "source": [
    "plt.plot(np.arange(len(D)), D/sum(D))"
   ]
  },
  {
   "cell_type": "code",
   "execution_count": 160,
   "metadata": {},
   "outputs": [
    {
     "data": {
      "text/plain": [
       "[3, 5]"
      ]
     },
     "execution_count": 160,
     "metadata": {},
     "output_type": "execute_result"
    }
   ],
   "source": [
    "elbows"
   ]
  },
  {
   "cell_type": "code",
   "execution_count": 140,
   "metadata": {},
   "outputs": [
    {
     "data": {
      "text/plain": [
       "array([0.19192119, 0.36882429, 0.53562494, 0.69708904, 0.85456477,\n",
       "       1.        ])"
      ]
     },
     "execution_count": 140,
     "metadata": {},
     "output_type": "execute_result"
    }
   ],
   "source": [
    "np.cumsum(D/sum(D))"
   ]
  },
  {
   "cell_type": "code",
   "execution_count": 112,
   "metadata": {},
   "outputs": [
    {
     "data": {
      "text/plain": [
       "[<matplotlib.lines.Line2D at 0x7f726c092a58>]"
      ]
     },
     "execution_count": 112,
     "metadata": {},
     "output_type": "execute_result"
    },
    {
     "data": {
      "image/png": "[encoded data removed]",
      "text/plain": [
       "<Figure size 432x288 with 1 Axes>"
      ]
     },
     "metadata": {
      "needs_background": "light"
     },
     "output_type": "display_data"
    }
   ],
   "source": [
    "plt.plot(np.arange(n), X[:,0])"
   ]
  },
  {
   "cell_type": "code",
   "execution_count": 178,
   "metadata": {},
   "outputs": [],
   "source": [
    "proj = gcca.GCCA().fit_transform([X1,X2], n_elbows=2)"
   ]
  },
  {
   "cell_type": "code",
   "execution_count": 177,
   "metadata": {},
   "outputs": [
    {
     "data": {
      "text/plain": [
       "(2, 100, 5)"
      ]
     },
     "execution_count": 177,
     "metadata": {},
     "output_type": "execute_result"
    }
   ],
   "source": [
    "proj.shape"
   ]
  },
  {
   "cell_type": "code",
   "execution_count": 167,
   "metadata": {},
   "outputs": [
    {
     "name": "stdout",
     "output_type": "stream",
     "text": [
      "Help on class GCCA in module multiview.embed.gcca:\n",
      "\n",
      "class GCCA(multiview.embed.base.BaseEmbed)\n",
      " |  An implementation of Generalized Canonical Correalation Analysis. Computes\n",
      " |  individual projections into a common subspace such that the correlations\n",
      " |  between pairwise projections are minimized (ie. maximize pairwise\n",
      " |  correlation). Reduces to CCA in the two sample case.\n",
      " |  \n",
      " |  See https://www.sciencedirect.com/science/article/pii/S1053811912001644?\n",
      " |  via%3Dihub\n",
      " |  for relevant details.\n",
      " |  \n",
      " |  Method resolution order:\n",
      " |      GCCA\n",
      " |      multiview.embed.base.BaseEmbed\n",
      " |      sklearn.base.BaseEstimator\n",
      " |      builtins.object\n",
      " |  \n",
      " |  Methods defined here:\n",
      " |  \n",
      " |  __init__(self)\n",
      " |      Initialize self.  See help(type(self)) for accurate signature.\n",
      " |  \n",
      " |  fit(self, Xs, fraction_var=None, sv_tolerance=None, n_components=None, n_elbows=2, tall=False)\n",
      " |      Calculates a projection from each view to a latentent space such that\n",
      " |      the sum of pariwise latent space correlations is maximized. Each view\n",
      " |      'X' is normalized and the left singular vectors of 'X^T X' are\n",
      " |      calculated using SVD. The number of singular vectors kept is determined\n",
      " |      by either the percent variance explained, a given rank threshold, or a\n",
      " |      given number of components. The singular vectors kept are concatenated\n",
      " |      and SVD of that is taken and used to calculated projections for each\n",
      " |      view.\n",
      " |      \n",
      " |      Parameters\n",
      " |      ----------\n",
      " |      Xs: list of array-likes\n",
      " |          - Xs shape: (n_views,)\n",
      " |          - Xs[i] shape: (n_samples, n_features_i)\n",
      " |          The data to fit to. Each sample will receive its own embedding.\n",
      " |      sv_tolerance : float, optional, default=None\n",
      " |          Selects the number of SVD components to keep for each view by\n",
      " |          thresholding singular values. If none, another selection\n",
      " |          method is used.\n",
      " |      n_components : int (positive), optional, default=None\n",
      " |          If ``sv_tolerance=None``, selects the number of SVD components to\n",
      " |          keep for each view. If none, another selection method is used.\n",
      " |      fraction_var : float, default=None\n",
      " |          If ``sv_tolerance=None``, and ``n_components=None``, selects the\n",
      " |          number of SVD components to keep for each view by capturing enough\n",
      " |          of the variance. If none, another selection method is used.\n",
      " |      n_elbows : int, optional, default: 2\n",
      " |          If ``fraction_var=None``, ``sv_tolerance=None``, and\n",
      " |          ``n_components=None``, then compute the optimal embedding\n",
      " |          dimension using :func:`~multiview.embed.gcca.select_dimension`.\n",
      " |          Otherwise, ignored.\n",
      " |      tall : boolean, default=False\n",
      " |          Set to true if n_samples > n_features, speeds up SVD\n",
      " |      \n",
      " |      Attributes\n",
      " |      ----------\n",
      " |      _projection_mats : list of arrays A projection matrix for each view,\n",
      " |          from the given space to the latent space self._ranks : list of ints\n",
      " |          number of left singular vectors kept for each view during the first\n",
      " |          SVD\n",
      " |  \n",
      " |  fit_transform(self, Xs, **fit_params)\n",
      " |      Fit to data, then transform it.\n",
      " |      \n",
      " |      Fits transformer to Xs optional parameters fit_params and returns a\n",
      " |      transformed version of the Xs.\n",
      " |      \n",
      " |      Parameters\n",
      " |      ----------\n",
      " |      Xs: list of array-likes\n",
      " |          - Xs shape: (n_views,)\n",
      " |          - Xs[i] shape: (n_samples, n_features_i)\n",
      " |          The data to fit to. Each sample will receive its own embedding.\n",
      " |      \n",
      " |      Returns\n",
      " |      -------\n",
      " |      Xs_transformed : array-like 2D if view_idx not None, otherwise\n",
      " |          (n_views, n_samples, n_components)\n",
      " |  \n",
      " |  transform(self, Xs, view_idx=None)\n",
      " |      Embeds data matrix(s) using the fitted projection matrices\n",
      " |      \n",
      " |      Parameters\n",
      " |      ----------\n",
      " |      Xs: list of array-likes\n",
      " |          - Xs shape: (n_views,)\n",
      " |          - Xs[i] shape: (n_samples, n_features_i)\n",
      " |          The data to embed based on the prior fit function. If\n",
      " |          view_idx defined, Xs is 2D, single view\n",
      " |      view_idx: int\n",
      " |          The index of the view whose projection to use on Xs.\n",
      " |          For transforming a single view inpu.\n",
      " |      \n",
      " |      Returns\n",
      " |      -------\n",
      " |      Xs_transformed : array-like 2D\n",
      " |          if view_idx not None, shape same as Xs\n",
      " |  \n",
      " |  ----------------------------------------------------------------------\n",
      " |  Methods inherited from sklearn.base.BaseEstimator:\n",
      " |  \n",
      " |  __getstate__(self)\n",
      " |  \n",
      " |  __repr__(self, N_CHAR_MAX=700)\n",
      " |      Return repr(self).\n",
      " |  \n",
      " |  __setstate__(self, state)\n",
      " |  \n",
      " |  get_params(self, deep=True)\n",
      " |      Get parameters for this estimator.\n",
      " |      \n",
      " |      Parameters\n",
      " |      ----------\n",
      " |      deep : boolean, optional\n",
      " |          If True, will return the parameters for this estimator and\n",
      " |          contained subobjects that are estimators.\n",
      " |      \n",
      " |      Returns\n",
      " |      -------\n",
      " |      params : mapping of string to any\n",
      " |          Parameter names mapped to their values.\n",
      " |  \n",
      " |  set_params(self, **params)\n",
      " |      Set the parameters of this estimator.\n",
      " |      \n",
      " |      The method works on simple estimators as well as on nested objects\n",
      " |      (such as pipelines). The latter have parameters of the form\n",
      " |      ``<component>__<parameter>`` so that it's possible to update each\n",
      " |      component of a nested object.\n",
      " |      \n",
      " |      Returns\n",
      " |      -------\n",
      " |      self\n",
      " |  \n",
      " |  ----------------------------------------------------------------------\n",
      " |  Data descriptors inherited from sklearn.base.BaseEstimator:\n",
      " |  \n",
      " |  __dict__\n",
      " |      dictionary for instance variables (if defined)\n",
      " |  \n",
      " |  __weakref__\n",
      " |      list of weak references to the object (if defined)\n",
      "\n"
     ]
    }
   ],
   "source": [
    "help(gcca.GCCA)"
   ]
  },
  {
   "cell_type": "markdown",
   "metadata": {},
   "source": [
    "### Specific Elbows"
   ]
  },
  {
   "cell_type": "code",
   "execution_count": 184,
   "metadata": {},
   "outputs": [],
   "source": [
    "def generate_data(n=10, elbows=3, seed=1):\n",
    "    \"\"\"\n",
    "    Generate data matrix with a specific number of elbows on scree plot\n",
    "    \"\"\"\n",
    "    np.random.seed(seed)\n",
    "    x = np.random.binomial(1, 0.6, (n ** 2)).reshape(n, n)\n",
    "    xorth = orth(x)\n",
    "    d = np.zeros(xorth.shape[0])\n",
    "    for i in range(0, len(d), int(len(d) / (elbows + 1))):\n",
    "        d[:i] += 10\n",
    "    A = xorth.T.dot(np.diag(d)).dot(xorth)\n",
    "    return A, d"
   ]
  },
  {
   "cell_type": "code",
   "execution_count": 187,
   "metadata": {},
   "outputs": [],
   "source": [
    "data, _ = generate_data(10, 3)\n",
    "elbows, _, _ = gcca._select_dimension(X=data, n_elbows=2,\n",
    "                                return_likelihoods=True)"
   ]
  },
  {
   "cell_type": "code",
   "execution_count": 192,
   "metadata": {},
   "outputs": [
    {
     "data": {
      "text/plain": [
       "[<matplotlib.lines.Line2D at 0x7f7269ecccc0>]"
      ]
     },
     "execution_count": 192,
     "metadata": {},
     "output_type": "execute_result"
    },
    {
     "data": {
      "image/png": "[encoded data removed]",
      "text/plain": [
       "<Figure size 432x288 with 1 Axes>"
      ]
     },
     "metadata": {
      "needs_background": "light"
     },
     "output_type": "display_data"
    }
   ],
   "source": [
    "plt.plot(data[:,0], data[:,1])"
   ]
  },
  {
   "cell_type": "code",
   "execution_count": null,
   "metadata": {},
   "outputs": [],
   "source": []
  }
 ],
 "metadata": {
  "kernelspec": {
   "display_name": "Python [conda env:mvdev] *",
   "language": "python",
   "name": "conda-env-mvdev-py"
  },
  "language_info": {
   "codemirror_mode": {
    "name": "ipython",
    "version": 3
   },
   "file_extension": ".py",
   "mimetype": "text/x-python",
   "name": "python",
   "nbconvert_exporter": "python",
   "pygments_lexer": "ipython3",
   "version": "3.7.3"
  }
 },
 "nbformat": 4,
 "nbformat_minor": 2
}
