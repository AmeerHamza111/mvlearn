{
 "cells": [
  {
   "cell_type": "code",
   "execution_count": 68,
   "metadata": {},
   "outputs": [],
   "source": [
    "import numpy as np\n",
    "from sklearn.cross_decomposition import PLSRegression\n",
    "from scipy import linalg, stats"
   ]
  },
  {
   "cell_type": "code",
   "execution_count": 112,
   "metadata": {},
   "outputs": [],
   "source": [
    "def _center_scale_xy(X, Y, scale=True):\n",
    "    \"\"\" Center X, Y and scale if the scale parameter==True\n",
    "    Returns\n",
    "    -------\n",
    "        X, Y, x_mean, y_mean, x_std, y_std\n",
    "    \"\"\"\n",
    "    # center\n",
    "    x_mean = X.mean(axis=0)\n",
    "    X -= x_mean\n",
    "    y_mean = Y.mean(axis=0)\n",
    "    Y -= y_mean\n",
    "    # scale\n",
    "    if scale:\n",
    "        x_std = X.std(axis=0, ddof=1)\n",
    "        x_std[x_std == 0.0] = 1.0\n",
    "        X /= x_std\n",
    "        y_std = Y.std(axis=0, ddof=1)\n",
    "        y_std[y_std == 0.0] = 1.0\n",
    "        Y /= y_std\n",
    "    else:\n",
    "        x_std = np.ones(X.shape[1])\n",
    "        y_std = np.ones(Y.shape[1])\n",
    "    return X, Y, x_mean, y_mean, x_std, y_std"
   ]
  },
  {
   "cell_type": "code",
   "execution_count": 144,
   "metadata": {},
   "outputs": [
    {
     "name": "stdout",
     "output_type": "stream",
     "text": [
      "X Shape: (4, 4)\n",
      "Y Shape: (4, 3)\n"
     ]
    }
   ],
   "source": [
    "X = np.array([[0., 2., 1., 6.], [1.,0.,0.,7.], [2.,2.,2.,2.], [2.,5.,4.,3.]])\n",
    "Y = np.array([[0.1, -0.2, 0.4], [0.9, 1.1, -0.5], [6.2, 5.9, 4.3], [11.9, 12.3, 14.1]])\n",
    "print(f'X Shape: {X.shape}')\n",
    "print(f'Y Shape: {Y.shape}')"
   ]
  },
  {
   "cell_type": "code",
   "execution_count": 145,
   "metadata": {},
   "outputs": [],
   "source": [
    "X, Y, x_mean, y_mean, x_std, y_std = _center_scale_xy(X, Y)"
   ]
  },
  {
   "cell_type": "code",
   "execution_count": 161,
   "metadata": {},
   "outputs": [],
   "source": [
    "n_comp = 2\n",
    "pls2 = PLSRegression(n_components=n_comp)\n",
    "pls2.fit(X, Y)\n",
    "\n",
    "Y_pred = pls2.predict(X)"
   ]
  },
  {
   "cell_type": "code",
   "execution_count": 162,
   "metadata": {},
   "outputs": [
    {
     "name": "stdout",
     "output_type": "stream",
     "text": [
      "Y - Y_pred distance: 0.6039846145472272\n"
     ]
    }
   ],
   "source": [
    "print(f'Y - Y_pred distance: {np.linalg.norm(Y - Y_pred, ord=2)}')"
   ]
  },
  {
   "cell_type": "code",
   "execution_count": 163,
   "metadata": {},
   "outputs": [],
   "source": [
    "Y_loadings = X @ pls2.x_loadings_\n",
    "Y_coefs = X @ pls2.coef_[:,:n_comp]\n",
    "Y_ronan = X @ pls2.x_weights_ @ np.linalg.pinv(pls2.x_loadings_.T @ pls2.x_weights_)"
   ]
  },
  {
   "cell_type": "code",
   "execution_count": 164,
   "metadata": {},
   "outputs": [
    {
     "data": {
      "text/plain": [
       "(4, 2)"
      ]
     },
     "execution_count": 164,
     "metadata": {},
     "output_type": "execute_result"
    }
   ],
   "source": [
    "Y_loadings.shape"
   ]
  },
  {
   "cell_type": "code",
   "execution_count": 165,
   "metadata": {},
   "outputs": [
    {
     "data": {
      "text/plain": [
       "(4, 2)"
      ]
     },
     "execution_count": 165,
     "metadata": {},
     "output_type": "execute_result"
    }
   ],
   "source": [
    "Y_coefs.shape"
   ]
  },
  {
   "cell_type": "code",
   "execution_count": 166,
   "metadata": {},
   "outputs": [
    {
     "data": {
      "text/plain": [
       "(4, 2)"
      ]
     },
     "execution_count": 166,
     "metadata": {},
     "output_type": "execute_result"
    }
   ],
   "source": [
    "Y_ronan.shape"
   ]
  },
  {
   "cell_type": "code",
   "execution_count": 167,
   "metadata": {},
   "outputs": [
    {
     "name": "stdout",
     "output_type": "stream",
     "text": [
      "Y_coef - Y_loadings distance: 2.6468394989550843\n",
      "Y_ronan - Y_coefs distance: 2.3011620638458337\n",
      "Y_loadings - Y_ronan distance: 0.7375113740349224\n"
     ]
    }
   ],
   "source": [
    "print(f'Y_coef - Y_loadings distance: {np.linalg.norm(Y_loadings - Y_coefs, ord=2)}')\n",
    "print(f'Y_ronan - Y_coefs distance: {np.linalg.norm(Y_coefs - Y_ronan, ord=2)}')\n",
    "print(f'Y_loadings - Y_ronan distance: {np.linalg.norm(Y_ronan - Y_loadings, ord=2)}')"
   ]
  },
  {
   "cell_type": "code",
   "execution_count": 169,
   "metadata": {},
   "outputs": [
    {
     "ename": "ValueError",
     "evalue": "operands could not be broadcast together with shapes (4,2) (4,3) ",
     "output_type": "error",
     "traceback": [
      "\u001b[0;31m---------------------------------------------------------------------------\u001b[0m",
      "\u001b[0;31mValueError\u001b[0m                                Traceback (most recent call last)",
      "\u001b[0;32m<ipython-input-169-ef274bc68c87>\u001b[0m in \u001b[0;36m<module>\u001b[0;34m\u001b[0m\n\u001b[1;32m      1\u001b[0m \u001b[0;31m#print(f'Y_pred - Y_loadings distance: {np.linalg.norm(Y_loadings - Y_pred, ord=2)}')\u001b[0m\u001b[0;34m\u001b[0m\u001b[0;34m\u001b[0m\u001b[0;34m\u001b[0m\u001b[0m\n\u001b[0;32m----> 2\u001b[0;31m \u001b[0mprint\u001b[0m\u001b[0;34m(\u001b[0m\u001b[0;34mf'Y_pred - Y_coefs distance: {np.linalg.norm(Y_coefs - Y_pred, ord=2)}'\u001b[0m\u001b[0;34m)\u001b[0m\u001b[0;34m\u001b[0m\u001b[0;34m\u001b[0m\u001b[0m\n\u001b[0m\u001b[1;32m      3\u001b[0m \u001b[0;31m#print(f'Y_pred - Y_ronan distance: {np.linalg.norm(Y_ronan - Y_pred, ord=2)}')\u001b[0m\u001b[0;34m\u001b[0m\u001b[0;34m\u001b[0m\u001b[0;34m\u001b[0m\u001b[0m\n",
      "\u001b[0;31mValueError\u001b[0m: operands could not be broadcast together with shapes (4,2) (4,3) "
     ]
    }
   ],
   "source": [
    "#print(f'Y_pred - Y_loadings distance: {np.linalg.norm(Y_loadings - Y_pred, ord=2)}')\n",
    "print(f'Y_pred - Y_coefs distance: {np.linalg.norm(Y_coefs - Y_pred, ord=2)}')\n",
    "#print(f'Y_pred - Y_ronan distance: {np.linalg.norm(Y_ronan - Y_pred, ord=2)}')"
   ]
  },
  {
   "cell_type": "code",
   "execution_count": 106,
   "metadata": {},
   "outputs": [
    {
     "data": {
      "text/plain": [
       "(4, 2)"
      ]
     },
     "execution_count": 106,
     "metadata": {},
     "output_type": "execute_result"
    }
   ],
   "source": [
    "pls2.x_loadings_.shape"
   ]
  },
  {
   "cell_type": "code",
   "execution_count": 107,
   "metadata": {},
   "outputs": [
    {
     "data": {
      "text/plain": [
       "(4, 2)"
      ]
     },
     "execution_count": 107,
     "metadata": {},
     "output_type": "execute_result"
    }
   ],
   "source": [
    "pls2.coef_.shape"
   ]
  },
  {
   "cell_type": "code",
   "execution_count": 108,
   "metadata": {},
   "outputs": [
    {
     "data": {
      "text/plain": [
       "(4, 2)"
      ]
     },
     "execution_count": 108,
     "metadata": {},
     "output_type": "execute_result"
    }
   ],
   "source": [
    "pls2.x_weights_.shape"
   ]
  },
  {
   "cell_type": "code",
   "execution_count": null,
   "metadata": {},
   "outputs": [],
   "source": []
  }
 ],
 "metadata": {
  "kernelspec": {
   "display_name": "Python [conda env:root] *",
   "language": "python",
   "name": "conda-root-py"
  },
  "language_info": {
   "codemirror_mode": {
    "name": "ipython",
    "version": 3
   },
   "file_extension": ".py",
   "mimetype": "text/x-python",
   "name": "python",
   "nbconvert_exporter": "python",
   "pygments_lexer": "ipython3",
   "version": "3.7.3"
  }
 },
 "nbformat": 4,
 "nbformat_minor": 2
}
