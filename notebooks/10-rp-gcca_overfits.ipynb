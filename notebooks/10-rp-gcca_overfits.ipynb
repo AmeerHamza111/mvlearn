{
 "cells": [
  {
   "cell_type": "code",
   "execution_count": 1,
   "metadata": {},
   "outputs": [],
   "source": [
    "import numpy as np\n",
    "from mvlearn.embed import GCCA\n",
    "\n",
    "from scipy.sparse.linalg import svds\n",
    "from scipy.linalg import svd\n",
    "\n",
    "import matplotlib.pyplot as plt\n",
    "\n",
    "%matplotlib inline\n",
    "\n",
    "import seaborn as sns\n",
    "\n",
    "from pathlib import Path\n",
    "import pandas as pd\n",
    "\n",
    "%load_ext lab_black"
   ]
  },
  {
   "cell_type": "code",
   "execution_count": 10,
   "metadata": {},
   "outputs": [],
   "source": [
    "def get_sim_data(col1, col2, n=10, m=20):\n",
    "    data = np.random.normal(0,1,(n,m))\n",
    "    \n",
    "    data[:,col1] = np.arange(0,n)\n",
    "    data[:,col2] = np.arange(0,n)*2\n",
    "    \n",
    "    return data"
   ]
  },
  {
   "cell_type": "code",
   "execution_count": 19,
   "metadata": {},
   "outputs": [],
   "source": [
    "Xs = [get_sim_data(1,2), get_sim_data(2,3)]"
   ]
  },
  {
   "cell_type": "code",
   "execution_count": 26,
   "metadata": {},
   "outputs": [],
   "source": [
    "gcca = GCCA(n_components = 1)\n",
    "gcca = gcca.fit(Xs)"
   ]
  },
  {
   "cell_type": "code",
   "execution_count": 27,
   "metadata": {},
   "outputs": [
    {
     "data": {
      "text/plain": [
       "(20, 1)"
      ]
     },
     "execution_count": 27,
     "metadata": {},
     "output_type": "execute_result"
    }
   ],
   "source": [
    "gcca.projection_mats_[0].shape"
   ]
  },
  {
   "cell_type": "code",
   "execution_count": 28,
   "metadata": {},
   "outputs": [
    {
     "data": {
      "text/plain": [
       "[array([[-0.0167737 ],\n",
       "        [-0.16034433],\n",
       "        [-0.28754872],\n",
       "        [ 0.06550679],\n",
       "        [ 0.01815778],\n",
       "        [ 0.04519624],\n",
       "        [ 0.04373693],\n",
       "        [-0.02680102],\n",
       "        [ 0.15786245],\n",
       "        [ 0.09678667],\n",
       "        [-0.03457784],\n",
       "        [-0.01789577],\n",
       "        [ 0.15394803],\n",
       "        [ 0.03327183],\n",
       "        [ 0.12870555],\n",
       "        [-0.02268031],\n",
       "        [ 0.02644803],\n",
       "        [-0.01531168],\n",
       "        [-0.17990159],\n",
       "        [-0.00778536]]), array([[-0.09759915],\n",
       "        [-0.13269796],\n",
       "        [-0.15152918],\n",
       "        [-0.3159278 ],\n",
       "        [ 0.18449338],\n",
       "        [ 0.10773194],\n",
       "        [ 0.12490782],\n",
       "        [ 0.13253195],\n",
       "        [ 0.01529562],\n",
       "        [ 0.01977448],\n",
       "        [ 0.09864517],\n",
       "        [ 0.03090167],\n",
       "        [ 0.027295  ],\n",
       "        [-0.04816371],\n",
       "        [-0.03887536],\n",
       "        [ 0.00033623],\n",
       "        [ 0.06146059],\n",
       "        [-0.03983715],\n",
       "        [-0.0976954 ],\n",
       "        [ 0.11895185]])]"
      ]
     },
     "execution_count": 28,
     "metadata": {},
     "output_type": "execute_result"
    }
   ],
   "source": [
    "gcca.projection_mats_"
   ]
  },
  {
   "cell_type": "code",
   "execution_count": 33,
   "metadata": {},
   "outputs": [
    {
     "data": {
      "text/plain": [
       "(array([[-0.00132594],\n",
       "        [ 0.06532314],\n",
       "        [ 0.11685842],\n",
       "        [ 0.17964197],\n",
       "        [ 0.24097135],\n",
       "        [ 0.2939599 ],\n",
       "        [ 0.35318609],\n",
       "        [ 0.41379303],\n",
       "        [ 0.47378104],\n",
       "        [ 0.53375166]]),\n",
       " array([37.97289882]),\n",
       " array([[-0.04049051,  0.44456263,  0.88912526, -0.02299431, -0.00522108,\n",
       "         -0.01891121, -0.00513678,  0.00891988, -0.01680854, -0.04145567,\n",
       "         -0.03284736, -0.01936701,  0.01570919,  0.01599571, -0.01362291,\n",
       "          0.02640933, -0.00338858, -0.03839925, -0.03013136,  0.04389293]]))"
      ]
     },
     "execution_count": 33,
     "metadata": {},
     "output_type": "execute_result"
    }
   ],
   "source": [
    "svds(Xs[0], k=1)"
   ]
  },
  {
   "cell_type": "code",
   "execution_count": 69,
   "metadata": {},
   "outputs": [],
   "source": [
    "cov = Xs[1].T @ Xs[1]"
   ]
  },
  {
   "cell_type": "code",
   "execution_count": 70,
   "metadata": {},
   "outputs": [],
   "source": [
    "U,D,V = svd(cov)"
   ]
  },
  {
   "cell_type": "code",
   "execution_count": 71,
   "metadata": {},
   "outputs": [
    {
     "data": {
      "image/png": "[encoded data removed]",
      "text/plain": [
       "<Figure size 576x432 with 2 Axes>"
      ]
     },
     "metadata": {
      "needs_background": "light"
     },
     "output_type": "display_data"
    }
   ],
   "source": [
    "plt.figure(figsize=(8,6))\n",
    "sns.heatmap(np.log(np.abs(U)), linewidth=0.5)\n",
    "plt.show()"
   ]
  },
  {
   "cell_type": "code",
   "execution_count": 44,
   "metadata": {},
   "outputs": [
    {
     "data": {
      "text/plain": [
       "[<matplotlib.lines.Line2D at 0x7fe4e0b76f98>]"
      ]
     },
     "execution_count": 44,
     "metadata": {},
     "output_type": "execute_result"
    },
    {
     "data": {
      "image/png": "[encoded data removed]",
      "text/plain": [
       "<Figure size 432x288 with 1 Axes>"
      ]
     },
     "metadata": {
      "needs_background": "light"
     },
     "output_type": "display_data"
    }
   ],
   "source": [
    "plt.plot(np.arange(len(D)), D)"
   ]
  },
  {
   "cell_type": "markdown",
   "metadata": {},
   "source": [
    "## m >> n overfits"
   ]
  },
  {
   "cell_type": "code",
   "execution_count": 20,
   "metadata": {},
   "outputs": [],
   "source": [
    "def get_data(n=10,m=100):\n",
    "    return(np.random.normal(0,1,(n,m)))"
   ]
  },
  {
   "cell_type": "code",
   "execution_count": 67,
   "metadata": {},
   "outputs": [],
   "source": [
    "Xs = [get_data(m=3), get_data(m=200)]"
   ]
  },
  {
   "cell_type": "code",
   "execution_count": 70,
   "metadata": {},
   "outputs": [],
   "source": [
    "gcca = GCCA(n_components=3)\n",
    "Xs_hat = gcca.fit_transform(Xs)"
   ]
  },
  {
   "cell_type": "code",
   "execution_count": 71,
   "metadata": {},
   "outputs": [],
   "source": [
    "corrs = [np.corrcoef((Xs_hat[0][:,i], Xs_hat[1][:,i]))[1,0] for i in range(Xs_hat[0].shape[1])]"
   ]
  },
  {
   "cell_type": "code",
   "execution_count": 72,
   "metadata": {},
   "outputs": [
    {
     "data": {
      "text/plain": [
       "[<matplotlib.lines.Line2D at 0x7f3568794c88>]"
      ]
     },
     "execution_count": 72,
     "metadata": {},
     "output_type": "execute_result"
    },
    {
     "data": {
      "image/png": "[encoded data removed]",
      "text/plain": [
       "<Figure size 432x288 with 1 Axes>"
      ]
     },
     "metadata": {
      "needs_background": "light"
     },
     "output_type": "display_data"
    }
   ],
   "source": [
    "plt.plot(np.arange(1,Xs_hat[0].shape[1]+1), corrs)"
   ]
  },
  {
   "cell_type": "markdown",
   "metadata": {},
   "source": [
    "## Check Satterthwaite Data"
   ]
  },
  {
   "cell_type": "code",
   "execution_count": 4,
   "metadata": {},
   "outputs": [],
   "source": [
    "data_dir = Path(\"/mnt/c/Users/Ronan Perry/Documents/JHU/jovo-lab/multiview/data\")\n",
    "embed_dir = data_dir / \"embedding\""
   ]
  },
  {
   "cell_type": "code",
   "execution_count": 7,
   "metadata": {},
   "outputs": [],
   "source": [
    "timestamp = \"336-11_19\"\n",
    "proj_mat_files = [\n",
    "    f\"fmri_gcca-n=852_T={timestamp}.csv\",\n",
    "    f\"sc_gcca-n=852_T={timestamp}.csv\",\n",
    "    f\"clinical_gcca-n=852_T={timestamp}.csv\",\n",
    "]"
   ]
  },
  {
   "cell_type": "code",
   "execution_count": 8,
   "metadata": {},
   "outputs": [],
   "source": [
    "proj_mats = [np.genfromtxt(embed_dir / file, delimiter=\",\") for file in proj_mat_files]"
   ]
  },
  {
   "cell_type": "code",
   "execution_count": 9,
   "metadata": {},
   "outputs": [],
   "source": [
    "proj_mats = np.array(proj_mats)"
   ]
  },
  {
   "cell_type": "code",
   "execution_count": 10,
   "metadata": {},
   "outputs": [
    {
     "data": {
      "text/plain": [
       "(3, 852, 2)"
      ]
     },
     "execution_count": 10,
     "metadata": {},
     "output_type": "execute_result"
    }
   ],
   "source": [
    "proj_mats.shape"
   ]
  },
  {
   "cell_type": "code",
   "execution_count": 11,
   "metadata": {},
   "outputs": [
    {
     "data": {
      "text/plain": [
       "array([[1.        , 0.21774818, 0.15647949],\n",
       "       [0.21774818, 1.        , 0.24578304],\n",
       "       [0.15647949, 0.24578304, 1.        ]])"
      ]
     },
     "execution_count": 11,
     "metadata": {},
     "output_type": "execute_result"
    }
   ],
   "source": [
    "np.corrcoef(proj_mats[:, :, 0])"
   ]
  },
  {
   "cell_type": "code",
   "execution_count": 12,
   "metadata": {},
   "outputs": [
    {
     "data": {
      "text/plain": [
       "array([[1.        , 0.11998789, 0.04206317],\n",
       "       [0.11998789, 1.        , 0.09776035],\n",
       "       [0.04206317, 0.09776035, 1.        ]])"
      ]
     },
     "execution_count": 12,
     "metadata": {},
     "output_type": "execute_result"
    }
   ],
   "source": [
    "np.corrcoef(proj_mats[:, :, 1])"
   ]
  },
  {
   "cell_type": "code",
   "execution_count": null,
   "metadata": {},
   "outputs": [],
   "source": []
  }
 ],
 "metadata": {
  "kernelspec": {
   "display_name": "Python [conda env:root]",
   "language": "python",
   "name": "conda-root-py"
  },
  "language_info": {
   "codemirror_mode": {
    "name": "ipython",
    "version": 3
   },
   "file_extension": ".py",
   "mimetype": "text/x-python",
   "name": "python",
   "nbconvert_exporter": "python",
   "pygments_lexer": "ipython3",
   "version": "3.7.3"
  }
 },
 "nbformat": 4,
 "nbformat_minor": 2
}
