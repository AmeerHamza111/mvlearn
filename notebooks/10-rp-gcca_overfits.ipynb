{
 "cells": [
  {
   "cell_type": "code",
   "execution_count": 50,
   "metadata": {},
   "outputs": [],
   "source": [
    "import numpy as np\n",
    "from mvlearn.embed import GCCA\n",
    "\n",
    "from scipy.sparse.linalg import svds\n",
    "from scipy.linalg import svd\n",
    "\n",
    "import matplotlib.pyplot as plt\n",
    "%matplotlib inline\n",
    "\n",
    "import seaborn as sns"
   ]
  },
  {
   "cell_type": "code",
   "execution_count": 10,
   "metadata": {},
   "outputs": [],
   "source": [
    "def get_sim_data(col1, col2, n=10, m=20):\n",
    "    data = np.random.normal(0,1,(n,m))\n",
    "    \n",
    "    data[:,col1] = np.arange(0,n)\n",
    "    data[:,col2] = np.arange(0,n)*2\n",
    "    \n",
    "    return data"
   ]
  },
  {
   "cell_type": "code",
   "execution_count": 19,
   "metadata": {},
   "outputs": [],
   "source": [
    "Xs = [get_sim_data(1,2), get_sim_data(2,3)]"
   ]
  },
  {
   "cell_type": "code",
   "execution_count": 26,
   "metadata": {},
   "outputs": [],
   "source": [
    "gcca = GCCA(n_components = 1)\n",
    "gcca = gcca.fit(Xs)"
   ]
  },
  {
   "cell_type": "code",
   "execution_count": 27,
   "metadata": {},
   "outputs": [
    {
     "data": {
      "text/plain": [
       "(20, 1)"
      ]
     },
     "execution_count": 27,
     "metadata": {},
     "output_type": "execute_result"
    }
   ],
   "source": [
    "gcca.projection_mats_[0].shape"
   ]
  },
  {
   "cell_type": "code",
   "execution_count": 28,
   "metadata": {},
   "outputs": [
    {
     "data": {
      "text/plain": [
       "[array([[-0.0167737 ],\n",
       "        [-0.16034433],\n",
       "        [-0.28754872],\n",
       "        [ 0.06550679],\n",
       "        [ 0.01815778],\n",
       "        [ 0.04519624],\n",
       "        [ 0.04373693],\n",
       "        [-0.02680102],\n",
       "        [ 0.15786245],\n",
       "        [ 0.09678667],\n",
       "        [-0.03457784],\n",
       "        [-0.01789577],\n",
       "        [ 0.15394803],\n",
       "        [ 0.03327183],\n",
       "        [ 0.12870555],\n",
       "        [-0.02268031],\n",
       "        [ 0.02644803],\n",
       "        [-0.01531168],\n",
       "        [-0.17990159],\n",
       "        [-0.00778536]]), array([[-0.09759915],\n",
       "        [-0.13269796],\n",
       "        [-0.15152918],\n",
       "        [-0.3159278 ],\n",
       "        [ 0.18449338],\n",
       "        [ 0.10773194],\n",
       "        [ 0.12490782],\n",
       "        [ 0.13253195],\n",
       "        [ 0.01529562],\n",
       "        [ 0.01977448],\n",
       "        [ 0.09864517],\n",
       "        [ 0.03090167],\n",
       "        [ 0.027295  ],\n",
       "        [-0.04816371],\n",
       "        [-0.03887536],\n",
       "        [ 0.00033623],\n",
       "        [ 0.06146059],\n",
       "        [-0.03983715],\n",
       "        [-0.0976954 ],\n",
       "        [ 0.11895185]])]"
      ]
     },
     "execution_count": 28,
     "metadata": {},
     "output_type": "execute_result"
    }
   ],
   "source": [
    "gcca.projection_mats_"
   ]
  },
  {
   "cell_type": "code",
   "execution_count": 33,
   "metadata": {},
   "outputs": [
    {
     "data": {
      "text/plain": [
       "(array([[-0.00132594],\n",
       "        [ 0.06532314],\n",
       "        [ 0.11685842],\n",
       "        [ 0.17964197],\n",
       "        [ 0.24097135],\n",
       "        [ 0.2939599 ],\n",
       "        [ 0.35318609],\n",
       "        [ 0.41379303],\n",
       "        [ 0.47378104],\n",
       "        [ 0.53375166]]),\n",
       " array([37.97289882]),\n",
       " array([[-0.04049051,  0.44456263,  0.88912526, -0.02299431, -0.00522108,\n",
       "         -0.01891121, -0.00513678,  0.00891988, -0.01680854, -0.04145567,\n",
       "         -0.03284736, -0.01936701,  0.01570919,  0.01599571, -0.01362291,\n",
       "          0.02640933, -0.00338858, -0.03839925, -0.03013136,  0.04389293]]))"
      ]
     },
     "execution_count": 33,
     "metadata": {},
     "output_type": "execute_result"
    }
   ],
   "source": [
    "svds(Xs[0], k=1)"
   ]
  },
  {
   "cell_type": "code",
   "execution_count": 69,
   "metadata": {},
   "outputs": [],
   "source": [
    "cov = Xs[1].T @ Xs[1]"
   ]
  },
  {
   "cell_type": "code",
   "execution_count": 70,
   "metadata": {},
   "outputs": [],
   "source": [
    "U,D,V = svd(cov)"
   ]
  },
  {
   "cell_type": "code",
   "execution_count": 71,
   "metadata": {},
   "outputs": [
    {
     "data": {
      "image/png": "[encoded data removed]",
      "text/plain": [
       "<Figure size 576x432 with 2 Axes>"
      ]
     },
     "metadata": {
      "needs_background": "light"
     },
     "output_type": "display_data"
    }
   ],
   "source": [
    "plt.figure(figsize=(8,6))\n",
    "sns.heatmap(np.log(np.abs(U)), linewidth=0.5)\n",
    "plt.show()"
   ]
  },
  {
   "cell_type": "code",
   "execution_count": 44,
   "metadata": {},
   "outputs": [
    {
     "data": {
      "text/plain": [
       "[<matplotlib.lines.Line2D at 0x7fe4e0b76f98>]"
      ]
     },
     "execution_count": 44,
     "metadata": {},
     "output_type": "execute_result"
    },
    {
     "data": {
      "image/png": "[encoded data removed]",
      "text/plain": [
       "<Figure size 432x288 with 1 Axes>"
      ]
     },
     "metadata": {
      "needs_background": "light"
     },
     "output_type": "display_data"
    }
   ],
   "source": [
    "plt.plot(np.arange(len(D)), D)"
   ]
  },
  {
   "cell_type": "code",
   "execution_count": 72,
   "metadata": {},
   "outputs": [
    {
     "name": "stdout",
     "output_type": "stream",
     "text": [
      "Help on class GCCA in module mvlearn.embed.gcca:\n",
      "\n",
      "class GCCA(mvlearn.embed.base.BaseEmbed)\n",
      " |  GCCA(fraction_var=None, sv_tolerance=None, n_components=None, n_elbows=2, tall=False)\n",
      " |  \n",
      " |  An implementation of Generalized Canonical Correalation Analysis. Computes\n",
      " |  individual projections into a common subspace such that the correlations\n",
      " |  between pairwise projections are minimized (ie. maximize pairwise\n",
      " |  correlation). Reduces to CCA in the two sample case.\n",
      " |  \n",
      " |  Parameters\n",
      " |  ----------\n",
      " |  sv_tolerance : float, optional, default=None\n",
      " |      Selects the number of SVD components to keep for each view by\n",
      " |      thresholding singular values. If none, another selection\n",
      " |      method is used.\n",
      " |  n_components : int (positive), optional, default=None\n",
      " |      If ``self.sv_tolerance=None``, selects the number of SVD\n",
      " |      components to keep for each view. If none, another selection\n",
      " |      method is used.\n",
      " |  fraction_var : float, default=None\n",
      " |      If ``self.sv_tolerance=None``, and ``self.n_components=None``,\n",
      " |      selects the number of SVD components to keep for each view by\n",
      " |      capturing enough of the variance. If none, another selection\n",
      " |      method is used.\n",
      " |  n_elbows : int, optional, default: 2\n",
      " |      If ``self.fraction_var=None``, ``self.sv_tolerance=None``, and\n",
      " |      ``self.n_components=None``, then compute the optimal embedding\n",
      " |      dimension using :func:`~mvlearn.embed.gcca.select_dimension`.\n",
      " |      Otherwise, ignored.\n",
      " |  tall : boolean, default=False\n",
      " |      Set to true if n_samples > n_features, speeds up SVD\n",
      " |  \n",
      " |  Attributes\n",
      " |  ----------\n",
      " |  projection_mats_ : list of arrays\n",
      " |      A projection matrix for each view, from the given space to the\n",
      " |      latent space\n",
      " |  ranks_ : list of ints\n",
      " |      number of left singular vectors kept for each view during the first\n",
      " |      SVD\n",
      " |  \n",
      " |  References\n",
      " |  ----------\n",
      " |  .. [#1] B. Afshin-Pour, G.A. Hossein-Zadeh, S.C. Strother, H.\n",
      " |          Soltanian-Zadeh. Enhancing reproducibility of fMRI statistical\n",
      " |          maps using generalized canonical correlation analysis in NPAIRS\n",
      " |          framework. Neuroimage, 60 (2012), pp. 1970-1981\n",
      " |  \n",
      " |  Method resolution order:\n",
      " |      GCCA\n",
      " |      mvlearn.embed.base.BaseEmbed\n",
      " |      sklearn.base.BaseEstimator\n",
      " |      builtins.object\n",
      " |  \n",
      " |  Methods defined here:\n",
      " |  \n",
      " |  __init__(self, fraction_var=None, sv_tolerance=None, n_components=None, n_elbows=2, tall=False)\n",
      " |      Initialize self.  See help(type(self)) for accurate signature.\n",
      " |  \n",
      " |  center(self, X)\n",
      " |      Subtracts the row means and divides by the row standard deviations.\n",
      " |      Then subtracts column means.\n",
      " |      \n",
      " |      Parameters\n",
      " |      ----------\n",
      " |      X : array-like, shape (n_observations, n_features)\n",
      " |          The data to preprocess\n",
      " |      \n",
      " |      Returns\n",
      " |      -------\n",
      " |      centered_X : preprocessed data matrix\n",
      " |  \n",
      " |  fit(self, Xs)\n",
      " |      Calculates a projection from each view to a latentent space such that\n",
      " |      the sum of pairwise latent space correlations is maximized. Each view\n",
      " |      'X' is normalized and the left singular vectors of 'X^T X' are\n",
      " |      calculated using SVD. The number of singular vectors kept is determined\n",
      " |      by either the percent variance explained, a given rank threshold, or a\n",
      " |      given number of components. The singular vectors kept are concatenated\n",
      " |      and SVD of that is taken and used to calculated projections for each\n",
      " |      view.\n",
      " |      \n",
      " |      Parameters\n",
      " |      ----------\n",
      " |      Xs : list of array-likes or numpy.ndarray\n",
      " |           - Xs length: n_views\n",
      " |           - Xs[i] shape: (n_samples, n_features_i)\n",
      " |          The data to fit to. Each view will receive its own embedding.\n",
      " |      \n",
      " |      Returns\n",
      " |      -------\n",
      " |      self : returns an instance of self.\n",
      " |  \n",
      " |  fit_transform(self, Xs)\n",
      " |      Fits transformer to Xs and returns a transformed version of the Xs.\n",
      " |      \n",
      " |      Parameters\n",
      " |      ----------\n",
      " |      Xs : list of array-likes or numpy.ndarray\n",
      " |           - Xs length: n_views\n",
      " |           - Xs[i] shape: (n_samples, n_features_i)\n",
      " |          The data to fit to. Each view will receive its own\n",
      " |          transformation matrix and projection.\n",
      " |      \n",
      " |      Returns\n",
      " |      -------\n",
      " |      Xs_transformed : array-like 2D if view_idx not None, otherwise\n",
      " |          (n_views, n_samples, self.n_components)\n",
      " |  \n",
      " |  transform(self, Xs, view_idx=None)\n",
      " |      Embeds data matrix(s) using the fitted projection matrices. May be\n",
      " |      used for out-of-sample embeddings.\n",
      " |      \n",
      " |      Parameters\n",
      " |      ----------\n",
      " |      Xs : list of array-likes or numpy.ndarray\n",
      " |           - Xs length: n_views\n",
      " |           - Xs[i] shape: (n_samples, n_features_i)\n",
      " |          A list of data matrices from each view to transform based on the\n",
      " |          prior fit function. If view_idx defined, then Xs is a 2D data\n",
      " |          matrix corresponding to a single view.\n",
      " |      view_idx : int, default=None\n",
      " |          For transformation of a single view. If not None, then Xs is 2D\n",
      " |          and views_idx specifies the index of the view from which Xs comes\n",
      " |          from.\n",
      " |      \n",
      " |      Returns\n",
      " |      -------\n",
      " |      Xs_transformed : list of array-likes or array-like\n",
      " |          Same shape as Xs\n",
      " |  \n",
      " |  ----------------------------------------------------------------------\n",
      " |  Methods inherited from sklearn.base.BaseEstimator:\n",
      " |  \n",
      " |  __getstate__(self)\n",
      " |  \n",
      " |  __repr__(self, N_CHAR_MAX=700)\n",
      " |      Return repr(self).\n",
      " |  \n",
      " |  __setstate__(self, state)\n",
      " |  \n",
      " |  get_params(self, deep=True)\n",
      " |      Get parameters for this estimator.\n",
      " |      \n",
      " |      Parameters\n",
      " |      ----------\n",
      " |      deep : boolean, optional\n",
      " |          If True, will return the parameters for this estimator and\n",
      " |          contained subobjects that are estimators.\n",
      " |      \n",
      " |      Returns\n",
      " |      -------\n",
      " |      params : mapping of string to any\n",
      " |          Parameter names mapped to their values.\n",
      " |  \n",
      " |  set_params(self, **params)\n",
      " |      Set the parameters of this estimator.\n",
      " |      \n",
      " |      The method works on simple estimators as well as on nested objects\n",
      " |      (such as pipelines). The latter have parameters of the form\n",
      " |      ``<component>__<parameter>`` so that it's possible to update each\n",
      " |      component of a nested object.\n",
      " |      \n",
      " |      Returns\n",
      " |      -------\n",
      " |      self\n",
      " |  \n",
      " |  ----------------------------------------------------------------------\n",
      " |  Data descriptors inherited from sklearn.base.BaseEstimator:\n",
      " |  \n",
      " |  __dict__\n",
      " |      dictionary for instance variables (if defined)\n",
      " |  \n",
      " |  __weakref__\n",
      " |      list of weak references to the object (if defined)\n",
      "\n"
     ]
    }
   ],
   "source": [
    "help(GCCA)"
   ]
  },
  {
   "cell_type": "code",
   "execution_count": null,
   "metadata": {},
   "outputs": [],
   "source": []
  }
 ],
 "metadata": {
  "kernelspec": {
   "display_name": "Python [conda env:root] *",
   "language": "python",
   "name": "conda-root-py"
  },
  "language_info": {
   "codemirror_mode": {
    "name": "ipython",
    "version": 3
   },
   "file_extension": ".py",
   "mimetype": "text/x-python",
   "name": "python",
   "nbconvert_exporter": "python",
   "pygments_lexer": "ipython3",
   "version": "3.7.3"
  }
 },
 "nbformat": 4,
 "nbformat_minor": 2
}
