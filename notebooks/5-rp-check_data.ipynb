{
 "cells": [
  {
   "cell_type": "code",
   "execution_count": 40,
   "metadata": {},
   "outputs": [],
   "source": [
    "import matplotlib.pyplot as plt\n",
    "import numpy as np\n",
    "from pathlib import Path\n",
    "%matplotlib inline\n",
    "import pandas as pd\n",
    "from sklearn.utils import check_array"
   ]
  },
  {
   "cell_type": "code",
   "execution_count": 2,
   "metadata": {},
   "outputs": [],
   "source": [
    "data_dir = Path('/mnt/c/Users/Ronan Perry/Documents/JHU/jovo-lab/multiview/data')\n",
    "\n",
    "fmri_dir = data_dir / 'raw' / 'fMRI' / 'REST_Data'\n",
    "fmri_metadata_path = data_dir / 'raw' / 'fMRI' / 'SubjectsIDs_Schaefer_rest_Alone.csv'\n",
    "\n",
    "sc_dir = data_dir / 'raw' / 'structural' / 'Deterministic_FA'\n",
    "sc_metadata_path = data_dir / 'raw' / 'structural' / 'SubjectsIDs_Schaefer_Diffusion.csv'\n",
    "\n",
    "demographics_path = data_dir / 'raw' / 'Demographics_MedicalFilter.csv'\n",
    "clinical_path = data_dir / 'raw' / 'Cognitive_MedicalFilter.csv'\n",
    "schaefer_coords_path = data_dir / 'supplementary' / 'Schaefer2018_400Parcels_17Networks_order.txt'\n",
    "\n",
    "bblids_path = data_dir / 'matched_bblids.csv'"
   ]
  },
  {
   "cell_type": "code",
   "execution_count": 3,
   "metadata": {},
   "outputs": [],
   "source": [
    "clinical_scores = pd.read_csv(clinical_path)\n",
    "bblids_matched = np.genfromtxt(bblids_path, delimiter=',')"
   ]
  },
  {
   "cell_type": "code",
   "execution_count": 37,
   "metadata": {},
   "outputs": [
    {
     "name": "stderr",
     "output_type": "stream",
     "text": [
      "/home/rflperry/miniconda3/envs/datasci/lib/python3.7/site-packages/ipykernel_launcher.py:1: UserWarning: Boolean Series key will be reindexed to match DataFrame index.\n",
      "  \"\"\"Entry point for launching an IPython kernel.\n"
     ]
    }
   ],
   "source": [
    "bblids_filtered = clinical_scores.loc[clinical_scores.iloc[:,3:-6].isnull().any(axis=1) == False][clinical_scores['bblid'].isin(bblids_matched)]['bblid'].to_numpy()"
   ]
  },
  {
   "cell_type": "code",
   "execution_count": 38,
   "metadata": {},
   "outputs": [],
   "source": [
    "bblids_filtered_path = data_dir / 'filtered_matched_bblids.csv'\n",
    "np.savetxt(bblids_filtered_path, bblids_filtered.astype(int), delimiter=',')"
   ]
  },
  {
   "cell_type": "code",
   "execution_count": 45,
   "metadata": {},
   "outputs": [
    {
     "data": {
      "text/plain": [
       "array([[ 0.11784615,  0.72974203,  0.55824842, ..., -1.007542  ,\n",
       "         0.99713311,  1.34695565],\n",
       "       [ 0.3859819 ,  0.97229975,  0.55824842, ..., -1.26905262,\n",
       "         0.0461441 , -0.21519927],\n",
       "       [ 0.52541992,  0.12334775,  0.55824842, ..., -0.3445375 ,\n",
       "         0.92580908, -0.15696104],\n",
       "       ...,\n",
       "       [ 0.19734301, -0.48304654,  0.17645446, ..., -0.18255361,\n",
       "        -0.12027912,  0.38773772],\n",
       "       [-1.47140683, -2.05967168, -2.49610324, ...,  0.00446918,\n",
       "        -0.90484348, -0.87294871],\n",
       "       [-0.86322172, -0.11920997,  0.17645446, ..., -0.97097866,\n",
       "        -0.16782871, -0.73591757]])"
      ]
     },
     "execution_count": 45,
     "metadata": {},
     "output_type": "execute_result"
    }
   ],
   "source": [
    "check_array(clinical_scores[clinical_scores['bblid'].isin(bblids_filtered)].iloc[:,3:-6].to_numpy())"
   ]
  },
  {
   "cell_type": "code",
   "execution_count": null,
   "metadata": {},
   "outputs": [],
   "source": []
  }
 ],
 "metadata": {
  "kernelspec": {
   "display_name": "Python [conda env:root]",
   "language": "python",
   "name": "conda-root-py"
  },
  "language_info": {
   "codemirror_mode": {
    "name": "ipython",
    "version": 3
   },
   "file_extension": ".py",
   "mimetype": "text/x-python",
   "name": "python",
   "nbconvert_exporter": "python",
   "pygments_lexer": "ipython3",
   "version": "3.7.3"
  }
 },
 "nbformat": 4,
 "nbformat_minor": 2
}
