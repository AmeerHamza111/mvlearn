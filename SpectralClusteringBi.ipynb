{
 "cells": [
  {
   "cell_type": "code",
   "execution_count": 1,
   "metadata": {},
   "outputs": [],
   "source": [
    "import numpy as np\n",
    "from multiview.datasets.base import load_UCImultifeature\n",
    "from sklearn.cluster import KMeans\n",
    "from scipy.spatial.distance import cdist\n",
    "from sklearn.metrics.pairwise import rbf_kernel"
   ]
  },
  {
   "cell_type": "code",
   "execution_count": 2,
   "metadata": {},
   "outputs": [],
   "source": []
  },
  {
   "cell_type": "code",
   "execution_count": 20,
   "metadata": {},
   "outputs": [],
   "source": [
    "def normalize_mat(X_mat):  \n",
    "    min_val = np.min(X_mat)\n",
    "    max_val = np.max(X_mat)\n",
    "    norm_mat = (X_mat - min_val) / (max_val - min_val)\n",
    "    return norm_mat\n",
    "    \n",
    "def gaussian_sim(X_mat, Y_mat):\n",
    "    \n",
    "    features = X_mat.shape[1]\n",
    "    distances = cdist(X_mat, Y_mat)\n",
    "    print(distances)\n",
    "    sq_dists = np.square(distances)\n",
    "    norm_dists = sq_dists  / features\n",
    "    print(norm_dists)\n",
    "    sims = np.exp(-norm_dists)\n",
    "    \n",
    "    return sims\n",
    "\n",
    "def comp_laplacian(weights, d_mat):\n",
    "    #print(d_mat)\n",
    "    for ind in range(d_mat.shape[0]):\n",
    "        if(d_mat[ind, ind] != 0):\n",
    "            #print(np.sqrt(d_mat[ind, ind]))\n",
    "            d_mat[ind, ind] = 1 / np.sqrt(d_mat[ind, ind])\n",
    "    laplacian = np.eye(weights.shape[0])  - d_mat @ weights @ d_mat\n",
    "\n",
    "    return laplacian\n",
    "\n",
    "def comp_affinity(data, slt_indices, other_indices ):\n",
    "    \n",
    "    slt = data[slt_indices]\n",
    "    raw = data[other_indices]\n",
    "    num_samples = data.shape[0]\n",
    "    affinity = rbf_kernel(raw, slt)\n",
    "    indices = np.argsort(affinity, axis = 1)[:, :-8]\n",
    "    for ind in range(affinity.shape[0]):\n",
    "        affinity[ind, indices[ind]] = 0\n",
    "    affinity /= np.sum(affinity, axis = 1).reshape(-1, 1)\n",
    "    zero_block1 = np.zeros((affinity.shape[0],affinity.shape[0]))\n",
    "    zero_block2 = np.zeros((affinity.shape[1], affinity.shape[1]))\n",
    "    top_half = np.hstack((zero_block1, affinity))\n",
    "    bot_half = np.hstack((affinity.T, zero_block2))\n",
    "    weight = np.vstack((top_half, bot_half))\n",
    "\n",
    "    D_mat = np.concatenate((np.sum(affinity, axis=1), \n",
    "                            np.sum(affinity.T, axis=1)))\n",
    "    D_mat = np.diag(D_mat)\n",
    "    \n",
    "    \n",
    "    return weight, D_mat\n",
    "    \n",
    "def get_salient(data, n_slt):\n",
    "    kmeans= KMeans(n_clusters = n_slt)\n",
    "    cat_data = np.hstack(data)\n",
    "    kmeans.fit(cat_data)\n",
    "    centroids = kmeans.cluster_centers_\n",
    "    dists = cdist(centroids, cat_data)\n",
    "    indices = np.argsort(dists, axis = 1)[:, 0]\n",
    "    indices = indices.flatten()\n",
    "    other_indices = set(list(range(data[0].shape[0]))).difference(indices)\n",
    "    other_indices = np.array(list(other_indices))\n",
    "    \n",
    "    #slt_pts = list()\n",
    "    #for k in range(len(data)):\n",
    "    #    slt_pts.append(data[k][indices])\n",
    "    return indices, other_indices\n",
    "    "
   ]
  },
  {
   "cell_type": "code",
   "execution_count": 21,
   "metadata": {},
   "outputs": [],
   "source": [
    "def spectral_clustering(v_data, n_clusters, n_slt = 40, r = 0.5, n_iter = 10):\n",
    "    \n",
    "    #Select salient points\n",
    "    slt_inds, other_inds = get_salient(v_data, n_slt)\n",
    "    \n",
    "    laplacians = list()\n",
    "    #For each view\n",
    "    for view in range(len(v_data)):\n",
    "        #Compute weight matrix and diagonal matrix for each view\n",
    "        weight, d_mat = comp_affinity(v_data[view], slt_inds, other_inds)\n",
    "        #Compute the laplacian for each view\n",
    "        laplacians.append(comp_laplacian(weight, d_mat))\n",
    "        \n",
    "    alphas = np.ones((n_clusters,)) / n_clusters\n",
    "    \n",
    "    for iter in range(n_iter):\n",
    "        "
   ]
  },
  {
   "cell_type": "code",
   "execution_count": 22,
   "metadata": {},
   "outputs": [],
   "source": [
    "data, labels = load_UCImultifeature()\n",
    "for ind in range(len(data)):\n",
    "    data[ind] = normalize_mat(data[ind])"
   ]
  },
  {
   "cell_type": "code",
   "execution_count": 23,
   "metadata": {},
   "outputs": [
    {
     "name": "stdout",
     "output_type": "stream",
     "text": [
      "[[0.07243163 0.1744272  0.3924612  ... 0.01108647 0.00886918 0.00960828]\n",
      " [0.08943089 0.14264597 0.44863267 ... 0.00960828 0.01108647 0.00813008]\n",
      " [0.0849963  0.10421286 0.436068   ... 0.01034738 0.00960828 0.00443459]\n",
      " ...\n",
      " [0.24907613 0.22099039 0.62971175 ... 0.01108647 0.01256467 0.01552106]\n",
      " [0.18255728 0.19290466 0.64005913 ... 0.00960828 0.01108647 0.01108647]\n",
      " [0.2623799  0.28011826 0.64079823 ... 0.00886918 0.00886918 0.01478197]]\n",
      "(40, 216)\n",
      "(1960, 216)\n",
      "[[ 1.          0.          0.         ...  0.          0.\n",
      "   0.        ]\n",
      " [ 0.          1.          0.         ...  0.          0.\n",
      "   0.        ]\n",
      " [ 0.          0.          1.         ...  0.          0.\n",
      "   0.        ]\n",
      " ...\n",
      " [ 0.          0.          0.         ... 38.25157758  0.\n",
      "   0.        ]\n",
      " [ 0.          0.          0.         ...  0.         62.87746909\n",
      "   0.        ]\n",
      " [ 0.          0.          0.         ...  0.          0.\n",
      "  35.77040593]]\n"
     ]
    }
   ],
   "source": [
    "clusters = spectral_clustering(data, n_clusters = 10)"
   ]
  },
  {
   "cell_type": "code",
   "execution_count": null,
   "metadata": {},
   "outputs": [],
   "source": []
  }
 ],
 "metadata": {
  "kernelspec": {
   "display_name": "Python 3",
   "language": "python",
   "name": "python3"
  },
  "language_info": {
   "codemirror_mode": {
    "name": "ipython",
    "version": 3
   },
   "file_extension": ".py",
   "mimetype": "text/x-python",
   "name": "python",
   "nbconvert_exporter": "python",
   "pygments_lexer": "ipython3",
   "version": "3.6.5"
  }
 },
 "nbformat": 4,
 "nbformat_minor": 2
}
