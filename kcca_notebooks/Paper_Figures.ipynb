{
 "cells": [
  {
   "cell_type": "markdown",
   "metadata": {},
   "source": [
    "# Simulated Data across Methods"
   ]
  },
  {
   "cell_type": "code",
   "execution_count": 3,
   "metadata": {},
   "outputs": [],
   "source": [
    "from mvlearn.embed.kcca_experimental import KCCA\n",
    "from mvlearn.embed.dcca import DCCA\n",
    "from mvlearn.embed.gcca import GCCA\n",
    "from mvlearn.embed.mvmds import MVMDS\n",
    "from mvlearn.datasets.GaussianMixture import GaussianMixture\n",
    "from mvlearn.plotting.plot import crossviews_plot\n",
    "\n",
    "import numpy as np\n",
    "import matplotlib.pyplot as plt\n",
    "import matplotlib\n",
    "%matplotlib inline\n",
    "import seaborn as sns"
   ]
  },
  {
   "cell_type": "markdown",
   "metadata": {},
   "source": [
    "## Raw Data"
   ]
  },
  {
   "cell_type": "code",
   "execution_count": 21,
   "metadata": {},
   "outputs": [],
   "source": [
    "## Make Latents\n",
    "n = 200\n",
    "mu = [[0,1], [0,-1]]\n",
    "sigma = 2*[np.eye(2), np.eye(2)]\n",
    "pi = [0.5,0.5]\n",
    "GM_train = GaussianMixture(n,mu,sigma,class_probs=pi)\n",
    "\n",
    "## Test\n",
    "GM_test = GaussianMixture(n,mu,sigma,class_probs=pi)"
   ]
  },
  {
   "cell_type": "code",
   "execution_count": 22,
   "metadata": {},
   "outputs": [],
   "source": [
    "## Make 2 views\n",
    "n_noise = 2\n",
    "transforms = ['linear', 'poly', 'sin']\n",
    "\n",
    "Xs_train = []\n",
    "Xs_test = []\n",
    "for transform in transforms:\n",
    "    GM_train.sample_views(transform=transform, n_noise=n_noise)\n",
    "    GM_test.sample_views(transform=transform, n_noise=n_noise)\n",
    "\n",
    "    Xs_train.append(GM_train.get_Xy()[0])\n",
    "    Xs_test.append(GM_test.get_Xy()[0])"
   ]
  },
  {
   "cell_type": "code",
   "execution_count": 112,
   "metadata": {},
   "outputs": [],
   "source": [
    "## Plotting parameters\n",
    "labels = GM_test.latent[:,0]\n",
    "#cmap = matplotlib.colors.ListedColormap(sns.color_palette(\"husl\", len(labels)).as_hex())\n",
    "cmap = matplotlib.colors.ListedColormap(sns.diverging_palette(240, 10, n=len(labels), center='light').as_hex())\n",
    "cmap = 'coolwarm'\n",
    "\n",
    "save_dir = '/mnt/c/Users/Ronan Perry/Documents/JHU/jovo-lab/multiview/multiview/paper_figures/husl/'\n",
    "\n",
    "context='poster'\n",
    "show=False\n",
    "\n",
    "scatter_kwargs = {'alpha':1.0}"
   ]
  },
  {
   "cell_type": "code",
   "execution_count": 111,
   "metadata": {},
   "outputs": [],
   "source": [
    "for i,transform in enumerate(transforms):\n",
    "    crossviews_plot(Xs_train[i], labels, dimensions=[0,1], ax_ticks=False, ax_labels=False, equal_axes=True, context=context, cmap=cmap, show=show, scatter_kwargs=scatter_kwargs)\n",
    "    if not show:\n",
    "        plt.savefig(save_dir + f'{transform}_train.png')\n",
    "        plt.close()\n",
    "    crossviews_plot(Xs_test[i], labels, dimensions=[0,1], ax_ticks=False, ax_labels=False, equal_axes=True, context=context,cmap=cmap, show=show, scatter_kwargs=scatter_kwargs)\n",
    "    if not show:\n",
    "        plt.savefig(save_dir + f'{transform}_test.png')\n",
    "        plt.close()"
   ]
  },
  {
   "cell_type": "markdown",
   "metadata": {},
   "source": [
    "## Linear KCCA"
   ]
  },
  {
   "cell_type": "code",
   "execution_count": 103,
   "metadata": {},
   "outputs": [],
   "source": [
    "ktype='linear'\n",
    "kcca = KCCA(ktype=ktype, reg = 0.1, degree=2.0, constant=0.1, n_components = 2, test=True)\n",
    "for i,transform in enumerate(transforms):\n",
    "    components = kcca.fit(Xs_train[i]).transform(Xs_test[i])\n",
    "\n",
    "    crossviews_plot(components, labels, ax_ticks=False, ax_labels=False, equal_axes=True, context=context, cmap=cmap, show=show, scatter_kwargs=scatter_kwargs)\n",
    "    if not show:\n",
    "        plt.savefig(save_dir + f'{ktype}-kcca_{transform}-test.png')\n",
    "        plt.close()"
   ]
  },
  {
   "cell_type": "markdown",
   "metadata": {},
   "source": [
    "## Polynomial KCCA"
   ]
  },
  {
   "cell_type": "code",
   "execution_count": 104,
   "metadata": {},
   "outputs": [],
   "source": [
    "ktype='poly'\n",
    "kcca = KCCA(ktype=ktype, reg = 0.1, degree=2.0, constant=0.1, n_components = 2, test=True)\n",
    "for i,transform in enumerate(transforms):\n",
    "    components = kcca.fit(Xs_train[i]).transform(Xs_test[i])\n",
    "\n",
    "    crossviews_plot(components, labels, ax_ticks=False, ax_labels=False, equal_axes=True, context=context, cmap=cmap, show=show, scatter_kwargs=scatter_kwargs)\n",
    "    if not show:\n",
    "        plt.savefig(save_dir + f'{ktype}-kcca_{transform}-test.png')\n",
    "        plt.close()"
   ]
  },
  {
   "cell_type": "markdown",
   "metadata": {},
   "source": [
    "## Gaussian"
   ]
  },
  {
   "cell_type": "code",
   "execution_count": 105,
   "metadata": {},
   "outputs": [],
   "source": [
    "ktype='gaussian'\n",
    "kcca = KCCA(ktype=ktype, reg = 1.0, sigma=2.0, n_components = 2, test=True)\n",
    "for i,transform in enumerate(transforms):\n",
    "    components = kcca.fit(Xs_train[i]).transform(Xs_test[i])\n",
    "\n",
    "    crossviews_plot(components, labels, ax_ticks=False, ax_labels=False, equal_axes=True, context=context, cmap=cmap, show=show, scatter_kwargs=scatter_kwargs)\n",
    "    if not show:\n",
    "        plt.savefig(save_dir + f'{ktype}-kcca_{transform}-test.png')\n",
    "        plt.close()"
   ]
  },
  {
   "cell_type": "markdown",
   "metadata": {},
   "source": [
    "## DCCA"
   ]
  },
  {
   "cell_type": "code",
   "execution_count": 108,
   "metadata": {},
   "outputs": [],
   "source": [
    "for i,transform in enumerate(transforms):\n",
    "    input_size1, input_size2 = Xs_train[i][0].shape[1], Xs_train[i][1].shape[1]\n",
    "    outdim_size = min(Xs_train[i][0].shape[1], 2)\n",
    "    layer_sizes1 = [256, 512, outdim_size]\n",
    "    layer_sizes2 = [256, 512, outdim_size]\n",
    "    dcca = DCCA(input_size1, input_size2, outdim_size, layer_sizes1, layer_sizes2, epoch_num=400)\n",
    "    components = dcca.fit(Xs_train[i]).transform(Xs_test[i])\n",
    "\n",
    "    crossviews_plot(components, labels, ax_ticks=False, ax_labels=False, equal_axes=True, context=context, cmap=cmap, show=show, scatter_kwargs=scatter_kwargs)\n",
    "    if not show:\n",
    "        plt.savefig(save_dir + f'dcca_{transform}-test.png')\n",
    "        plt.close()"
   ]
  },
  {
   "cell_type": "code",
   "execution_count": null,
   "metadata": {},
   "outputs": [],
   "source": []
  }
 ],
 "metadata": {
  "kernelspec": {
   "display_name": "Python [conda env:mvdev] *",
   "language": "python",
   "name": "conda-env-mvdev-py"
  },
  "language_info": {
   "codemirror_mode": {
    "name": "ipython",
    "version": 3
   },
   "file_extension": ".py",
   "mimetype": "text/x-python",
   "name": "python",
   "nbconvert_exporter": "python",
   "pygments_lexer": "ipython3",
   "version": "3.7.3"
  }
 },
 "nbformat": 4,
 "nbformat_minor": 2
}
