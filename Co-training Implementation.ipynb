{
 "cells": [
  {
   "cell_type": "code",
   "execution_count": 1,
   "metadata": {},
   "outputs": [],
   "source": [
    "import numpy as np\n",
    "import matplotlib.pyplot as plt\n",
    "import pandas as pd\n",
    "from sklearn import naive_bayes, model_selection, metrics\n",
    "import matplotlib.pyplot as plt"
   ]
  },
  {
   "cell_type": "code",
   "execution_count": 94,
   "metadata": {},
   "outputs": [
    {
     "name": "stdout",
     "output_type": "stream",
     "text": [
      "The accuracy of the single-view model trained using the Naive Bayes model is: 0.7736686390532544\n"
     ]
    }
   ],
   "source": [
    "# This cell is for single view\n",
    "\n",
    "data_set = pd.read_csv('D:/Datasets/Diabetes_Dataset.csv', header = None)\n",
    "data_set.columns = ['Pregnant','Plasma_Glucose','DBP','Thickness','Insulin','BMI','Pedigree','Age','Class']\n",
    "X = data_set.loc[:,data_set.columns != 'Class']\n",
    "y = data_set['Class']\n",
    "\n",
    "\n",
    "X_train, X_test, y_train, y_test = model_selection.train_test_split(X, y, test_size=.88, random_state=23)\n",
    "\n",
    "gnb = naive_bayes.GaussianNB().fit(X_train,y_train)\n",
    "\n",
    "y_pred = gnb.predict(X_test)\n",
    "\n",
    "\n",
    "\n",
    "print('The accuracy of the single-view model trained using the Naive Bayes model is: ' + str(metrics.accuracy_score(y_test,y_pred)))\n",
    "\n",
    "\n"
   ]
  },
  {
   "cell_type": "code",
   "execution_count": 95,
   "metadata": {},
   "outputs": [
    {
     "data": {
      "text/plain": [
       "(92, 8)"
      ]
     },
     "execution_count": 95,
     "metadata": {},
     "output_type": "execute_result"
    }
   ],
   "source": [
    "X_train.shape"
   ]
  },
  {
   "cell_type": "code",
   "execution_count": 96,
   "metadata": {},
   "outputs": [],
   "source": [
    "def co_train(X_train,y_train,X_test,y_test):\n",
    "    gnb = naive_bayes.GaussianNB().fit(X_train,y_train)\n",
    "    y_pred2= gnb.predict(X_test) \n",
    "\n",
    "    y_prob = gnb.predict_proba(X_test)\n",
    "                \n",
    "    j = []\n",
    "\n",
    "    for i in range(len(y_prob[:,1])):\n",
    "\n",
    "        j.append(max(y_prob[i,0],y_prob[i,1]))\n",
    "\n",
    "    print('Internal Classifier Accuracy: ' + str(metrics.accuracy_score(y_test,y_pred2)))\n",
    "\n",
    "\n",
    "    X_first = np.column_stack((X_test,y_pred2,np.array(j),y_test))\n",
    "    \n",
    "    X_first = X_first[X_first[:,9].argsort()]\n",
    "    n = round(.7 * len(X_first[:,9]))\n",
    "    n_comp = len(X_first[:,9])- n\n",
    "\n",
    "    total = np.row_stack((np.column_stack((sub_X_train2,sub_y_train2)),X_first[n:,0:9]))  #total new training\n",
    "    total2 = np.row_stack((X_first[:n,0:9]))   #total new testing\n",
    "\n",
    "    new_X = total[:,:-1]\n",
    "    new_Y = total[:,-1:]\n",
    "\n",
    "    test_X = total2[:,:-1]\n",
    "    test_Y = total2[:,-1:]\n",
    "\n",
    "    return [new_X, new_Y,test_X, test_Y,gnb]\n",
    "#This initializes the first iteration of what we want"
   ]
  },
  {
   "cell_type": "code",
   "execution_count": 97,
   "metadata": {},
   "outputs": [
    {
     "name": "stdout",
     "output_type": "stream",
     "text": [
      "Internal Classifier Accuracy: 0.6992337164750958\n",
      "Internal Classifier Accuracy: 0.9013698630136986\n",
      "Internal Classifier Accuracy: 0.9215686274509803\n",
      "Internal Classifier Accuracy: 0.9044943820224719\n",
      "Internal Classifier Accuracy: 0.728\n",
      "Internal Classifier Accuracy: 0.8409090909090909\n",
      "Internal Classifier Accuracy: 0.7903225806451613\n",
      "Internal Classifier Accuracy: 0.5813953488372093\n",
      "\n",
      "\n",
      "The accuracy of the multi-view model trained using the Naive Bayes model is: 0.7337662337662337\n"
     ]
    },
    {
     "name": "stderr",
     "output_type": "stream",
     "text": [
      "C:\\Users\\arman\\Anaconda3\\lib\\site-packages\\sklearn\\utils\\validation.py:761: DataConversionWarning: A column-vector y was passed when a 1d array was expected. Please change the shape of y to (n_samples, ), for example using ravel().\n",
      "  y = column_or_1d(y, warn=True)\n",
      "C:\\Users\\arman\\Anaconda3\\lib\\site-packages\\sklearn\\utils\\validation.py:761: DataConversionWarning: A column-vector y was passed when a 1d array was expected. Please change the shape of y to (n_samples, ), for example using ravel().\n",
      "  y = column_or_1d(y, warn=True)\n",
      "C:\\Users\\arman\\Anaconda3\\lib\\site-packages\\sklearn\\utils\\validation.py:761: DataConversionWarning: A column-vector y was passed when a 1d array was expected. Please change the shape of y to (n_samples, ), for example using ravel().\n",
      "  y = column_or_1d(y, warn=True)\n",
      "C:\\Users\\arman\\Anaconda3\\lib\\site-packages\\sklearn\\utils\\validation.py:761: DataConversionWarning: A column-vector y was passed when a 1d array was expected. Please change the shape of y to (n_samples, ), for example using ravel().\n",
      "  y = column_or_1d(y, warn=True)\n",
      "C:\\Users\\arman\\Anaconda3\\lib\\site-packages\\sklearn\\utils\\validation.py:761: DataConversionWarning: A column-vector y was passed when a 1d array was expected. Please change the shape of y to (n_samples, ), for example using ravel().\n",
      "  y = column_or_1d(y, warn=True)\n",
      "C:\\Users\\arman\\Anaconda3\\lib\\site-packages\\sklearn\\utils\\validation.py:761: DataConversionWarning: A column-vector y was passed when a 1d array was expected. Please change the shape of y to (n_samples, ), for example using ravel().\n",
      "  y = column_or_1d(y, warn=True)\n",
      "C:\\Users\\arman\\Anaconda3\\lib\\site-packages\\sklearn\\utils\\validation.py:761: DataConversionWarning: A column-vector y was passed when a 1d array was expected. Please change the shape of y to (n_samples, ), for example using ravel().\n",
      "  y = column_or_1d(y, warn=True)\n"
     ]
    }
   ],
   "source": [
    "8#%% Co_training\n",
    "\n",
    "# Train a very small portion\n",
    "# Test. Testing that you are most confident about you add to the training data\n",
    "# Retrain on that and continue to do this for a number of iterations. Use naive bayes\n",
    "\n",
    "#def co_train(X,y):\n",
    "    \n",
    "X_train2, X_test2, y_train2, y_test2 = model_selection.train_test_split(X, y, test_size=0.2, random_state=21)\n",
    "\n",
    "sub_X_train2, sub_X_test2, sub_y_train2, sub_y_test2 = model_selection.train_test_split(X_train2, y_train2, test_size=0.85, random_state=15)\n",
    "  \n",
    "    \n",
    "j = co_train(sub_X_train2,sub_y_train2,sub_X_test2,sub_y_test2)\n",
    "x = j[0]\n",
    "y = j[1]\n",
    "X = j[2]\n",
    "Y = j[3]\n",
    "\n",
    "for i in range(7):\n",
    "    j = co_train(x,y,X,Y)\n",
    "    x = j[0]\n",
    "    y = j[1]\n",
    "    X = j[2]\n",
    "    Y = j[3]\n",
    "    \n",
    "model = j[4]\n",
    "\n",
    "prediction = model.predict(X_test2)\n",
    "print('\\n\\nThe accuracy of the multi-view model trained using the Naive Bayes model is: ' + str(metrics.accuracy_score(y_test2,prediction)))\n",
    "\n",
    "    "
   ]
  },
  {
   "cell_type": "code",
   "execution_count": 98,
   "metadata": {},
   "outputs": [
    {
     "data": {
      "text/plain": [
       "(92, 8)"
      ]
     },
     "execution_count": 98,
     "metadata": {},
     "output_type": "execute_result"
    }
   ],
   "source": [
    "sub_X_train2.shape"
   ]
  },
  {
   "cell_type": "code",
   "execution_count": 99,
   "metadata": {},
   "outputs": [
    {
     "name": "stdout",
     "output_type": "stream",
     "text": [
      "The accuracy of the single view model trained using the Naive Bayes model is: 0.8115597783056215\n"
     ]
    }
   ],
   "source": [
    "data_set = pd.read_csv('D:/Datasets/data_banknote_authentication.txt', header = None)\n",
    "data_set.columns = ['Variance','Skewness','Kurtosis','Entropy','Class']\n",
    "\n",
    "\n",
    "X = data_set.loc[:,data_set.columns != 'Class']\n",
    "y = data_set['Class']\n",
    "\n",
    "\n",
    "X_train, X_test, y_train, y_test = model_selection.train_test_split(X, y, test_size=.92, random_state=23)\n",
    "\n",
    "gnb = naive_bayes.GaussianNB().fit(X_train,y_train)\n",
    "\n",
    "y_pred = gnb.predict(X_test)\n",
    "\n",
    "\n",
    "\n",
    "print('The accuracy of the single view model trained using the Naive Bayes model is: ' + str(metrics.accuracy_score(y_test,y_pred)))\n",
    "\n",
    "\n",
    "\n"
   ]
  },
  {
   "cell_type": "code",
   "execution_count": 100,
   "metadata": {},
   "outputs": [
    {
     "data": {
      "text/plain": [
       "(109, 4)"
      ]
     },
     "execution_count": 100,
     "metadata": {},
     "output_type": "execute_result"
    }
   ],
   "source": [
    "X_train.shape"
   ]
  },
  {
   "cell_type": "code",
   "execution_count": 101,
   "metadata": {},
   "outputs": [],
   "source": [
    "def co_train2(X_train,y_train,X_test,y_test):\n",
    "    gnb = naive_bayes.GaussianNB().fit(X_train,y_train)\n",
    "    y_pred2= gnb.predict(X_test) \n",
    "\n",
    "    y_prob = gnb.predict_proba(X_test)\n",
    "                \n",
    "    j = []\n",
    "\n",
    "    for i in range(len(y_prob[:,1])):\n",
    "\n",
    "        j.append(max(y_prob[i,0],y_prob[i,1]))\n",
    "\n",
    "    print('Internal Classifier Accuracy: ' + str(metrics.accuracy_score(y_test,y_pred2)))\n",
    "\n",
    "\n",
    "    X_first = np.column_stack((X_test,y_pred2,np.array(j),y_test))\n",
    "    \n",
    "    X_first = X_first[X_first[:,5].argsort()]\n",
    "    n = round(.7 * len(X_first[:,5]))\n",
    "    n_comp = len(X_first[:,5])- n\n",
    "\n",
    "    total = np.row_stack((np.column_stack((sub_X_train2,sub_y_train2)),X_first[n:,0:5]))  #total new training\n",
    "    total2 = np.row_stack((X_first[:n,0:5]))   #total new testing\n",
    "\n",
    "    new_X = total[:,:-1]\n",
    "    new_Y = total[:,-1:]\n",
    "\n",
    "    test_X = total2[:,:-1]\n",
    "    test_Y = total2[:,-1:]\n",
    "\n",
    "    return [new_X, new_Y,test_X, test_Y,gnb]\n",
    "#This initializes the first iteration of what we want"
   ]
  },
  {
   "cell_type": "code",
   "execution_count": 102,
   "metadata": {},
   "outputs": [
    {
     "name": "stdout",
     "output_type": "stream",
     "text": [
      "Internal Classifier Accuracy: 0.8319838056680162\n",
      "Internal Classifier Accuracy: 0.9508670520231214\n",
      "Internal Classifier Accuracy: 0.9049586776859504\n",
      "Internal Classifier Accuracy: 0.9410029498525073\n",
      "Internal Classifier Accuracy: 0.8523206751054853\n",
      "\n",
      "\n",
      "The accuracy of the multiview model trained using the Naive Bayes model is: 0.8618181818181818\n"
     ]
    },
    {
     "name": "stderr",
     "output_type": "stream",
     "text": [
      "C:\\Users\\arman\\Anaconda3\\lib\\site-packages\\sklearn\\utils\\validation.py:761: DataConversionWarning: A column-vector y was passed when a 1d array was expected. Please change the shape of y to (n_samples, ), for example using ravel().\n",
      "  y = column_or_1d(y, warn=True)\n",
      "C:\\Users\\arman\\Anaconda3\\lib\\site-packages\\sklearn\\utils\\validation.py:761: DataConversionWarning: A column-vector y was passed when a 1d array was expected. Please change the shape of y to (n_samples, ), for example using ravel().\n",
      "  y = column_or_1d(y, warn=True)\n",
      "C:\\Users\\arman\\Anaconda3\\lib\\site-packages\\sklearn\\utils\\validation.py:761: DataConversionWarning: A column-vector y was passed when a 1d array was expected. Please change the shape of y to (n_samples, ), for example using ravel().\n",
      "  y = column_or_1d(y, warn=True)\n",
      "C:\\Users\\arman\\Anaconda3\\lib\\site-packages\\sklearn\\utils\\validation.py:761: DataConversionWarning: A column-vector y was passed when a 1d array was expected. Please change the shape of y to (n_samples, ), for example using ravel().\n",
      "  y = column_or_1d(y, warn=True)\n"
     ]
    }
   ],
   "source": [
    "X_train2, X_test2, y_train2, y_test2 = model_selection.train_test_split(X, y, test_size=0.2, random_state=21)\n",
    "\n",
    "sub_X_train2, sub_X_test2, sub_y_train2, sub_y_test2 = model_selection.train_test_split(X_train2, y_train2, test_size=0.9, random_state=15)\n",
    "    \n",
    "j = co_train2(sub_X_train2,sub_y_train2,sub_X_test2,sub_y_test2)\n",
    "x = j[0]\n",
    "y = j[1]\n",
    "X = j[2]\n",
    "Y = j[3]\n",
    "\n",
    "for p in range(4):\n",
    "    k = co_train2(x,y,X,Y)\n",
    "    x = k[0]\n",
    "    y = k[1]\n",
    "    X = k[2]\n",
    "    Y = k[3]\n",
    "    \n",
    "model = k[4]\n",
    "\n",
    "prediction = model.predict(X_test2)\n",
    "print('\\n\\nThe accuracy of the multiview model trained using the Naive Bayes model is: ' + str(metrics.accuracy_score(y_test2,prediction)))\n"
   ]
  },
  {
   "cell_type": "code",
   "execution_count": 103,
   "metadata": {},
   "outputs": [
    {
     "data": {
      "text/plain": [
       "(109, 4)"
      ]
     },
     "execution_count": 103,
     "metadata": {},
     "output_type": "execute_result"
    }
   ],
   "source": [
    "sub_X_train2.shape"
   ]
  },
  {
   "cell_type": "code",
   "execution_count": null,
   "metadata": {},
   "outputs": [],
   "source": [
    "\n",
    "gnb = naive_bayes.GaussianNB().fit(X_train,y_train)\n",
    "\n",
    "\n",
    "def co_train2(X_train,y_train,X_test,y_test,gn):\n",
    "    gnb = gn.fit(X_train,y_train)\n",
    "    y_pred2= gnb.predict(X_test) \n",
    "\n",
    "    y_prob = gnb.predict_proba(X_test)\n",
    "                \n",
    "    j = []\n",
    "\n",
    "    for i in range(len(y_prob[:,1])):\n",
    "\n",
    "        j.append(max(y_prob[i,0],y_prob[i,1]))\n",
    "\n",
    "    print('Internal Classifier Accuracy: ' + str(metrics.accuracy_score(y_test,y_pred2)))\n",
    "\n",
    "\n",
    "    X_first = np.column_stack((X_test,y_pred2,np.array(j),y_test))\n",
    "    \n",
    "    X_first = X_first[X_first[:,5].argsort()]\n",
    "    n = round(.7 * len(X_first[:,5]))\n",
    "    n_comp = len(X_first[:,5])- n\n",
    "\n",
    "    total = np.row_stack((np.column_stack((sub_X_train2,sub_y_train2)),X_first[n:,0:5]))  #total new training\n",
    "    total2 = np.row_stack((X_first[:n,0:5]))   #total new testing\n",
    "\n",
    "    new_X = total[:,:-1]\n",
    "    new_Y = total[:,-1:]\n",
    "\n",
    "    test_X = total2[:,:-1]\n",
    "    test_Y = total2[:,-1:]\n",
    "\n",
    "    return [new_X, new_Y,test_X, test_Y,gnb]\n",
    "#This initializes the first iteration of what we want"
   ]
  },
  {
   "cell_type": "code",
   "execution_count": 13,
   "metadata": {},
   "outputs": [],
   "source": [
    "#real co-training\n",
    "# This cell is for single view\n",
    "\n",
    "import numpy as np\n",
    "import matplotlib.pyplot as plt\n",
    "import pandas as pd\n",
    "from sklearn import naive_bayes, model_selection, metrics\n",
    "import matplotlib.pyplot as plt\n",
    "\n",
    "\n",
    "data_set = pd.read_csv('D:/Datasets/Diabetes_Dataset.csv', header = None)\n",
    "data_set.columns = ['Pregnant','Plasma_Glucose','DBP','Thickness','Insulin','BMI','Pedigree','Age','Class']\n",
    "X = data_set.loc[:,data_set.columns != 'Class']\n",
    "y = data_set['Class']\n",
    "\n",
    "X_train, X_test, y_train, y_test = model_selection.train_test_split(X, y, test_size=.88, random_state=23)\n"
   ]
  },
  {
   "cell_type": "code",
   "execution_count": 16,
   "metadata": {},
   "outputs": [
    {
     "name": "stdout",
     "output_type": "stream",
     "text": [
      "The accuracy of the single-view model trained using the Naive Bayes model is: 0.6878698224852071\n"
     ]
    }
   ],
   "source": [
    "V1_cols = ['Pregnant','Thickness','BMI','Pedigree','Age']\n",
    "V2_cols = ['Plasma_Glucose','DBP','Insulin']\n",
    "\n",
    "V1_train = X_train[V1_cols]\n",
    "V2_train = X_train[V2_cols]\n",
    "\n",
    "V1_test = X_test[V1_cols]\n",
    "V2_test = X_test[V2_cols]\n",
    "\n",
    "\n",
    "\n",
    "gnb1 = naive_bayes.GaussianNB().fit(V1_train,y_train)\n",
    "gnb2 = naive_bayes.GaussianNB().fit(V2_train,y_train)\n",
    "\n",
    "y_pred1 = gnb.predict(V1_test)\n",
    "y_pred2 = gnb.predict(V2_test)\n",
    "\n",
    "\n",
    "\n",
    "#print('The accuracy of the single-view model trained using the Naive Bayes model is: ' + str(metrics.accuracy_score(y_test,y_pred)))\n"
   ]
  }
 ],
 "metadata": {
  "kernelspec": {
   "display_name": "Python 3",
   "language": "python",
   "name": "python3"
  },
  "language_info": {
   "codemirror_mode": {
    "name": "ipython",
    "version": 3
   },
   "file_extension": ".py",
   "mimetype": "text/x-python",
   "name": "python",
   "nbconvert_exporter": "python",
   "pygments_lexer": "ipython3",
   "version": "3.7.1"
  }
 },
 "nbformat": 4,
 "nbformat_minor": 2
}
