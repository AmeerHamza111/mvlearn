{
 "cells": [
  {
   "cell_type": "code",
   "execution_count": 283,
   "metadata": {},
   "outputs": [],
   "source": [
    "import numpy as np\n",
    "import matplotlib.pyplot as plt\n",
    "import pandas as pd\n",
    "from sklearn import naive_bayes, model_selection, metrics\n",
    "import matplotlib.pyplot as plt"
   ]
  },
  {
   "cell_type": "code",
   "execution_count": 332,
   "metadata": {},
   "outputs": [
    {
     "name": "stdout",
     "output_type": "stream",
     "text": [
      "The accuracy of the model trained using the Naive Bayes model is: 0.7736686390532544\n"
     ]
    }
   ],
   "source": [
    "data_set = pd.read_csv('D:/Datasets/Diabetes_Dataset.csv', header = None)\n",
    "data_set.columns = ['Pregnant','Plasma_Glucose','DBP','Thickness','Insulin','BMI','Pedigree','Age','Class']\n",
    "X = data_set.loc[:,data_set.columns != 'Class']\n",
    "y = data_set['Class']\n",
    "\n",
    "\n",
    "X_train, X_test, y_train, y_test = model_selection.train_test_split(X, y, test_size=.88, random_state=23)\n",
    "\n",
    "gnb = naive_bayes.GaussianNB().fit(X_train,y_train)\n",
    "\n",
    "y_pred = gnb.predict(X_test)\n",
    "\n",
    "\n",
    "\n",
    "print('The accuracy of the model trained using the Naive Bayes model is: ' + str(metrics.accuracy_score(y_test,y_pred)))\n",
    "\n",
    "\n"
   ]
  },
  {
   "cell_type": "code",
   "execution_count": 333,
   "metadata": {},
   "outputs": [
    {
     "data": {
      "text/plain": [
       "(768, 9)"
      ]
     },
     "execution_count": 333,
     "metadata": {},
     "output_type": "execute_result"
    }
   ],
   "source": [
    "data_set.shape"
   ]
  },
  {
   "cell_type": "code",
   "execution_count": 326,
   "metadata": {},
   "outputs": [],
   "source": [
    "def co_train(X_train,y_train,X_test,y_test):\n",
    "    gnb = naive_bayes.GaussianNB().fit(X_train,y_train)\n",
    "    y_pred2= gnb.predict(X_test) \n",
    "\n",
    "    y_prob = gnb.predict_proba(X_test)\n",
    "                \n",
    "    j = []\n",
    "\n",
    "    for i in range(len(y_prob[:,1])):\n",
    "\n",
    "        j.append(max(y_prob[i,0],y_prob[i,1]))\n",
    "\n",
    "    print('The accuracy of the model trained using the Naive Bayes model is: ' + str(metrics.accuracy_score(y_test,y_pred2)))\n",
    "\n",
    "\n",
    "    X_first = np.column_stack((X_test,y_pred2,np.array(j),y_test))\n",
    "    \n",
    "    X_first = X_first[X_first[:,9].argsort()]\n",
    "    n = round(.7 * len(X_first[:,9]))\n",
    "    n_comp = len(X_first[:,9])- n\n",
    "\n",
    "    total = np.row_stack((np.column_stack((sub_X_train2,sub_y_train2)),X_first[n:,0:9]))  #total new training\n",
    "    total2 = np.row_stack((X_first[:n,0:9]))   #total new testing\n",
    "\n",
    "    new_X = total[:,:-1]\n",
    "    new_Y = total[:,-1:]\n",
    "\n",
    "    test_X = total2[:,:-1]\n",
    "    test_Y = total2[:,-1:]\n",
    "\n",
    "    return [new_X, new_Y,test_X, test_Y,gnb]\n",
    "#This initializes the first iteration of what we want"
   ]
  },
  {
   "cell_type": "code",
   "execution_count": 327,
   "metadata": {},
   "outputs": [
    {
     "name": "stdout",
     "output_type": "stream",
     "text": [
      "The accuracy of the model trained using the Naive Bayes model is: 0.7604651162790698\n",
      "The accuracy of the model trained using the Naive Bayes model is: 0.9069767441860465\n",
      "The accuracy of the model trained using the Naive Bayes model is: 0.9478672985781991\n",
      "The accuracy of the model trained using the Naive Bayes model is: 0.7272727272727273\n"
     ]
    },
    {
     "name": "stderr",
     "output_type": "stream",
     "text": [
      "C:\\Users\\arman\\Anaconda3\\lib\\site-packages\\sklearn\\utils\\validation.py:761: DataConversionWarning: A column-vector y was passed when a 1d array was expected. Please change the shape of y to (n_samples, ), for example using ravel().\n",
      "  y = column_or_1d(y, warn=True)\n",
      "C:\\Users\\arman\\Anaconda3\\lib\\site-packages\\sklearn\\utils\\validation.py:761: DataConversionWarning: A column-vector y was passed when a 1d array was expected. Please change the shape of y to (n_samples, ), for example using ravel().\n",
      "  y = column_or_1d(y, warn=True)\n"
     ]
    }
   ],
   "source": [
    "8#%% Co_training\n",
    "\n",
    "# Train a very small portion\n",
    "# Test. Testing that you are most confident about you add to the training data\n",
    "# Retrain on that and continue to do this for a number of iterations. Use naive bayes\n",
    "\n",
    "#def co_train(X,y):\n",
    "    \n",
    "X_train2, X_test2, y_train2, y_test2 = model_selection.train_test_split(X, y, test_size=0.2, random_state=21)\n",
    "\n",
    "sub_X_train2, sub_X_test2, sub_y_train2, sub_y_test2 = model_selection.train_test_split(X_train2, y_train2, test_size=0.7, random_state=15)\n",
    "  \n",
    "    \n",
    "j = co_train(sub_X_train2,sub_y_train2,sub_X_test2,sub_y_test2)\n",
    "x = j[0]\n",
    "y = j[1]\n",
    "X = j[2]\n",
    "Y = j[3]\n",
    "\n",
    "for i in range(2):\n",
    "    j = co_train(x,y,X,Y)\n",
    "    x = j[0]\n",
    "    y = j[1]\n",
    "    X = j[2]\n",
    "    Y = j[3]\n",
    "    \n",
    "model = j[4]\n",
    "\n",
    "prediction = model.predict(X_test2)\n",
    "print('The accuracy of the model trained using the Naive Bayes model is: ' + str(metrics.accuracy_score(y_test2,prediction)))\n",
    "\n",
    "    "
   ]
  },
  {
   "cell_type": "code",
   "execution_count": 382,
   "metadata": {},
   "outputs": [
    {
     "name": "stdout",
     "output_type": "stream",
     "text": [
      "The accuracy of the model trained using the Naive Bayes model is: 0.807832422586521\n"
     ]
    }
   ],
   "source": [
    "data_set = pd.read_csv('D:/Datasets/data_banknote_authentication.txt', header = None)\n",
    "data_set.columns = ['Variance','Skewness','Kurtosis','Entropy','Class']\n",
    "\n",
    "\n",
    "X = data_set.loc[:,data_set.columns != 'Class']\n",
    "y = data_set['Class']\n",
    "\n",
    "\n",
    "X_train, X_test, y_train, y_test = model_selection.train_test_split(X, y, test_size=.8, random_state=23)\n",
    "\n",
    "gnb = naive_bayes.GaussianNB().fit(X_train,y_train)\n",
    "\n",
    "y_pred = gnb.predict(X_test)\n",
    "\n",
    "\n",
    "\n",
    "print('The accuracy of the model trained using the Naive Bayes model is: ' + str(metrics.accuracy_score(y_test,y_pred)))\n",
    "\n",
    "\n",
    "\n"
   ]
  },
  {
   "cell_type": "code",
   "execution_count": 383,
   "metadata": {},
   "outputs": [
    {
     "data": {
      "text/plain": [
       "(1372, 5)"
      ]
     },
     "execution_count": 383,
     "metadata": {},
     "output_type": "execute_result"
    }
   ],
   "source": [
    "data_set.shape"
   ]
  },
  {
   "cell_type": "code",
   "execution_count": 384,
   "metadata": {},
   "outputs": [],
   "source": [
    "def co_train2(X_train,y_train,X_test,y_test):\n",
    "    gnb = naive_bayes.GaussianNB().fit(X_train,y_train)\n",
    "    y_pred2= gnb.predict(X_test) \n",
    "\n",
    "    y_prob = gnb.predict_proba(X_test)\n",
    "                \n",
    "    j = []\n",
    "\n",
    "    for i in range(len(y_prob[:,1])):\n",
    "\n",
    "        j.append(max(y_prob[i,0],y_prob[i,1]))\n",
    "\n",
    "    print('The accuracy of the model trained using the Naive Bayes model is: ' + str(metrics.accuracy_score(y_test,y_pred2)))\n",
    "\n",
    "\n",
    "    X_first = np.column_stack((X_test,y_pred2,np.array(j),y_test))\n",
    "    \n",
    "    X_first = X_first[X_first[:,5].argsort()]\n",
    "    n = round(.7 * len(X_first[:,5]))\n",
    "    n_comp = len(X_first[:,5])- n\n",
    "\n",
    "    total = np.row_stack((np.column_stack((sub_X_train2,sub_y_train2)),X_first[n:,0:5]))  #total new training\n",
    "    total2 = np.row_stack((X_first[:n,0:5]))   #total new testing\n",
    "\n",
    "    new_X = total[:,:-1]\n",
    "    new_Y = total[:,-1:]\n",
    "\n",
    "    test_X = total2[:,:-1]\n",
    "    test_Y = total2[:,-1:]\n",
    "\n",
    "    return [new_X, new_Y,test_X, test_Y,gnb]\n",
    "#This initializes the first iteration of what we want"
   ]
  },
  {
   "cell_type": "code",
   "execution_count": 385,
   "metadata": {},
   "outputs": [
    {
     "name": "stdout",
     "output_type": "stream",
     "text": [
      "The accuracy of the model trained using the Naive Bayes model is: 0.8319838056680162\n",
      "The accuracy of the model trained using the Naive Bayes model is: 0.9508670520231214\n",
      "The accuracy of the model trained using the Naive Bayes model is: 0.9049586776859504\n",
      "The accuracy of the model trained using the Naive Bayes model is: 0.9410029498525073\n",
      "The accuracy of the model trained using the Naive Bayes model is: 0.8523206751054853\n",
      "The accuracy of the model trained using the Naive Bayes model is: 0.8618181818181818\n"
     ]
    },
    {
     "name": "stderr",
     "output_type": "stream",
     "text": [
      "C:\\Users\\arman\\Anaconda3\\lib\\site-packages\\sklearn\\utils\\validation.py:761: DataConversionWarning: A column-vector y was passed when a 1d array was expected. Please change the shape of y to (n_samples, ), for example using ravel().\n",
      "  y = column_or_1d(y, warn=True)\n",
      "C:\\Users\\arman\\Anaconda3\\lib\\site-packages\\sklearn\\utils\\validation.py:761: DataConversionWarning: A column-vector y was passed when a 1d array was expected. Please change the shape of y to (n_samples, ), for example using ravel().\n",
      "  y = column_or_1d(y, warn=True)\n",
      "C:\\Users\\arman\\Anaconda3\\lib\\site-packages\\sklearn\\utils\\validation.py:761: DataConversionWarning: A column-vector y was passed when a 1d array was expected. Please change the shape of y to (n_samples, ), for example using ravel().\n",
      "  y = column_or_1d(y, warn=True)\n",
      "C:\\Users\\arman\\Anaconda3\\lib\\site-packages\\sklearn\\utils\\validation.py:761: DataConversionWarning: A column-vector y was passed when a 1d array was expected. Please change the shape of y to (n_samples, ), for example using ravel().\n",
      "  y = column_or_1d(y, warn=True)\n"
     ]
    }
   ],
   "source": [
    "X_train2, X_test2, y_train2, y_test2 = model_selection.train_test_split(X, y, test_size=0.2, random_state=21)\n",
    "\n",
    "sub_X_train2, sub_X_test2, sub_y_train2, sub_y_test2 = model_selection.train_test_split(X_train2, y_train2, test_size=0.9, random_state=15)\n",
    "    \n",
    "j = co_train2(sub_X_train2,sub_y_train2,sub_X_test2,sub_y_test2)\n",
    "x = j[0]\n",
    "y = j[1]\n",
    "X = j[2]\n",
    "Y = j[3]\n",
    "\n",
    "for p in range(4):\n",
    "    k = co_train2(x,y,X,Y)\n",
    "    x = k[0]\n",
    "    y = k[1]\n",
    "    X = k[2]\n",
    "    Y = k[3]\n",
    "    \n",
    "model = k[4]\n",
    "\n",
    "prediction = model.predict(X_test2)\n",
    "print('The accuracy of the model trained using the Naive Bayes model is: ' + str(metrics.accuracy_score(y_test2,prediction)))\n"
   ]
  },
  {
   "cell_type": "code",
   "execution_count": null,
   "metadata": {},
   "outputs": [],
   "source": []
  }
 ],
 "metadata": {
  "kernelspec": {
   "display_name": "Python 3",
   "language": "python",
   "name": "python3"
  },
  "language_info": {
   "codemirror_mode": {
    "name": "ipython",
    "version": 3
   },
   "file_extension": ".py",
   "mimetype": "text/x-python",
   "name": "python",
   "nbconvert_exporter": "python",
   "pygments_lexer": "ipython3",
   "version": "3.7.1"
  }
 },
 "nbformat": 4,
 "nbformat_minor": 2
}
