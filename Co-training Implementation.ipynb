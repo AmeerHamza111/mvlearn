{
 "cells": [
  {
   "cell_type": "code",
   "execution_count": 17,
   "metadata": {},
   "outputs": [],
   "source": [
    "import numpy as np\n",
    "import matplotlib.pyplot as plt\n",
    "import pandas as pd\n",
    "from sklearn import naive_bayes, model_selection, metrics\n",
    "import matplotlib.pyplot as plt"
   ]
  },
  {
   "cell_type": "code",
   "execution_count": 331,
   "metadata": {},
   "outputs": [
    {
     "name": "stdout",
     "output_type": "stream",
     "text": [
      "The accuracy of the single-view model trained using the Naive Bayes model is: 0.7575757575757576\n"
     ]
    }
   ],
   "source": [
    "# This cell is for single view\n",
    "\n",
    "data_set = pd.read_csv('D:/Datasets/Diabetes_Dataset.csv', header = None)\n",
    "data_set.columns = ['Pregnant','Plasma_Glucose','DBP','Thickness','Insulin','BMI','Pedigree','Age','Class']\n",
    "X = data_set.loc[:,data_set.columns != 'Class']\n",
    "y = data_set['Class']\n",
    "\n",
    "\n",
    "X_train, X_test, y_train, y_test = model_selection.train_test_split(X, y, test_size=.3, random_state=23)\n",
    "\n",
    "gnb = naive_bayes.GaussianNB().fit(X_train,y_train)\n",
    "\n",
    "y_pred = gnb.predict(X_test)\n",
    "\n",
    "\n",
    "\n",
    "print('The accuracy of the single-view model trained using the Naive Bayes model is: ' + str(metrics.accuracy_score(y_test,y_pred)))\n",
    "\n",
    "\n"
   ]
  },
  {
   "cell_type": "code",
   "execution_count": 19,
   "metadata": {},
   "outputs": [
    {
     "data": {
      "text/plain": [
       "(92, 8)"
      ]
     },
     "execution_count": 19,
     "metadata": {},
     "output_type": "execute_result"
    }
   ],
   "source": [
    "X_train.shape"
   ]
  },
  {
   "cell_type": "code",
   "execution_count": 20,
   "metadata": {},
   "outputs": [],
   "source": [
    "def co_train(X_train,y_train,X_test,y_test):\n",
    "    gnb = naive_bayes.GaussianNB().fit(X_train,y_train)\n",
    "    y_pred2= gnb.predict(X_test) \n",
    "\n",
    "    y_prob = gnb.predict_proba(X_test)\n",
    "                \n",
    "    j = []\n",
    "\n",
    "    for i in range(len(y_prob[:,1])):\n",
    "\n",
    "        j.append(max(y_prob[i,0],y_prob[i,1]))\n",
    "\n",
    "    print('Internal Classifier Accuracy: ' + str(metrics.accuracy_score(y_test,y_pred2)))\n",
    "\n",
    "\n",
    "    X_first = np.column_stack((X_test,y_pred2,np.array(j),y_test))\n",
    "    \n",
    "    X_first = X_first[X_first[:,9].argsort()]\n",
    "    n = round(.7 * len(X_first[:,9]))\n",
    "    n_comp = len(X_first[:,9])- n\n",
    "\n",
    "    total = np.row_stack((np.column_stack((sub_X_train2,sub_y_train2)),X_first[n:,0:9]))  #total new training\n",
    "    total2 = np.row_stack((X_first[:n,0:9]))   #total new testing\n",
    "\n",
    "    new_X = total[:,:-1]\n",
    "    new_Y = total[:,-1:]\n",
    "\n",
    "    test_X = total2[:,:-1]\n",
    "    test_Y = total2[:,-1:]\n",
    "\n",
    "    return [new_X, new_Y,test_X, test_Y,gnb]\n",
    "#This initializes the first iteration of what we want"
   ]
  },
  {
   "cell_type": "code",
   "execution_count": 83,
   "metadata": {},
   "outputs": [
    {
     "name": "stdout",
     "output_type": "stream",
     "text": [
      "Internal Classifier Accuracy: 0.6992337164750958\n",
      "Internal Classifier Accuracy: 0.9013698630136986\n",
      "Internal Classifier Accuracy: 0.9215686274509803\n",
      "Internal Classifier Accuracy: 0.9044943820224719\n",
      "Internal Classifier Accuracy: 0.728\n",
      "Internal Classifier Accuracy: 0.8409090909090909\n",
      "Internal Classifier Accuracy: 0.7903225806451613\n",
      "Internal Classifier Accuracy: 0.5813953488372093\n",
      "\n",
      "\n",
      "The accuracy of the multi-view model trained using the Naive Bayes model is: 0.7337662337662337\n"
     ]
    },
    {
     "name": "stderr",
     "output_type": "stream",
     "text": [
      "C:\\Users\\arman\\Anaconda3\\lib\\site-packages\\sklearn\\utils\\validation.py:761: DataConversionWarning: A column-vector y was passed when a 1d array was expected. Please change the shape of y to (n_samples, ), for example using ravel().\n",
      "  y = column_or_1d(y, warn=True)\n",
      "C:\\Users\\arman\\Anaconda3\\lib\\site-packages\\sklearn\\utils\\validation.py:761: DataConversionWarning: A column-vector y was passed when a 1d array was expected. Please change the shape of y to (n_samples, ), for example using ravel().\n",
      "  y = column_or_1d(y, warn=True)\n",
      "C:\\Users\\arman\\Anaconda3\\lib\\site-packages\\sklearn\\utils\\validation.py:761: DataConversionWarning: A column-vector y was passed when a 1d array was expected. Please change the shape of y to (n_samples, ), for example using ravel().\n",
      "  y = column_or_1d(y, warn=True)\n",
      "C:\\Users\\arman\\Anaconda3\\lib\\site-packages\\sklearn\\utils\\validation.py:761: DataConversionWarning: A column-vector y was passed when a 1d array was expected. Please change the shape of y to (n_samples, ), for example using ravel().\n",
      "  y = column_or_1d(y, warn=True)\n",
      "C:\\Users\\arman\\Anaconda3\\lib\\site-packages\\sklearn\\utils\\validation.py:761: DataConversionWarning: A column-vector y was passed when a 1d array was expected. Please change the shape of y to (n_samples, ), for example using ravel().\n",
      "  y = column_or_1d(y, warn=True)\n",
      "C:\\Users\\arman\\Anaconda3\\lib\\site-packages\\sklearn\\utils\\validation.py:761: DataConversionWarning: A column-vector y was passed when a 1d array was expected. Please change the shape of y to (n_samples, ), for example using ravel().\n",
      "  y = column_or_1d(y, warn=True)\n",
      "C:\\Users\\arman\\Anaconda3\\lib\\site-packages\\sklearn\\utils\\validation.py:761: DataConversionWarning: A column-vector y was passed when a 1d array was expected. Please change the shape of y to (n_samples, ), for example using ravel().\n",
      "  y = column_or_1d(y, warn=True)\n"
     ]
    }
   ],
   "source": [
    "8#%% Co_training\n",
    "\n",
    "# Train a very small portion\n",
    "# Test. Testing that you are most confident about you add to the training data\n",
    "# Retrain on that and continue to do this for a number of iterations. Use naive bayes\n",
    "\n",
    "#def co_train(X,y):\n",
    "    \n",
    "X_train2, X_test2, y_train2, y_test2 = model_selection.train_test_split(X, y, test_size=0.2, random_state=21)\n",
    "\n",
    "sub_X_train2, sub_X_test2, sub_y_train2, sub_y_test2 = model_selection.train_test_split(X_train2, y_train2, test_size=0.85, random_state=15)\n",
    "  \n",
    "    \n",
    "j = co_train(sub_X_train2,sub_y_train2,sub_X_test2,sub_y_test2)\n",
    "x = j[0]\n",
    "y = j[1]\n",
    "X = j[2]\n",
    "Y = j[3]\n",
    "\n",
    "for i in range(7):\n",
    "    j = co_train(x,y,X,Y)\n",
    "    x = j[0]\n",
    "    y = j[1]\n",
    "    X = j[2]\n",
    "    Y = j[3]\n",
    "    \n",
    "model = j[4]\n",
    "\n",
    "prediction = model.predict(X_test2)\n",
    "print('\\n\\nThe accuracy of the multi-view model trained using the Naive Bayes model is: ' + str(metrics.accuracy_score(y_test2,prediction)))\n",
    "\n",
    "    "
   ]
  },
  {
   "cell_type": "code",
   "execution_count": 22,
   "metadata": {},
   "outputs": [
    {
     "data": {
      "text/plain": [
       "(92, 8)"
      ]
     },
     "execution_count": 22,
     "metadata": {},
     "output_type": "execute_result"
    }
   ],
   "source": [
    "sub_X_train2.shape"
   ]
  },
  {
   "cell_type": "code",
   "execution_count": 394,
   "metadata": {},
   "outputs": [
    {
     "name": "stdout",
     "output_type": "stream",
     "text": [
      "The accuracy of the single-view model trained using the Naive Bayes model is: 0.5604249667994687\n",
      "(15, 8)\n"
     ]
    }
   ],
   "source": [
    "#real co-training\n",
    "# This cell is for single view\n",
    "\n",
    "import numpy as np\n",
    "import matplotlib.pyplot as plt\n",
    "import pandas as pd\n",
    "from sklearn import naive_bayes, model_selection, metrics\n",
    "import matplotlib.pyplot as plt\n",
    "\n",
    "\n",
    "data_set = pd.read_csv('D:/Datasets/Diabetes_Dataset.csv', header = None)\n",
    "data_set.columns = ['Pregnant','Plasma_Glucose','DBP','Thickness','Insulin','BMI','Pedigree','Age','Class']\n",
    "X = data_set.loc[:,data_set.columns != 'Class']\n",
    "y = data_set['Class']\n",
    "\n",
    "X_train, X_test, y_train, y_test = model_selection.train_test_split(X, y, test_size=0.98, random_state=15)\n",
    "\n",
    "\n",
    "gnb = naive_bayes.GaussianNB().fit(X_train,y_train)\n",
    "\n",
    "y_pred = gnb.predict(X_test)\n",
    "\n",
    "print('The accuracy of the single-view model trained using the Naive Bayes model is: ' + str(metrics.accuracy_score(y_test,y_pred)))\n",
    "\n",
    "print(X_train.shape)\n",
    "\n",
    "\n"
   ]
  },
  {
   "cell_type": "code",
   "execution_count": 407,
   "metadata": {},
   "outputs": [],
   "source": [
    "\n",
    "\n",
    "L_X, U_X, L_y, U_y = model_selection.train_test_split(X, y, test_size=0.98, random_state=16)\n",
    "\n",
    "L = np.column_stack((L_X,L_y))\n",
    "\n",
    "U = U_X\n",
    "\n",
    "\n",
    "V1_cols = ['Pregnant','Pedigree','Age','Plasma_Glucose']\n",
    "V2_cols = ['DBP','BMI','Insulin','Thickness']\n",
    "\n",
    "V1_train = L_X[V1_cols]\n",
    "V2_train = L_X[V2_cols]\n",
    "\n",
    "V1_test = U_X[V1_cols]\n",
    "V2_test = U_X[V2_cols]\n",
    "\n",
    "sub_y_train = L_y\n",
    "n = 2\n",
    "\n",
    "for i in range(35):\n",
    "    h1 = naive_bayes.GaussianNB().fit(V1_train,sub_y_train)\n",
    "    h2 = naive_bayes.GaussianNB().fit(V2_train,sub_y_train)\n",
    "\n",
    "    y_pred1 = h1.predict(V1_test)\n",
    "    y_pred2 = h2.predict(V2_test)\n",
    "\n",
    "    indx = np.random.choice(len(U),replace = False,size = 20)\n",
    "    indx_c = [x for x in range(len(U)) if x not in indx]\n",
    "\n",
    "\n",
    "    U_prime = U.iloc[indx]\n",
    "\n",
    "    U = U.iloc[indx_c]\n",
    "\n",
    "    results = []\n",
    "\n",
    "    predict1 = h1.predict(U_prime[V1_cols])\n",
    "    proba1 = h1.predict_proba(U_prime[V1_cols])\n",
    "    \n",
    "    \n",
    "    j1 = []\n",
    "    for i in range(len(proba1[:,1])):\n",
    "        j1.append(max(proba1[i,0],proba1[i,1]))\n",
    "        \n",
    "    j1 = np.array(j1)\n",
    "\n",
    "    act_indx = (-j1).argsort()[:n]\n",
    "\n",
    "    L = np.row_stack((L,np.column_stack((U_prime.iloc[act_indx],predict1[act_indx]))))\n",
    "\n",
    "    \n",
    "    predict2 = h2.predict(U_prime[V2_cols])\n",
    "    proba2 = h2.predict_proba(U_prime[V2_cols])\n",
    "    \n",
    "    j2 = []\n",
    "\n",
    "    for i in range(len(proba2[:,1])):\n",
    "        j2.append(max(proba2[i,0],proba2[i,1]))        \n",
    "\n",
    "    j2 = np.array(j2)\n",
    "    \n",
    "    act_indx = (-j2).argsort()[:n]\n",
    "\n",
    "    L = np.row_stack((L,np.column_stack((U_prime.iloc[act_indx],predict2[act_indx]))))\n",
    "    \n",
    "    L = pd.DataFrame(L,columns= data_set.columns)\n",
    "    V1_train = L[V1_cols]\n",
    "    V2_train = L[V2_cols]\n",
    "    \n",
    "    sub_y_train = L['Class']\n",
    "        \n",
    "#print('The accuracy of the single-view model trained using the Naive Bayes model is: ' + str(metrics.accuracy_score(y_test,y_pred)))\n"
   ]
  },
  {
   "cell_type": "code",
   "execution_count": 408,
   "metadata": {},
   "outputs": [
    {
     "name": "stdout",
     "output_type": "stream",
     "text": [
      "The accuracy of the single-view model trained using the Naive Bayes model is: 0.6440903054448871\n"
     ]
    }
   ],
   "source": [
    "gnb = naive_bayes.GaussianNB().fit(L.drop(['Class'],axis = 1),L['Class'])\n",
    "\n",
    "y_pred = gnb.predict(U_X)\n",
    "\n",
    "print('The accuracy of the single-view model trained using the Naive Bayes model is: ' + str(metrics.accuracy_score(U_y,y_pred)))\n",
    "\n",
    "\n"
   ]
  },
  {
   "cell_type": "code",
   "execution_count": 290,
   "metadata": {},
   "outputs": [
    {
     "name": "stdout",
     "output_type": "stream",
     "text": [
      "(753, 8)\n"
     ]
    }
   ],
   "source": [
    "print(U_X.shape)\n"
   ]
  }
 ],
 "metadata": {
  "kernelspec": {
   "display_name": "Python 3",
   "language": "python",
   "name": "python3"
  },
  "language_info": {
   "codemirror_mode": {
    "name": "ipython",
    "version": 3
   },
   "file_extension": ".py",
   "mimetype": "text/x-python",
   "name": "python",
   "nbconvert_exporter": "python",
   "pygments_lexer": "ipython3",
   "version": "3.7.1"
  }
 },
 "nbformat": 4,
 "nbformat_minor": 2
}
