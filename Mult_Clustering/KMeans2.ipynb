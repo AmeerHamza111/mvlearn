{
 "cells": [
  {
   "cell_type": "code",
   "execution_count": 4,
   "metadata": {},
   "outputs": [],
   "source": [
    "import sklearn\n",
    "from sklearn.datasets import fetch_20newsgroups\n",
    "from sklearn.feature_extraction.text import TfidfVectorizer\n",
    "import numpy as np\n",
    "import scipy as scp\n",
    "from scipy import sparse\n",
    "\n",
    "NUM_SAMPLES = 200\n",
    "LARGE_VAL = 10000000\n",
    "ITER_THRESH = 5"
   ]
  },
  {
   "cell_type": "code",
   "execution_count": 7,
   "metadata": {},
   "outputs": [],
   "source": [
    "#A function to get the 20 newsgroup data\n",
    "def get_data():\n",
    "    #news_groups_all = fetch_20newsgroups(subset='all')\n",
    "    #news_data = news_groups_all.data\n",
    "\n",
    "    #Load in the vectorized news group data from scikit-learn package\n",
    "    news = fetch_20newsgroups(subset='all')\n",
    "    all_data = np.array(news.data)\n",
    "    all_targets = np.array(news.target)\n",
    "    class_names = news.target_names\n",
    "\n",
    "    #Set class pairings as described in the multiview clustering paper\n",
    "    view1_classes = ['comp.graphics','rec.motorcycles', 'sci.space', 'rec.sport.hockey', 'comp.sys.ibm.pc.hardware']\n",
    "    view2_classes = ['rec.autos', 'sci.med','misc.forsale', 'soc.religion.christian','comp.os.ms-windows.misc']\n",
    "    \n",
    "    #Create lists to hold data and labels for each of the 5 classes across 2 different views\n",
    "    labels =  [num for num in range(len(view1_classes)) for _ in range(NUM_SAMPLES)]\n",
    "    labels = np.array(labels)\n",
    "    view1_data = list()\n",
    "    view2_data = list()\n",
    "    \n",
    "    #Randomly sample 200 items from each of the selected classes in view1\n",
    "    for ind in range(len(view1_classes)):\n",
    "        class_num = class_names.index(view1_classes[ind])\n",
    "        class_data = all_data[(all_targets == class_num)]\n",
    "        indices = np.random.choice(class_data.shape[0], NUM_SAMPLES)\n",
    "        view1_data.append(class_data[indices])\n",
    "    view1_data = np.concatenate(view1_data)\n",
    "   \n",
    "        \n",
    "    #Randomly sample 200 items from each of the selected classes in view2\n",
    "    for ind in range(len(view2_classes)):\n",
    "        class_num = class_names.index(view2_classes[ind])\n",
    "        class_data = all_data[(all_targets == class_num)]\n",
    "        indices = np.random.choice(class_data.shape[0], NUM_SAMPLES)\n",
    "        view2_data.append(class_data[indices])  \n",
    "    view2_data = np.concatenate(view2_data)\n",
    "    \n",
    "    #Vectorize the data\n",
    "    vectorizer = TfidfVectorizer()\n",
    "    view1_data = vectorizer.fit_transform(view1_data)\n",
    "    view2_data = vectorizer.fit_transform(view2_data)\n",
    "    print(view1_data.shape)\n",
    "    print(view2_data.shape)\n",
    "\n",
    "    #Shuffle and normalize vectors\n",
    "    shuffled_inds = np.random.permutation(NUM_SAMPLES * len(view1_classes))\n",
    "    view1_data = sparse.vstack(view1_data)\n",
    "    view2_data = sparse.vstack(view2_data)\n",
    "    view1_data = np.array(view1_data[shuffled_inds].todense())\n",
    "    view2_data = np.array(view2_data[shuffled_inds].todense())\n",
    "    magnitudes1 = np.linalg.norm(view1_data, axis=1)\n",
    "    magnitudes2 = np.linalg.norm(view2_data, axis=1)\n",
    "    magnitudes1[magnitudes1 == 0] = 1\n",
    "    magnitudes2[magnitudes2 == 0] = 1\n",
    "    magnitudes1 = magnitudes1.reshape((-1,1))\n",
    "    magnitudes2 = magnitudes2.reshape((-1,1))\n",
    "    view1_data /= magnitudes1\n",
    "    view2_data /= magnitudes2\n",
    "    labels = labels[shuffled_inds]\n",
    "\n",
    "    return view1_data, view2_data, labels\n"
   ]
  },
  {
   "cell_type": "code",
   "execution_count": 8,
   "metadata": {},
   "outputs": [
    {
     "name": "stdout",
     "output_type": "stream",
     "text": [
      "(1000, 24054)\n",
      "(1000, 33890)\n"
     ]
    }
   ],
   "source": [
    "v1_data, v2_data, labels = get_data()"
   ]
  },
  {
   "cell_type": "code",
   "execution_count": 9,
   "metadata": {},
   "outputs": [],
   "source": [
    "#Function to initialize partitions\n",
    "def initialize_partitions(data, c_centers):\n",
    "    cosine_sims = np.matmul(data, np.transpose(c_centers))\n",
    "    new_partitions = np.argmax(cosine_sims,axis = 1).flatten()\n",
    "    return new_partitions\n",
    "\n",
    "#A function to compute the value of the objective function\n",
    "def compute_objective(data, c_centers, partitions):\n",
    "\n",
    "    o_funct = 0\n",
    "    for clust in range(c_centers.shape[0]):\n",
    "        vecs = data[(partitions == clust)]\n",
    "        dot_products = np.matmul(vecs, c_centers[clust].transpose())\n",
    "        clust_sum = np.sum(1 - dot_products)\n",
    "        o_funct += clust_sum\n",
    "    return o_funct\n",
    "\n",
    "\n",
    "#A function to run through a single iteration of maximization and expectation\n",
    "#(in that order)\n",
    "def iterate_clusters(data, partitions, k):\n",
    "\n",
    "    #Recompute cluster centers\n",
    "    new_centers = list()\n",
    "    for clust in range(k):\n",
    "        #print(np.sum(partitions == clust))\n",
    "        summed_vec = np.sum(data[(partitions == clust)], axis = 0)\n",
    "        magnitude = np.linalg.norm(summed_vec)\n",
    "        if (magnitude == 0):\n",
    "            magnitude = 1\n",
    "        vec = summed_vec / magnitude \n",
    "        new_centers.append(vec)\n",
    "    new_centers = np.vstack(new_centers)\n",
    "        \n",
    "    #Assign each sample point to a partition\n",
    "    cosine_sims = np.matmul(data, np.transpose(new_centers))\n",
    "    new_partitions = np.argmax(cosine_sims,axis = 1).flatten()\n",
    "\n",
    "    return new_centers, new_partitions\n"
   ]
  },
  {
   "cell_type": "code",
   "execution_count": 10,
   "metadata": {},
   "outputs": [],
   "source": [
    "#A function to consolidate the final clusters from the two views\n",
    "def final_clusters(v_data, v_partitions, c_centers, k):\n",
    "\n",
    "    v1_consensus = list()\n",
    "    v2_consensus = list()\n",
    "    for clust in range(k):\n",
    "        part_indices = (v_partitions[0] == clust) * (v_partitions[1] == clust)\n",
    "        #View 1\n",
    "        summed_vec1 = np.sum(v_data[0][part_indices], axis = 0)\n",
    "        magnitudes1 =  np.linalg.norm(summed_vec1)\n",
    "        if(magnitudes1 == 0):\n",
    "            magnitudes1 = 1\n",
    "        vec1 = summed_vec1 / magnitudes1\n",
    "        v1_consensus.append(vec1)\n",
    "\n",
    "        #View 2\n",
    "        summed_vec2 = np.sum(v_data[1][part_indices], axis = 0) \n",
    "        magnitudes2 =  np.linalg.norm(summed_vec2)\n",
    "        if(magnitudes2 == 0):\n",
    "            magnitudes2 = 1\n",
    "        vec2 = summed_vec2 / magnitudes2\n",
    "        v2_consensus.append(vec2)\n",
    "        \n",
    "    v1_consensus = np.vstack(v1_consensus)\n",
    "    v2_consensus = np.vstack(v2_consensus)\n",
    "        \n",
    "    v1_arcos = np.arccos(np.matmul(v_data[0], np.transpose(v1_consensus)))\n",
    "    v2_arcos = np.arccos(np.matmul(v_data[1], np.transpose(v2_consensus)))\n",
    "    dist_metric = v1_arcos + v2_arcos\n",
    "    new_partitions = np.argmin(dist_metric,axis = 1).flatten()\n",
    "    return new_partitions"
   ]
  },
  {
   "cell_type": "code",
   "execution_count": 11,
   "metadata": {},
   "outputs": [],
   "source": [
    "#A function to evaluate the quality of the clustering via an entropy metric\n",
    "def compute_entropy(partitions, labels, k, num_classes):\n",
    "    class_sizes = list()\n",
    "    for ind in range(num_classes):\n",
    "        class_sizes.append(np.sum(labels == ind))\n",
    "    total_entropy = 0\n",
    "    num_examples = partitions.shape[0]\n",
    "    for part in range(k):\n",
    "        labs = labels[partitions == part]\n",
    "        part_size = labs.shape[0]\n",
    "        part_entropy = 0\n",
    "        for cl in range(num_classes):\n",
    "            prop = np.sum(labs == cl) * 1.0 / class_sizes[cl]\n",
    "            ent = 0\n",
    "            if(prop != 0):\n",
    "                ent = - prop * np.log(prop)\n",
    "            part_entropy += ent\n",
    "        part_entropy = part_entropy * part_size / num_examples\n",
    "        total_entropy += part_entropy\n",
    "    return total_entropy\n",
    "\n",
    "def compute_entropy2(partitions, labels, k, num_classes):\n",
    "    \n",
    "    total_entropy = 0\n",
    "    num_examples = partitions.shape[0]\n",
    "    for part in range(k):\n",
    "        labs = labels[partitions == part]\n",
    "        part_size = labs.shape[0]\n",
    "        part_entropy = 0\n",
    "        for cl in range(num_classes):\n",
    "            prop = np.sum(labs == cl) * 1.0 / part_size\n",
    "            ent = 0\n",
    "            if(prop != 0):\n",
    "                ent = - prop * np.log2(prop)\n",
    "            part_entropy += ent\n",
    "        part_entropy = part_entropy * part_size / num_examples\n",
    "        total_entropy += part_entropy\n",
    "    return total_entropy"
   ]
  },
  {
   "cell_type": "code",
   "execution_count": 16,
   "metadata": {},
   "outputs": [],
   "source": [
    "#The main kmeans clustering algorithm\n",
    "def spherical_kmeans(v_data, labels, k = 5):\n",
    "\n",
    "    #Initialize cluster centers, partitions, and loop params\n",
    "    \n",
    "    c_centers2 = np.random.random((k, v_data[1].shape[1]))\n",
    "    c_centers2 /= np.linalg.norm(c_centers2, axis=1).reshape((-1, 1))\n",
    "    c_centers = [None, c_centers2]\n",
    "    \n",
    "    partitions2 = initialize_partitions(v_data[1], c_centers2)\n",
    "    v_partitions = [None, partitions2]\n",
    "    objective = [LARGE_VAL, LARGE_VAL]\n",
    "    iter_stall = 0\n",
    "    iter_num = 0\n",
    "    entropy = 0\n",
    "\n",
    "    while(iter_stall < ITER_THRESH):\n",
    "        iter_num += 1\n",
    "        view = (iter_num + 1) % 2\n",
    "        \n",
    "        #Switch partitions, Maximization, and Expectation\n",
    "        c_centers[view], v_partitions[view] = iterate_clusters(v_data[view], v_partitions[(view + 1) % 2], k)\n",
    "        o_funct = compute_objective(v_data[view], c_centers[view], v_partitions[view])\n",
    "        iter_stall += 1\n",
    "        #Recompute objective function\n",
    "        if(o_funct < objective[view]):\n",
    "            objective[view] = o_funct\n",
    "            iter_stall = 0\n",
    "\n",
    "        #Obtain evaluation metrics\n",
    "        f_clusters = final_clusters(v_data, v_partitions, c_centers, k)\n",
    "        entropy = compute_entropy2(f_clusters, labels, k, 5)\n",
    "\n",
    "    return entropy\n",
    "        "
   ]
  },
  {
   "cell_type": "code",
   "execution_count": 17,
   "metadata": {},
   "outputs": [],
   "source": [
    "def getEntropies():\n",
    "    \n",
    "    v1_data, v2_data, labels = get_data()\n",
    "    entropies = list()\n",
    "    for num in range(1, 11):\n",
    "        ent = spherical_kmeans([v1_data, v2_data], labels, num)\n",
    "        print(ent)\n",
    "        entropies.append(ent)\n",
    "    return entropies\n",
    "\n",
    "def getSingleEntropies():\n",
    "    \n",
    "    v1_data, v2_data, labels = get_data()\n",
    "    entropies = list()\n",
    "    for num in range(1, 11):\n",
    "        ent = single_spherical_kmeans([v1_data, v2_data], labels, num)\n",
    "        entropies.append(ent)\n",
    "        print(ent)\n",
    "    return entropies"
   ]
  },
  {
   "cell_type": "code",
   "execution_count": 19,
   "metadata": {},
   "outputs": [
    {
     "name": "stdout",
     "output_type": "stream",
     "text": [
      "0.3262342638754484\n",
      "(1000, 23412)\n",
      "(1000, 24425)\n",
      "[2.321928094887362, 1.4805665853981722, 1.239251174634297, 0.5744811451490591, 0.28437534087648714, 0.3090121013685794, 0.3576763282081119, 0.4438300976274066, 0.6075592328993112, 0.5195479817101298]\n"
     ]
    }
   ],
   "source": [
    "#Get data\n",
    "ent = spherical_kmeans([v1_data, v2_data], labels, 5)\n",
    "print(ent)\n",
    "\n",
    "#Do spherical kmeans and get entropy values for each k\n",
    "entropies = getEntropies()\n",
    "print(entropies)"
   ]
  },
  {
   "cell_type": "code",
   "execution_count": 22,
   "metadata": {},
   "outputs": [],
   "source": [
    "def single_spherical_kmeans(v_data, labels, k = 5):\n",
    "\n",
    "    #Initialize cluster centers, partitions, and loop params\n",
    "    v_data = np.concatenate(v_data, axis = 1)\n",
    "    c_centers = np.random.random((k, v_data.shape[1]))\n",
    "    partitions = initialize_partitions(v_data, c_centers)\n",
    "    objective = LARGE_VAL\n",
    "    iter_stall = 0\n",
    "    iter_num = 0\n",
    "    entropy = 0\n",
    "\n",
    "    while(iter_stall < ITER_THRESH):\n",
    "        iter_num += 1\n",
    "        \n",
    "        #Switch partitions, Maximization, and Expectation\n",
    "        c_centers, partitions = iterate_clusters(v_data, partitions, k)\n",
    "        o_funct = compute_objective(v_data, c_centers, partitions)\n",
    "        iter_stall += 1\n",
    "        \n",
    "        #Recompute objective function\n",
    "        if(o_funct < objective):\n",
    "            objective = o_funct\n",
    "            iter_stall = 0\n",
    "\n",
    "        #Obtain evaluation metrics\n",
    "        entropy = compute_entropy2(partitions, labels, k, 5)\n",
    "    \n",
    "    return entropy"
   ]
  },
  {
   "cell_type": "code",
   "execution_count": 23,
   "metadata": {},
   "outputs": [
    {
     "name": "stdout",
     "output_type": "stream",
     "text": [
      "(1000, 22051)\n",
      "(1000, 33734)\n",
      "2.321928094887362\n",
      "2.0706249378725623\n",
      "1.6578786737508664\n",
      "1.2148247173538667\n",
      "1.3269577841097686\n",
      "1.9159309542414356\n",
      "1.2179791434032816\n",
      "1.4739159599586593\n",
      "1.7844507806773304\n",
      "1.8442305222774804\n"
     ]
    }
   ],
   "source": [
    "#Do spherical kmeans and get entropy values for each k\n",
    "entropies_single = getSingleEntropies()"
   ]
  },
  {
   "cell_type": "code",
   "execution_count": 24,
   "metadata": {},
   "outputs": [
    {
     "data": {
      "image/png": "[encoded data removed]",
      "text/plain": [
       "<Figure size 432x288 with 1 Axes>"
      ]
     },
     "metadata": {},
     "output_type": "display_data"
    }
   ],
   "source": [
    "import matplotlib.pyplot as plt\n",
    "x_values = list(range(1, 11))\n",
    "plt.plot(x_values, entropies_single, x_values, entropies)\n",
    "plt.xlabel('k')\n",
    "plt.ylabel('Entropy')\n",
    "plt.legend(['1 View', '2 Views'])\n",
    "plt.rc('axes', labelsize=12)\n",
    "plt.show()"
   ]
  },
  {
   "cell_type": "code",
   "execution_count": 21,
   "metadata": {},
   "outputs": [
    {
     "data": {
      "image/png": "[encoded data removed]",
      "text/plain": [
       "<Figure size 432x288 with 1 Axes>"
      ]
     },
     "metadata": {},
     "output_type": "display_data"
    }
   ],
   "source": [
    "import matplotlib.pyplot as plt\n",
    "x_values = list(range(1, 11))\n",
    "plt.plot(x_values, entropies)\n",
    "plt.xlabel('k')\n",
    "plt.ylabel('Entropy')\n",
    "plt.legend(['1 View'])\n",
    "plt.rc('axes', labelsize=12)\n",
    "plt.show()"
   ]
  },
  {
   "cell_type": "code",
   "execution_count": null,
   "metadata": {},
   "outputs": [],
   "source": []
  }
 ],
 "metadata": {
  "kernelspec": {
   "display_name": "Python 3",
   "language": "python",
   "name": "python3"
  },
  "language_info": {
   "codemirror_mode": {
    "name": "ipython",
    "version": 3
   },
   "file_extension": ".py",
   "mimetype": "text/x-python",
   "name": "python",
   "nbconvert_exporter": "python",
   "pygments_lexer": "ipython3",
   "version": "3.6.5"
  }
 },
 "nbformat": 4,
 "nbformat_minor": 2
}
