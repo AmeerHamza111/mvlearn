{
 "cells": [
  {
   "cell_type": "code",
   "execution_count": 1,
   "metadata": {},
   "outputs": [],
   "source": [
    "import sklearn\n",
    "from sklearn.datasets import fetch_covtype\n",
    "import numpy as np\n",
    "import scipy as scp\n",
    "from scipy import sparse\n",
    "\n",
    "NUM_SAMPLES = 200\n",
    "LARGE_VAL = 10000000\n",
    "ITER_THRESH = 5"
   ]
  },
  {
   "cell_type": "code",
   "execution_count": 2,
   "metadata": {},
   "outputs": [],
   "source": [
    "#A function to get the 20 newsgroup data\n",
    "def get_data():\n",
    "    #news_groups_all = fetch_20newsgroups(subset='all')\n",
    "    #news_data = news_groups_all.data\n",
    "\n",
    "    #Load in the vectorized news group data from scikit-learn package\n",
    "    cov = fetch_covtype()\n",
    "    all_data = np.array(cov.data)\n",
    "    all_targets = np.array(cov.target)\n",
    "    \n",
    "    #Set class pairings as described in the multiview clustering paper\n",
    "    view1_classes = [1, 2, 3]\n",
    "    view2_classes = [4, 5, 6]\n",
    "    \n",
    "    #Create lists to hold data and labels for each of the 5 classes across 2 different views\n",
    "    labels =  [num for num in range(len(view1_classes)) for _ in range(NUM_SAMPLES)]\n",
    "    labels = np.array(labels)\n",
    "    view1_data = list()\n",
    "    view2_data = list()\n",
    "    \n",
    "    #Randomly sample 200 items from each of the selected classes in view1\n",
    "    for class_num in view1_classes:\n",
    "        class_data = all_data[(all_targets == class_num)]\n",
    "        indices = np.random.choice(class_data.shape[0], NUM_SAMPLES)\n",
    "        view1_data.append(class_data[indices])\n",
    "    view1_data = np.concatenate(view1_data)\n",
    "   \n",
    "        \n",
    "    #Randomly sample 200 items from each of the selected classes in view2\n",
    "    for class_num in view2_classes:\n",
    "        class_data = all_data[(all_targets == class_num)]\n",
    "        indices = np.random.choice(class_data.shape[0], NUM_SAMPLES)\n",
    "        view2_data.append(class_data[indices])  \n",
    "    view2_data = np.concatenate(view2_data)\n",
    "\n",
    "    #Shuffle and normalize vectors\n",
    "    shuffled_inds = np.random.permutation(NUM_SAMPLES * len(view1_classes))\n",
    "    view1_data = np.vstack(view1_data)\n",
    "    view2_data = np.vstack(view2_data)\n",
    "    view1_data = view1_data[shuffled_inds]\n",
    "    view2_data = view2_data[shuffled_inds]\n",
    "    magnitudes1 = np.linalg.norm(view1_data, axis=0)\n",
    "    magnitudes2 = np.linalg.norm(view2_data, axis=0)\n",
    "    magnitudes1[magnitudes1 == 0] = 1\n",
    "    magnitudes2[magnitudes2 == 0] = 1\n",
    "    magnitudes1 = magnitudes1.reshape((1, -1))\n",
    "    magnitudes2 = magnitudes2.reshape((1, -1))\n",
    "    view1_data /= magnitudes1\n",
    "    view2_data /= magnitudes2\n",
    "    labels = labels[shuffled_inds]\n",
    "    return view1_data, view2_data, labels\n"
   ]
  },
  {
   "cell_type": "code",
   "execution_count": 3,
   "metadata": {},
   "outputs": [],
   "source": [
    "v1_data, v2_data, labels = get_data()"
   ]
  },
  {
   "cell_type": "code",
   "execution_count": 4,
   "metadata": {},
   "outputs": [],
   "source": [
    "#Function to initialize partitions\n",
    "def compute_distances(data, c_centers, k): \n",
    "    distances = list()\n",
    "    for cl in range(k):\n",
    "        dist = data - c_centers[cl]\n",
    "        dist = np.linalg.norm(dist, axis = 1)\n",
    "        distances.append(dist)\n",
    "    distances = np.vstack(distances)\n",
    "    return distances\n",
    "\n",
    "#A function to compute the value of the objective function\n",
    "def compute_objective(data, c_centers, partitions):\n",
    "\n",
    "    o_funct = 0\n",
    "    for clust in range(c_centers.shape[0]):\n",
    "        vecs = data[(partitions == clust)]\n",
    "        dist = np.linalg.norm(vecs - c_centers[clust], axis=1)\n",
    "        o_funct += np.sum(dist)\n",
    "        \n",
    "    return o_funct\n",
    "\n",
    "\n",
    "#A function to run through a single iteration of maximization and expectation\n",
    "#(in that order)\n",
    "def iterate_clusters(data, partitions, k):\n",
    "\n",
    "    #Recompute cluster centers\n",
    "    new_centers = list()\n",
    "    for clust in range(k):\n",
    "        vec = np.mean(data[(partitions == clust)], axis = 0)\n",
    "        new_centers.append(vec)\n",
    "    new_centers = np.vstack(new_centers)\n",
    "        \n",
    "    #Assign each sample point to a partition\n",
    "    distances = compute_distances(data, new_centers, k)\n",
    "    new_partitions = np.argmin(distances, axis = 0).flatten()\n",
    "\n",
    "    return new_centers, new_partitions\n"
   ]
  },
  {
   "cell_type": "code",
   "execution_count": 5,
   "metadata": {},
   "outputs": [],
   "source": [
    "#A function to consolidate the final clusters from the two views\n",
    "def final_clusters(v_data, v_partitions, c_centers, k):\n",
    "\n",
    "    v1_consensus = list()\n",
    "    v2_consensus = list()\n",
    "    for clust in range(k):\n",
    "        part_indices = (v_partitions[0] == clust) * (v_partitions[1] == clust)\n",
    "        #View 1\n",
    "        vec1 = np.mean(v_data[0][part_indices], axis = 0)\n",
    "        v1_consensus.append(vec1)\n",
    "\n",
    "        #View 2\n",
    "        vec2 = np.mean(v_data[1][part_indices], axis = 0)\n",
    "        v2_consensus.append(vec2)\n",
    "        \n",
    "    v1_consensus = np.vstack(v1_consensus)\n",
    "    v2_consensus = np.vstack(v2_consensus)\n",
    "        \n",
    "    dist1 = compute_distances(v_data[0], v1_consensus, k)\n",
    "    dist2 = compute_distances(v_data[1], v2_consensus, k)\n",
    "    dist_metric = dist1 + dist2\n",
    "    new_partitions = np.argmin(dist_metric,axis = 0).flatten()\n",
    "    return new_partitions"
   ]
  },
  {
   "cell_type": "code",
   "execution_count": 6,
   "metadata": {},
   "outputs": [],
   "source": [
    "def compute_entropy(partitions, labels, k, num_classes):\n",
    "    \n",
    "    total_entropy = 0\n",
    "    num_examples = partitions.shape[0]\n",
    "    for part in range(k):\n",
    "        labs = labels[partitions == part]\n",
    "        part_size = labs.shape[0]\n",
    "        part_entropy = 0\n",
    "        for cl in range(num_classes):\n",
    "            prop = np.sum(labs == cl) * 1.0 / part_size\n",
    "            ent = 0\n",
    "            if(prop != 0):\n",
    "                ent = - prop * np.log2(prop)\n",
    "            part_entropy += ent\n",
    "        part_entropy = part_entropy * part_size / num_examples\n",
    "        total_entropy += part_entropy\n",
    "    return total_entropy"
   ]
  },
  {
   "cell_type": "code",
   "execution_count": 7,
   "metadata": {},
   "outputs": [],
   "source": [
    "#The main kmeans clustering algorithm\n",
    "def kmeans(v_data, labels, k = 3):\n",
    "\n",
    "    #Initialize cluster centers, partitions, and loop params\n",
    "    indices = np.random.choice(v_data[1].shape[0], k)\n",
    "    c_centers2 = v_data[1][indices]\n",
    "    c_centers = [None, c_centers2]\n",
    "    \n",
    "    distances2 = compute_distances(v_data[1], c_centers2, k)\n",
    "    partitions2 = np.argmin(distances2,axis = 0).flatten()\n",
    "    \n",
    "    v_partitions = [None, partitions2]\n",
    "    objective = [LARGE_VAL, LARGE_VAL]\n",
    "    iter_stall = 0\n",
    "    iter_num = 0\n",
    "    entropy = 0\n",
    "\n",
    "    while(iter_stall < ITER_THRESH):\n",
    "        iter_num += 1\n",
    "        view = (iter_num + 1) % 2\n",
    "        \n",
    "        #Switch partitions, Maximization, and Expectation\n",
    "        c_centers[view], v_partitions[view] = iterate_clusters(v_data[view], v_partitions[(view + 1) % 2], k)\n",
    "        o_funct = compute_objective(v_data[view], c_centers[view], v_partitions[view])\n",
    "        iter_stall += 1\n",
    "        \n",
    "        #Recompute objective function\n",
    "        if(o_funct < objective[view]):\n",
    "            objective[view] = o_funct\n",
    "            iter_stall = 0\n",
    "        \n",
    "        \n",
    "        #Obtain evaluation metrics\n",
    "        f_clusters = final_clusters(v_data, v_partitions, c_centers, k)\n",
    "        entropy = compute_entropy(f_clusters, labels, k, 3)\n",
    "\n",
    "    return entropy\n",
    "            "
   ]
  },
  {
   "cell_type": "code",
   "execution_count": 8,
   "metadata": {},
   "outputs": [],
   "source": [
    "#ent = kmeans([v1_data, v2_data], labels, 3)"
   ]
  },
  {
   "cell_type": "code",
   "execution_count": 9,
   "metadata": {},
   "outputs": [],
   "source": [
    "def getEntropies(v1_data, v2_data, labels):\n",
    "    \n",
    "    entropies = list()\n",
    "    for num in range(1, 7):\n",
    "        ent = kmeans([v1_data, v2_data], labels, num)\n",
    "        entropies.append(ent)\n",
    "    return entropies\n",
    "\n",
    "\n",
    "#Do kmeans and get entropy values for each k\n",
    "num_trials = 10\n",
    "mult_entropies = list()\n",
    "for ind in range(num_trials):\n",
    "    entropies = getEntropies(v1_data, v2_data, labels)\n",
    "    mult_entropies.append(entropies)\n",
    "mult_entropies = np.array(mult_entropies)\n",
    "mult_entropies = np.mean(mult_entropies, axis=0)"
   ]
  },
  {
   "cell_type": "code",
   "execution_count": 12,
   "metadata": {},
   "outputs": [
    {
     "data": {
      "image/png": "[encoded data removed]",
      "text/plain": [
       "<Figure size 432x288 with 1 Axes>"
      ]
     },
     "metadata": {},
     "output_type": "display_data"
    }
   ],
   "source": [
    "import matplotlib.pyplot as plt\n",
    "x_values = list(range(1, 7))\n",
    "plt.plot(x_values, entropies)\n",
    "plt.xlabel('k')\n",
    "plt.ylabel('Entropy')\n",
    "plt.legend(['2 Views'])\n",
    "plt.title('Multi-view Kmeans Performance')\n",
    "plt.rc('axes', labelsize=12)\n",
    "plt.show()"
   ]
  },
  {
   "cell_type": "code",
   "execution_count": null,
   "metadata": {},
   "outputs": [],
   "source": []
  },
  {
   "cell_type": "code",
   "execution_count": null,
   "metadata": {},
   "outputs": [],
   "source": []
  },
  {
   "cell_type": "code",
   "execution_count": null,
   "metadata": {},
   "outputs": [],
   "source": []
  },
  {
   "cell_type": "code",
   "execution_count": null,
   "metadata": {},
   "outputs": [],
   "source": []
  }
 ],
 "metadata": {
  "kernelspec": {
   "display_name": "Python 3",
   "language": "python",
   "name": "python3"
  },
  "language_info": {
   "codemirror_mode": {
    "name": "ipython",
    "version": 3
   },
   "file_extension": ".py",
   "mimetype": "text/x-python",
   "name": "python",
   "nbconvert_exporter": "python",
   "pygments_lexer": "ipython3",
   "version": "3.6.5"
  }
 },
 "nbformat": 4,
 "nbformat_minor": 2
}
