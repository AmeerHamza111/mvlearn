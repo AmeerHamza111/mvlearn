{
 "cells": [
  {
   "cell_type": "code",
   "execution_count": 22,
   "metadata": {},
   "outputs": [],
   "source": [
    "import numpy as np\n",
    "from numpy.random import multivariate_normal\n",
    "import scipy as scp\n",
    "import sklearn\n",
    "from scipy.sparse.csgraph import laplacian as sp_laplacian\n",
    "from sklearn.cluster import KMeans, SpectralClustering\n",
    "from sklearn.metrics import normalized_mutual_info_score as nmi_score\n",
    "from sklearn.metrics import mutual_info_score as mi\n",
    "from sklearn.metrics import f1_score\n",
    "from sklearn.manifold import TSNE\n",
    "import matplotlib.pyplot as plt\n",
    "import os\n",
    "\n",
    "N_SAMPLES = 1000"
   ]
  },
  {
   "cell_type": "code",
   "execution_count": null,
   "metadata": {},
   "outputs": [],
   "source": []
  },
  {
   "cell_type": "code",
   "execution_count": 23,
   "metadata": {},
   "outputs": [
    {
     "name": "stdout",
     "output_type": "stream",
     "text": [
      "(1000, 2)\n",
      "(1000, 2)\n"
     ]
    }
   ],
   "source": [
    "datafile1 = './Data/view1.csv'\n",
    "datafile2 = './Data/view2.csv'\n",
    "datafile3 = './Data/view3.csv'\n",
    "labelfile = './Data/labels.csv'\n",
    "\n",
    "v1_data = np.loadtxt(datafile1, delimiter = ',')\n",
    "v2_data = np.loadtxt(datafile2, delimiter = ',')\n",
    "v3_data = np.loadtxt(datafile3, delimiter = ',')\n",
    "labels = np.loadtxt(labelfile, delimiter = ',')\n",
    "v_data = [v1_data, v2_data, v3_data]\n",
    "\n",
    "print(v1_data.shape)\n",
    "print(v2_data.shape)"
   ]
  },
  {
   "cell_type": "code",
   "execution_count": null,
   "metadata": {},
   "outputs": [],
   "source": []
  },
  {
   "cell_type": "code",
   "execution_count": null,
   "metadata": {},
   "outputs": [],
   "source": []
  },
  {
   "cell_type": "code",
   "execution_count": 24,
   "metadata": {},
   "outputs": [],
   "source": [
    "def gaussian_sim(X_mat):\n",
    "    \n",
    "    samples = X_mat.shape[0]\n",
    "    distances = list()\n",
    "    for ind1 in range(samples):\n",
    "        distances.append(np.linalg.norm(X_mat - X_mat[ind1].reshape(1, -1), axis = 1))\n",
    "    distances = np.vstack(distances)\n",
    "    sq_dists = np.square(distances)\n",
    "    norm_dists = sq_dists  / (2 * np.median(sq_dists))\n",
    "    sims = np.exp(-norm_dists)\n",
    "    \n",
    "    return sims\n",
    "    \n",
    "def sym(S_mat):\n",
    "    mat =  (S_mat + np.transpose(S_mat)) / 2.0\n",
    "    return mat\n",
    "\n",
    "def comp_laplacian(X_mat):\n",
    "    D_mat = np.diag(np.sum(X_mat, axis=1))\n",
    "    D_alt = np.sqrt(np.linalg.inv(np.abs(D_mat))) \n",
    "    laplacian = D_alt @ X_mat @ D_alt\n",
    "    laplacian = sym(laplacian)\n",
    "    return laplacian\n",
    "\n",
    "def comp_eigs(X_mat, k):\n",
    "    laplacian = comp_laplacian(X_mat)\n",
    "    e_vals, e_vecs = np.linalg.eig(laplacian)\n",
    "    indices = np.argsort(np.real(e_vals))[-k:]\n",
    "    e_vecs = np.real(e_vecs[:,indices])\n",
    "    return e_vecs\n",
    "\n",
    "\n",
    "    "
   ]
  },
  {
   "cell_type": "code",
   "execution_count": 25,
   "metadata": {},
   "outputs": [],
   "source": [
    "def single_spectral(U_mats, labels, k=2):\n",
    "\n",
    "    #Row normalize \n",
    "    U_norm = np.linalg.norm(U_mats, axis = 1).reshape((-1, 1))\n",
    "    U_norm[U_norm == 0] = 1\n",
    "    V_mats = U_mats/ U_norm \n",
    "    kmeans = KMeans(n_clusters=k)\n",
    "    clusters = kmeans.fit_predict(V_mats)\n",
    "    nmi = nmi_score(clusters, labels)\n",
    "    return nmi"
   ]
  },
  {
   "cell_type": "code",
   "execution_count": 28,
   "metadata": {},
   "outputs": [],
   "source": [
    "def multiview_spectral(v_data, labels, k=2, num_iter = 10):\n",
    "    #Compute the similarities matrices\n",
    "    sims = [gaussian_sim(dat) for dat in v_data]\n",
    "    \n",
    "    #Initialize matrices of eigenvectors\n",
    "    U_mats = [comp_eigs(sim, k) for sim in sims]\n",
    "    \n",
    "    nmi_vals = list()\n",
    "    #Iteratively compute new graph similarities, laplacians, and eigenvectors\n",
    "    for iter in range(num_iter):\n",
    "        \n",
    "        #Compute nmi for each view per iteration\n",
    "        nmi_set = list()\n",
    "        for ind in range(len(v_data)):\n",
    "            nmi = single_spectral(U_mats[ind], labels, k)\n",
    "            nmi_set.append(nmi)\n",
    "            print('nmi for view ' + str(ind) + ' is: ' + str(nmi))\n",
    "        nmi_vals.append(nmi_set)\n",
    "        \n",
    "        eig_sums = [u_mat @ np.transpose(u_mat) for u_mat in U_mats]\n",
    "        U_sum = np.sum(np.array(eig_sums), axis=0)\n",
    "        \n",
    "        print(iter)\n",
    "        new_sims = list()\n",
    "        \n",
    "        for view in range(len(v_data)):\n",
    "            mat1 = sims[view] @ (U_sum - U_mats[view] @ np.transpose(U_mats[view]))\n",
    "            new_sims.append(sym(mat1))\n",
    "        U_mats = [comp_eigs(sim, k) for sim in new_sims]    \n",
    "        \n",
    "        \n",
    "    #Row normalize \n",
    "    for view in range(len(v_data)):\n",
    "        U_norm = np.linalg.norm(U_mats[view], axis = 1).reshape((-1, 1))\n",
    "        U_norm[U_norm == 0] = 1\n",
    "        U_mats[view] /= U_norm \n",
    "    #Columnwise concatenation across all views\n",
    "    V_mat = np.hstack(U_mats)    \n",
    "    kmeans = KMeans(n_clusters=k, n_init=100)\n",
    "    clusters = kmeans.fit_predict(V_mat)\n",
    "    return clusters, nmi_vals\n",
    "    "
   ]
  },
  {
   "cell_type": "code",
   "execution_count": 29,
   "metadata": {},
   "outputs": [
    {
     "name": "stdout",
     "output_type": "stream",
     "text": [
      "nmi for view 0 is: 0.890855294175599\n",
      "nmi for view 1 is: 0.5498757773332688\n",
      "nmi for view 2 is: 0.49055241693236834\n",
      "0\n",
      "nmi for view 0 is: 0.9894379529654227\n",
      "nmi for view 1 is: 0.9279834219814302\n",
      "nmi for view 2 is: 0.8817553942679613\n",
      "1\n",
      "nmi for view 0 is: 0.9731568159043371\n",
      "nmi for view 1 is: 0.7592885643486819\n",
      "nmi for view 2 is: 0.7756512738766882\n",
      "2\n",
      "nmi for view 0 is: 0.9809123277916382\n",
      "nmi for view 1 is: 0.7882082778761301\n",
      "nmi for view 2 is: 0.8087995134687996\n",
      "3\n",
      "nmi for view 0 is: 0.9894379529654227\n",
      "nmi for view 1 is: 0.7735037484040788\n",
      "nmi for view 2 is: 0.8039738318512193\n",
      "4\n",
      "nmi for view 0 is: 0.9894379529654227\n",
      "nmi for view 1 is: 0.7735037484040788\n",
      "nmi for view 2 is: 0.8087995134687996\n",
      "5\n",
      "nmi for view 0 is: 0.9894379529654227\n",
      "nmi for view 1 is: 0.7735037484040788\n",
      "nmi for view 2 is: 0.8034276755965473\n",
      "6\n",
      "nmi for view 0 is: 0.9894379529654227\n",
      "nmi for view 1 is: 0.7735037484040788\n",
      "nmi for view 2 is: 0.8034276755965473\n",
      "7\n",
      "nmi for view 0 is: 0.9894379529654227\n",
      "nmi for view 1 is: 0.7735037484040788\n",
      "nmi for view 2 is: 0.8034276755965473\n",
      "8\n",
      "nmi for view 0 is: 0.9894379529654227\n",
      "nmi for view 1 is: 0.7735037484040788\n",
      "nmi for view 2 is: 0.8034276755965473\n",
      "9\n"
     ]
    }
   ],
   "source": [
    "clusters, nmi_vals = multiview_spectral(v_data, labels, k=2)\n"
   ]
  },
  {
   "cell_type": "code",
   "execution_count": 34,
   "metadata": {},
   "outputs": [
    {
     "name": "stdout",
     "output_type": "stream",
     "text": [
      "(3, 10)\n"
     ]
    }
   ],
   "source": [
    "nmi_vals = np.array(nmi_vals).transpose()\n",
    "print(nmi_vals.shape)"
   ]
  },
  {
   "cell_type": "code",
   "execution_count": 43,
   "metadata": {},
   "outputs": [
    {
     "data": {
      "image/png": "[encoded data removed]",
      "text/plain": [
       "<Figure size 432x288 with 1 Axes>"
      ]
     },
     "metadata": {},
     "output_type": "display_data"
    }
   ],
   "source": [
    "x_vals = list(range(1,11))\n",
    "plt.plot(x_vals, nmi_vals[0], 'b' , x_vals, nmi_vals[1], 'r', \n",
    "         x_vals, nmi_vals[2], 'lime')\n",
    "plt.xlabel('Iterations')\n",
    "plt.ylabel('Normalized Mutual Information')\n",
    "plt.legend(['View 1','View 2','View 3'])\n",
    "plt.show()"
   ]
  },
  {
   "cell_type": "code",
   "execution_count": null,
   "metadata": {},
   "outputs": [],
   "source": []
  },
  {
   "cell_type": "code",
   "execution_count": null,
   "metadata": {},
   "outputs": [],
   "source": [
    "fig, ax = plt.subplots(figsize=(9,7))\n",
    "cmap = 'viridis'\n",
    "dot_size=50\n",
    "ax.set_title('Multiview synthetic data View 1', size=20)\n",
    "ax.scatter(v_data[0][:, 0], v_data[0][:, 1],c=clusters,s=dot_size, cmap=cmap)"
   ]
  },
  {
   "cell_type": "code",
   "execution_count": null,
   "metadata": {},
   "outputs": [],
   "source": [
    "fig, ax = plt.subplots(figsize=(9,7))\n",
    "cmap = 'viridis'\n",
    "dot_size=50\n",
    "ax.set_title('Multiview Synthetic Data View 2', size=20)\n",
    "ax.scatter(v_data[1][:, 0], v_data[1][:, 1],c=clusters,s=dot_size, cmap=cmap)"
   ]
  },
  {
   "cell_type": "code",
   "execution_count": null,
   "metadata": {},
   "outputs": [],
   "source": [
    "fig, ax = plt.subplots(figsize=(9,7))\n",
    "cmap = 'viridis'\n",
    "dot_size=50\n",
    "ax.set_title('Ground Truth View 1', size=20)\n",
    "ax.scatter(v_data[0][:, 0], v_data[0][:, 1],c=labels,s=dot_size, cmap=cmap)"
   ]
  },
  {
   "cell_type": "code",
   "execution_count": null,
   "metadata": {},
   "outputs": [],
   "source": [
    "fig, ax = plt.subplots(figsize=(9,7))\n",
    "cmap = 'viridis'\n",
    "dot_size=50\n",
    "ax.set_title('Ground Truth View 2', size=20)\n",
    "ax.scatter(v_data[1][:, 0], v_data[1][:, 1],c=labels,s=dot_size, cmap=cmap)"
   ]
  },
  {
   "cell_type": "code",
   "execution_count": null,
   "metadata": {},
   "outputs": [],
   "source": [
    "fig, ax = plt.subplots(figsize=(9,7))\n",
    "cmap = 'viridis'\n",
    "dot_size=50\n",
    "ax.set_title('Ground Truth View 3', size=20)\n",
    "ax.scatter(v_data[2][:, 0], v_data[2][:, 1],c=labels,s=dot_size, cmap=cmap)"
   ]
  },
  {
   "cell_type": "code",
   "execution_count": null,
   "metadata": {},
   "outputs": [],
   "source": [
    "def get_dist(X_mat):\n",
    "    samples = X_mat.shape[0]\n",
    "    distances = list()\n",
    "    for ind1 in range(samples):\n",
    "        distances.append(np.linalg.norm(X_mat - X_mat[ind1].reshape(1, -1), axis = 1))\n",
    "    distances = np.vstack(distances)\n",
    "    return distances\n",
    "\n",
    "distances = get_dist(v_data[0])\n",
    "mask = (np.eye(distances.shape[0]) != 1)\n",
    "g= 1/ (2 * np.median(distances[mask]) **2)\n",
    "print(g)\n",
    "cluster = SpectralClustering(n_clusters=2, gamma = g, n_jobs = -1)\n",
    "pred = cluster.fit(v_data[0])\n",
    "affinity = cluster.affinity_matrix_\n",
    "aff = gaussian_sim(v_data[0])\n",
    "print(affinity)\n",
    "print(aff)"
   ]
  },
  {
   "cell_type": "code",
   "execution_count": null,
   "metadata": {},
   "outputs": [],
   "source": [
    "#Single view scikit learn results \n",
    "\n",
    "#View 1\n",
    "distances1 = get_dist(v_data[0])\n",
    "g1= 1/ (2 * np.median(distances1) **2)\n",
    "S_Cluster = SpectralClustering(n_clusters=2, gamma = g1)\n",
    "v1_clusters = S_Cluster.fit_predict(v_data[0]) \n",
    "v1_score = nmi(labels, v1_clusters)\n",
    "print(\"NMI for view 1 is \" + str(v1_score))\n",
    "\n",
    "\n",
    "#View 2\n",
    "distances2 = get_dist(v_data[1])\n",
    "g2= 1/ (2 * np.median(distances2) **2)\n",
    "S_Cluster = SpectralClustering(n_clusters=2, gamma = g2)\n",
    "v2_clusters = S_Cluster.fit_predict(v_data[1]) \n",
    "v2_score = nmi(labels, v2_clusters)\n",
    "print(\"NMI for view 2 is \" + str(v2_score))\n",
    "\n",
    "\n",
    "#View 3\n",
    "distances3 = get_dist(v_data[2])\n",
    "g3= 1/ (2 * np.median(distances3) **2)\n",
    "S_Cluster = SpectralClustering(n_clusters=2, gamma = g3)\n",
    "v3_clusters = S_Cluster.fit_predict(v_data[2]) \n",
    "v3_score = nmi(labels, v3_clusters)\n",
    "print(\"NMI for view 3 is \" + str(v3_score))\n"
   ]
  },
  {
   "cell_type": "code",
   "execution_count": null,
   "metadata": {},
   "outputs": [],
   "source": [
    "U_SAMPLES = 200\n",
    "\n",
    "def get_dist(X_mat):\n",
    "    samples = X_mat.shape[0]\n",
    "    distances = list()\n",
    "    for ind1 in range(samples):\n",
    "        distances.append(np.linalg.norm(X_mat - X_mat[ind1].reshape(1, -1), axis = 1))\n",
    "    distances = np.vstack(distances)\n",
    "    return distances\n",
    "\n",
    "def get_UCI():\n",
    "    \n",
    "    fac_file = 'fac.txt'\n",
    "    fou_file = 'fou.txt'\n",
    "    fac_feats = np.loadtxt(fac_file, delimiter=',')\n",
    "    fou_feats = np.loadtxt(fou_file, delimiter=',')\n",
    "    v_data = [fou_feats, fac_feats]\n",
    "    \n",
    "    labels = list()\n",
    "    for ind in range(10):\n",
    "        labels.append(np.ones(U_SAMPLES,) * ind)\n",
    "    labels = np.concatenate(labels)\n",
    "    print(labels.shape)\n",
    "    \n",
    "        \n",
    "    shuffle_inds = np.random.permutation(U_SAMPLES* 10)\n",
    "    for vi in range(2):\n",
    "        v_data[vi] = v_data[vi][shuffle_inds]\n",
    "    labels = labels[shuffle_inds]\n",
    "    return v_data, labels"
   ]
  },
  {
   "cell_type": "code",
   "execution_count": null,
   "metadata": {},
   "outputs": [],
   "source": [
    "v_data, labels = get_UCI()"
   ]
  },
  {
   "cell_type": "code",
   "execution_count": null,
   "metadata": {},
   "outputs": [],
   "source": [
    "#Single view scikit learn results \n",
    "\n",
    "#View 1\n",
    "distances1 = get_dist(v_data[0])\n",
    "g1= 1/ (2 * np.median(distances1) **2)\n",
    "S_Cluster = SpectralClustering(n_clusters=10, gamma = g1)\n",
    "v1_clusters = S_Cluster.fit_predict(v_data[0]) \n",
    "v1_score = nmi(labels, v1_clusters)\n",
    "print(\"NMI for view 1 is \" + str(v1_score))\n",
    "\n",
    "\n",
    "#View 2\n",
    "distances2 = get_dist(v_data[1])\n",
    "g2= 1/ (2 * np.median(distances2) **2)\n",
    "S_Cluster = SpectralClustering(n_clusters=10, gamma = g2)\n",
    "v2_clusters = S_Cluster.fit_predict(v_data[1]) \n",
    "v2_score = nmi(labels, v2_clusters)\n",
    "print(\"NMI for view 2 is \" + str(v2_score))"
   ]
  },
  {
   "cell_type": "code",
   "execution_count": null,
   "metadata": {},
   "outputs": [],
   "source": [
    "clusters = multiview_spectral(v_data, labels, k=10)\n",
    "score = nmi(labels, clusters)\n",
    "print(score)"
   ]
  },
  {
   "cell_type": "code",
   "execution_count": null,
   "metadata": {},
   "outputs": [],
   "source": [
    "tsne = TSNE()\n",
    "new_data_1 = tsne.fit_transform(v_data[0])\n",
    "new_data_2 = tsne.fit_transform(v_data[1])"
   ]
  },
  {
   "cell_type": "code",
   "execution_count": null,
   "metadata": {},
   "outputs": [],
   "source": [
    "fig, ax = plt.subplots(figsize=(9,7))\n",
    "cmap = 'viridis'\n",
    "dot_size=50\n",
    "ax.set_title('Multiview UCI View 1', size=20)\n",
    "ax.scatter(new_data_1[:, 0], new_data_1[:, 1],c=clusters,s=dot_size, cmap=cmap)"
   ]
  },
  {
   "cell_type": "code",
   "execution_count": null,
   "metadata": {},
   "outputs": [],
   "source": [
    "fig, ax = plt.subplots(figsize=(9,7))\n",
    "cmap = 'viridis'\n",
    "dot_size=50\n",
    "ax.set_title('Single View UCI View 1', size=20)\n",
    "ax.scatter(new_data_1[:, 0], new_data_1[:, 1],c=v1_clusters,s=dot_size, cmap=cmap)"
   ]
  },
  {
   "cell_type": "code",
   "execution_count": null,
   "metadata": {},
   "outputs": [],
   "source": [
    "fig, ax = plt.subplots(figsize=(9,7))\n",
    "cmap = 'viridis'\n",
    "dot_size=50\n",
    "ax.set_title('UCI Ground Truth View 1', size=20)\n",
    "ax.scatter(new_data_1[:, 0], new_data_1[:, 1],c=labels,s=dot_size, cmap=cmap)"
   ]
  },
  {
   "cell_type": "code",
   "execution_count": null,
   "metadata": {},
   "outputs": [],
   "source": [
    "fig, ax = plt.subplots(figsize=(9,7))\n",
    "cmap = 'viridis'\n",
    "dot_size=50\n",
    "ax.set_title('Multiview UCI View 2', size=20)\n",
    "ax.scatter(new_data_2[:, 0], new_data_2[:, 1],c=clusters,s=dot_size, cmap=cmap)"
   ]
  },
  {
   "cell_type": "code",
   "execution_count": null,
   "metadata": {},
   "outputs": [],
   "source": [
    "fig, ax = plt.subplots(figsize=(9,7))\n",
    "cmap = 'viridis'\n",
    "dot_size=50\n",
    "ax.set_title('Single View UCI View 2', size=20)\n",
    "ax.scatter(new_data_2[:, 0], new_data_2[:, 1],c=v2_clusters,s=dot_size, cmap=cmap)"
   ]
  },
  {
   "cell_type": "code",
   "execution_count": null,
   "metadata": {},
   "outputs": [],
   "source": [
    "fig, ax = plt.subplots(figsize=(9,7))\n",
    "cmap = 'viridis'\n",
    "dot_size=50\n",
    "ax.set_title('UCI Ground Truth View 2', size=20)\n",
    "ax.scatter(v_data[1][:, 0], v_data[1][:, 1],c=labels,s=dot_size, cmap=cmap)"
   ]
  },
  {
   "cell_type": "code",
   "execution_count": null,
   "metadata": {},
   "outputs": [],
   "source": []
  }
 ],
 "metadata": {
  "kernelspec": {
   "display_name": "Python 3",
   "language": "python",
   "name": "python3"
  },
  "language_info": {
   "codemirror_mode": {
    "name": "ipython",
    "version": 3
   },
   "file_extension": ".py",
   "mimetype": "text/x-python",
   "name": "python",
   "nbconvert_exporter": "python",
   "pygments_lexer": "ipython3",
   "version": "3.6.5"
  }
 },
 "nbformat": 4,
 "nbformat_minor": 2
}
