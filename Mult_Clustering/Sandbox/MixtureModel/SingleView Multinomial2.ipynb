{
 "cells": [
  {
   "cell_type": "code",
   "execution_count": 1,
   "metadata": {},
   "outputs": [],
   "source": [
    "import sklearn\n",
    "from sklearn.datasets import fetch_20newsgroups\n",
    "from sklearn.feature_extraction.text import TfidfVectorizer, CountVectorizer\n",
    "import numpy as np\n",
    "import scipy as scp\n",
    "from scipy import sparse\n",
    "\n",
    "NUM_SAMPLES = 200\n",
    "SMALL_VAL = -100000000\n",
    "ITER_THRESH = 5\n"
   ]
  },
  {
   "cell_type": "code",
   "execution_count": 2,
   "metadata": {},
   "outputs": [],
   "source": [
    "#A function to get the 20 newsgroup data\n",
    "def get_data():\n",
    "    #news_groups_all = fetch_20newsgroups(subset='all')\n",
    "    #news_data = news_groups_all.data\n",
    "\n",
    "    #Load in the vectorized news group data from scikit-learn package\n",
    "    news = fetch_20newsgroups(subset='all')\n",
    "    all_data = np.array(news.data)\n",
    "    all_targets = np.array(news.target)\n",
    "    class_names = news.target_names\n",
    "\n",
    "    #Set class pairings as described in the multiview clustering paper\n",
    "    view1_classes = ['comp.graphics','rec.motorcycles', 'sci.space', 'rec.sport.hockey', 'comp.sys.ibm.pc.hardware']\n",
    "    view2_classes = ['rec.autos', 'sci.med','misc.forsale', 'soc.religion.christian','comp.os.ms-windows.misc']\n",
    "    \n",
    "    #Create lists to hold data and labels for each of the 5 classes across 2 different views\n",
    "    labels =  [num for num in range(len(view1_classes)) for _ in range(NUM_SAMPLES)]\n",
    "    labels = np.array(labels)\n",
    "    view1_data = list()\n",
    "    view2_data = list()\n",
    "    \n",
    "    #Randomly sample 200 items from each of the selected classes in view1\n",
    "    for ind in range(len(view1_classes)):\n",
    "        class_num = class_names.index(view1_classes[ind])\n",
    "        class_data = all_data[(all_targets == class_num)]\n",
    "        indices = np.random.choice(class_data.shape[0], NUM_SAMPLES)\n",
    "        view1_data.append(class_data[indices])\n",
    "    view1_data = np.concatenate(view1_data)\n",
    "   \n",
    "        \n",
    "    #Randomly sample 200 items from each of the selected classes in view2\n",
    "    for ind in range(len(view2_classes)):\n",
    "        class_num = class_names.index(view2_classes[ind])\n",
    "        class_data = all_data[(all_targets == class_num)]\n",
    "        indices = np.random.choice(class_data.shape[0], NUM_SAMPLES)\n",
    "        view2_data.append(class_data[indices])  \n",
    "    view2_data = np.concatenate(view2_data)\n",
    "    \n",
    "    #Vectorize the data\n",
    "    vectorizer = CountVectorizer()\n",
    "    view1_data = vectorizer.fit_transform(view1_data)\n",
    "    view2_data = vectorizer.fit_transform(view2_data)\n",
    "\n",
    "    #Shuffle and normalize vectors\n",
    "    shuffled_inds = np.random.permutation(NUM_SAMPLES * len(view1_classes))\n",
    "    view1_data = sparse.vstack(view1_data)\n",
    "    view2_data = sparse.vstack(view2_data)\n",
    "    view1_data = np.array(view1_data[shuffled_inds].todense())\n",
    "    view2_data = np.array(view2_data[shuffled_inds].todense())\n",
    "    labels = labels[shuffled_inds]\n",
    "\n",
    "    return view1_data, view2_data, labels\n",
    "\n",
    "    \n",
    "    "
   ]
  },
  {
   "cell_type": "code",
   "execution_count": null,
   "metadata": {},
   "outputs": [],
   "source": []
  },
  {
   "cell_type": "code",
   "execution_count": 3,
   "metadata": {},
   "outputs": [],
   "source": [
    "v1_data, v2_data, labels = get_data()"
   ]
  },
  {
   "cell_type": "code",
   "execution_count": null,
   "metadata": {},
   "outputs": [],
   "source": []
  },
  {
   "cell_type": "code",
   "execution_count": null,
   "metadata": {},
   "outputs": [],
   "source": []
  },
  {
   "cell_type": "code",
   "execution_count": 4,
   "metadata": {},
   "outputs": [],
   "source": [
    "def log_sum_exp(log_likes):\n",
    "    a_vals =  np.max(log_likes, axis = 0)\n",
    "    likes = np.exp(log_likes - a_vals)\n",
    "    log_sum = a_vals + np.log(np.sum(likes, axis = 0))\n",
    "    return log_sum\n",
    "    \n",
    "def compute_posterior(data, w_probs, alphas, k):\n",
    "    log_likes = list()\n",
    "    for ind in range(k):\n",
    "        #Compute the likelihood\n",
    "        log_like = np.sum(data * np.log(w_probs[ind]), axis = 1)\n",
    "        log_likes.append(log_like)  \n",
    "    log_likes = np.vstack(log_likes)\n",
    "    log_prior = np.log(np.ones((k,))/ k).reshape(-1,1)\n",
    "    numer = log_prior + log_likes\n",
    "    denoms = log_sum_exp(numer)\n",
    "    log_post = numer - denoms\n",
    "    \n",
    "    #Compute the denominator of posterior\n",
    "    posterior = np.exp(log_post)\n",
    "    log_likes = np.sum(denoms)\n",
    "    \n",
    "    return posterior, log_likes\n",
    "\n",
    "def iterate(data, posteriors, k, lamB):\n",
    "    \n",
    "    #For each of the mixture components, compute model params\n",
    "    w_probs = list()\n",
    "    for ind in range(k):\n",
    "        numer = data * posteriors[ind].reshape((-1, 1))\n",
    "        numer = lamB - 1 + np.sum(numer, axis=0)\n",
    "        denom = np.sum(numer)\n",
    "        if(denom == 0):\n",
    "            denom = 1\n",
    "        probs = numer/denom\n",
    "        w_probs.append(probs)\n",
    "    w_probs = np.vstack(w_probs)\n",
    "    alphas = np.mean(posteriors, axis=1)\n",
    "    \n",
    "    #Compute new posterior\n",
    "    new_posteriors, log_like = compute_posterior(data, w_probs, alphas, k)\n",
    "    return w_probs, alphas, new_posteriors, log_like\n",
    "\n",
    "def final_clusters(posteriors):\n",
    "    f_clusters = np.argmax(posteriors, axis = 0)\n",
    "    return f_clusters\n",
    "\n",
    "def compute_entropy(partitions, labels, k, num_classes):\n",
    "    \n",
    "    total_entropy = 0\n",
    "    num_examples = partitions.shape[0]\n",
    "    for part in range(k):\n",
    "        labs = labels[partitions == part]\n",
    "        if(labs.shape[0] == 0):\n",
    "            continue\n",
    "        part_size = labs.shape[0]\n",
    "        part_entropy = 0\n",
    "        for cl in range(num_classes):\n",
    "            prop = np.sum(labs == cl) * 1.0 / part_size\n",
    "            ent = 0\n",
    "            if(prop != 0):\n",
    "                ent = - prop * np.log2(prop)\n",
    "            part_entropy += ent\n",
    "        part_entropy = part_entropy * part_size / num_examples\n",
    "        total_entropy += part_entropy\n",
    "    return total_entropy\n",
    "    "
   ]
  },
  {
   "cell_type": "code",
   "execution_count": 5,
   "metadata": {},
   "outputs": [],
   "source": [
    "# Initialize the mixture model parameters \n",
    "def initialize_posterior(num_samples, k):\n",
    "    posterior = np.random.dirichlet([1] * num_samples, k)\n",
    "    return posterior\n",
    "    "
   ]
  },
  {
   "cell_type": "code",
   "execution_count": 6,
   "metadata": {},
   "outputs": [],
   "source": [
    "#The main multinomial clustering algorithm\n",
    "def multinomial(v_data, labels, k = 5, lamA = 1.2, lamB=2):\n",
    "    \n",
    "    #Initialize cluster centers, partitions, and loop params\n",
    "    v_data = np.concatenate(v_data, axis = 1)\n",
    "    posterior = initialize_posterior(v_data.shape[0], k)\n",
    "    f_clusters = np.argmax(posterior, axis = 0)\n",
    "    objective = SMALL_VAL\n",
    "    iter_stall = 0\n",
    "    iter_num = 0\n",
    "    entropy = 0\n",
    "    \n",
    "    while(iter_stall < ITER_THRESH):\n",
    "        iter_num += 1\n",
    "        view = (iter_num + 1) % 2\n",
    "        \n",
    "        #Switch partitions, Maximization, and Expectation\n",
    "        w_probs, alphas, posterior, log_like = iterate(v_data, posterior, k, lamB)\n",
    "        iter_stall += 1\n",
    "        #Recompute objective function\n",
    "        if(log_like > objective):\n",
    "            objective = log_like\n",
    "            iter_stall = 0\n",
    "        \n",
    "        #Obtain evaluation metrics\n",
    "        f_clusters = np.argmax(posterior, axis = 0)\n",
    "        entropy = compute_entropy(f_clusters, labels, k, 5)\n",
    "\n",
    "    return entropy\n",
    "        "
   ]
  },
  {
   "cell_type": "code",
   "execution_count": 7,
   "metadata": {},
   "outputs": [],
   "source": [
    "def getSingleEntropies(v1_data, v2_data, labels):\n",
    "    \n",
    "    entropies = list()\n",
    "    for num in range(1, 11):\n",
    "        ent = multinomial([v1_data, v2_data], labels, num)\n",
    "        entropies.append(ent)\n",
    "        print(ent)\n",
    "    return entropies"
   ]
  },
  {
   "cell_type": "code",
   "execution_count": null,
   "metadata": {},
   "outputs": [],
   "source": []
  },
  {
   "cell_type": "code",
   "execution_count": 8,
   "metadata": {},
   "outputs": [
    {
     "name": "stdout",
     "output_type": "stream",
     "text": [
      "2.321928094887362\n",
      "2.2305533603195333\n",
      "2.3051594438802496\n",
      "2.2115988364628176\n",
      "2.1722125012976004\n",
      "2.09907905528662\n",
      "2.17157206172942\n",
      "2.152253808340337\n",
      "2.093567682634141\n",
      "2.253514248166621\n",
      "2.321928094887362\n",
      "2.124532060548855\n",
      "2.235786576829973\n",
      "2.2250455571928094\n",
      "2.2255661357193386\n",
      "2.118396028656077\n",
      "2.1956954143218628\n",
      "2.201826079486687\n",
      "2.1410941206640293\n",
      "2.146090549600451\n"
     ]
    }
   ],
   "source": [
    "#Singleview multinomial\n",
    "num_trials = 2\n",
    "entropies_single = list()\n",
    "for ind in range(num_trials):\n",
    "    entropies = getSingleEntropies(v1_data, v2_data, labels)\n",
    "    entropies_single.append(entropies)\n",
    "entropies_single = np.array(entropies_single)\n",
    "entropies_single = np.mean(entropies_single, axis=0)"
   ]
  },
  {
   "cell_type": "code",
   "execution_count": 10,
   "metadata": {},
   "outputs": [
    {
     "data": {
      "image/png": "[encoded data removed]",
      "text/plain": [
       "<Figure size 432x288 with 1 Axes>"
      ]
     },
     "metadata": {},
     "output_type": "display_data"
    }
   ],
   "source": [
    "import matplotlib.pyplot as plt\n",
    "x_values = list(range(1, 11))\n",
    "plt.plot(x_values, entropies_single)\n",
    "plt.xlabel('k')\n",
    "plt.ylabel('Entropy')\n",
    "plt.legend(['1 View'])\n",
    "plt.rc('axes', labelsize=12)\n",
    "plt.show()"
   ]
  },
  {
   "cell_type": "code",
   "execution_count": null,
   "metadata": {},
   "outputs": [],
   "source": []
  },
  {
   "cell_type": "code",
   "execution_count": null,
   "metadata": {},
   "outputs": [],
   "source": []
  },
  {
   "cell_type": "code",
   "execution_count": null,
   "metadata": {},
   "outputs": [],
   "source": []
  },
  {
   "cell_type": "code",
   "execution_count": null,
   "metadata": {},
   "outputs": [],
   "source": []
  }
 ],
 "metadata": {
  "kernelspec": {
   "display_name": "Python 3",
   "language": "python",
   "name": "python3"
  },
  "language_info": {
   "codemirror_mode": {
    "name": "ipython",
    "version": 3
   },
   "file_extension": ".py",
   "mimetype": "text/x-python",
   "name": "python",
   "nbconvert_exporter": "python",
   "pygments_lexer": "ipython3",
   "version": "3.6.5"
  }
 },
 "nbformat": 4,
 "nbformat_minor": 2
}
