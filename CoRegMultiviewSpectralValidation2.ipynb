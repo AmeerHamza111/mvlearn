{
 "cells": [
  {
   "cell_type": "code",
   "execution_count": 1,
   "metadata": {},
   "outputs": [],
   "source": [
    "import numpy as np\n",
    "from mvlearn.cluster.mv_coreg_spectral import MultiviewCoRegSpectralClustering\n",
    "import matplotlib.pyplot as plt\n",
    "\n",
    "%matplotlib inline\n",
    "RANDOM_SEED=10"
   ]
  },
  {
   "cell_type": "code",
   "execution_count": 2,
   "metadata": {},
   "outputs": [],
   "source": [
    "def display_plots(pre_title, data, labels):\n",
    "    \n",
    "    # plot the views\n",
    "    plt.figure()\n",
    "    fig, ax = plt.subplots(1,3, figsize=(18,5))\n",
    "    dot_size=10\n",
    "    ax[0].scatter(data[0][:, 0], data[0][:, 1],c=labels,s=dot_size)\n",
    "    ax[0].set_title(pre_title + ' View 1')\n",
    "    ax[0].axes.get_xaxis().set_visible(False)\n",
    "    ax[0].axes.get_yaxis().set_visible(False)\n",
    "\n",
    "    ax[1].scatter(data[1][:, 0], data[1][:, 1],c=labels,s=dot_size)\n",
    "    ax[1].set_title(pre_title + ' View 2')\n",
    "    ax[1].axes.get_xaxis().set_visible(False)\n",
    "    ax[1].axes.get_yaxis().set_visible(False)\n",
    "    \n",
    "    ax[2].scatter(data[2][:, 0], data[1][:, 1],c=labels,s=dot_size)\n",
    "    ax[2].set_title(pre_title + ' View 2')\n",
    "    ax[2].axes.get_xaxis().set_visible(False)\n",
    "    ax[2].axes.get_yaxis().set_visible(False)\n",
    "\n",
    "    plt.show()"
   ]
  },
  {
   "cell_type": "code",
   "execution_count": 3,
   "metadata": {},
   "outputs": [],
   "source": [
    "# Import the data and matlab results\n",
    "X1 = np.loadtxt('../Coreg_Validation/X1.csv', delimiter=',')\n",
    "X2 = np.loadtxt('../Coreg_Validation/X2.csv', delimiter=',')\n",
    "X3 = np.loadtxt('../Coreg_Validation/X3.csv', delimiter=',')\n",
    "matlab_clusters = np.loadtxt('../Coreg_Validation/matlab_clusters.csv', delimiter=',')\n",
    "matlab_obj = np.loadtxt('../Coreg_Validation/objective.csv', delimiter=',')"
   ]
  },
  {
   "cell_type": "code",
   "execution_count": 4,
   "metadata": {},
   "outputs": [],
   "source": [
    "data = [X1, X2, X3]\n",
    "matlab_clusters = matlab_clusters"
   ]
  },
  {
   "cell_type": "code",
   "execution_count": 7,
   "metadata": {},
   "outputs": [
    {
     "name": "stdout",
     "output_type": "stream",
     "text": [
      "[[-0.98705068 -0.1604087 ]\n",
      " [-0.5949766   0.80374303]\n",
      " [-0.58015013  0.81450957]\n",
      " [-0.61950722  0.78499096]\n",
      " [-0.92299166  0.38481996]\n",
      " [-0.47701627 -0.87889447]]\n"
     ]
    }
   ],
   "source": [
    "# Running spectral clustering\n",
    "lam = 0.5\n",
    "max_iter = 6\n",
    "spectral = MultiviewCoRegSpectralClustering(n_clusters=2, \n",
    "                            v_lambda=lam, max_iter=max_iter, n_init=1)\n",
    "lmat = spectral.fit_predict(data)"
   ]
  },
  {
   "cell_type": "code",
   "execution_count": 12,
   "metadata": {},
   "outputs": [
    {
     "name": "stdout",
     "output_type": "stream",
     "text": [
      "[[3.44014668e-03 5.24510771e-04 5.98412412e-04 ... 1.08718267e-06\n",
      "  2.94249726e-03 5.44390922e-04]\n",
      " [5.24510771e-04 4.49229750e-03 4.31649585e-03 ... 3.91722766e-03\n",
      "  4.46547338e-04 4.44602133e-03]\n",
      " [5.98412412e-04 4.31649585e-03 4.51433011e-03 ... 4.63856773e-03\n",
      "  4.96118474e-04 4.15642087e-03]\n",
      " ...\n",
      " [1.08718267e-06 3.91722766e-03 4.63856773e-03 ... 6.52507484e-03\n",
      "  8.80994279e-05 3.63965505e-03]\n",
      " [2.94249726e-03 4.46547338e-04 4.96118474e-04 ... 8.80994279e-05\n",
      "  3.33117143e-03 4.73424848e-04]\n",
      " [5.44390922e-04 4.44602133e-03 4.15642087e-03 ... 3.63965505e-03\n",
      "  4.73424848e-04 4.44539928e-03]]\n",
      "[[3.44014668e-03 5.24510771e-04 5.98412412e-04 ... 1.08718267e-06\n",
      "  2.94249726e-03 5.44390922e-04]\n",
      " [5.24510771e-04 4.49229750e-03 4.31649585e-03 ... 3.91722766e-03\n",
      "  4.46547338e-04 4.44602133e-03]\n",
      " [5.98412412e-04 4.31649585e-03 4.51433011e-03 ... 4.63856773e-03\n",
      "  4.96118474e-04 4.15642087e-03]\n",
      " ...\n",
      " [1.08718267e-06 3.91722766e-03 4.63856773e-03 ... 6.52507484e-03\n",
      "  8.80994279e-05 3.63965505e-03]\n",
      " [2.94249726e-03 4.46547338e-04 4.96118474e-04 ... 8.80994279e-05\n",
      "  3.33117143e-03 4.73424848e-04]\n",
      " [5.44390922e-04 4.44602133e-03 4.15642087e-03 ... 3.63965505e-03\n",
      "  4.73424848e-04 4.44539928e-03]]\n"
     ]
    }
   ],
   "source": [
    "matlab_lmat = np.loadtxt('../Coreg_Validation/matlab_lmat.txt', delimiter=',')\n",
    "print(lmat)\n",
    "print(matlab_lmat)"
   ]
  },
  {
   "cell_type": "code",
   "execution_count": 14,
   "metadata": {},
   "outputs": [],
   "source": [
    "assert(np.allclose(matlab_lmat, lmat))"
   ]
  },
  {
   "cell_type": "code",
   "execution_count": 5,
   "metadata": {},
   "outputs": [
    {
     "name": "stdout",
     "output_type": "stream",
     "text": [
      "[[-0.98705068 -0.1604087 ]\n",
      " [-0.5949766   0.80374303]\n",
      " [-0.58015013  0.81450957]\n",
      " [-0.61950722  0.78499096]\n",
      " [-0.92299166  0.38481996]\n",
      " [-0.47701627 -0.87889447]]\n"
     ]
    }
   ],
   "source": [
    "# Running spectral clustering\n",
    "lam = 0.5\n",
    "max_iter = 6\n",
    "spectral = MultiviewCoRegSpectralClustering(n_clusters=2, \n",
    "                            v_lambda=lam, max_iter=max_iter, n_init=1)\n",
    "predictions = spectral.fit_predict(data)\n",
    "objective = spectral._objective"
   ]
  },
  {
   "cell_type": "code",
   "execution_count": 6,
   "metadata": {},
   "outputs": [
    {
     "ename": "AttributeError",
     "evalue": "'NoneType' object has no attribute 'T'",
     "output_type": "error",
     "traceback": [
      "\u001b[0;31m---------------------------------------------------------------------------\u001b[0m",
      "\u001b[0;31mAttributeError\u001b[0m                            Traceback (most recent call last)",
      "\u001b[0;32m<ipython-input-6-522de88fcebc>\u001b[0m in \u001b[0;36m<module>\u001b[0;34m\u001b[0m\n\u001b[1;32m      2\u001b[0m \u001b[0;34m\u001b[0m\u001b[0m\n\u001b[1;32m      3\u001b[0m \u001b[0mx_vals\u001b[0m \u001b[0;34m=\u001b[0m \u001b[0mnp\u001b[0m\u001b[0;34m.\u001b[0m\u001b[0marange\u001b[0m\u001b[0;34m(\u001b[0m\u001b[0mmax_iter\u001b[0m\u001b[0;34m)\u001b[0m\u001b[0;34m\u001b[0m\u001b[0;34m\u001b[0m\u001b[0m\n\u001b[0;32m----> 4\u001b[0;31m \u001b[0mplt\u001b[0m\u001b[0;34m.\u001b[0m\u001b[0mplot\u001b[0m\u001b[0;34m(\u001b[0m\u001b[0mx_vals\u001b[0m\u001b[0;34m,\u001b[0m \u001b[0mobjective\u001b[0m\u001b[0;34m.\u001b[0m\u001b[0mT\u001b[0m\u001b[0;34m)\u001b[0m\u001b[0;34m\u001b[0m\u001b[0;34m\u001b[0m\u001b[0m\n\u001b[0m\u001b[1;32m      5\u001b[0m \u001b[0mplt\u001b[0m\u001b[0;34m.\u001b[0m\u001b[0mtitle\u001b[0m\u001b[0;34m(\u001b[0m\u001b[0;34m'My Implementation'\u001b[0m\u001b[0;34m)\u001b[0m\u001b[0;34m\u001b[0m\u001b[0;34m\u001b[0m\u001b[0m\n\u001b[1;32m      6\u001b[0m \u001b[0mplt\u001b[0m\u001b[0;34m.\u001b[0m\u001b[0mxlabel\u001b[0m\u001b[0;34m(\u001b[0m\u001b[0;34m'Iterations'\u001b[0m\u001b[0;34m)\u001b[0m\u001b[0;34m\u001b[0m\u001b[0;34m\u001b[0m\u001b[0m\n",
      "\u001b[0;31mAttributeError\u001b[0m: 'NoneType' object has no attribute 'T'"
     ]
    }
   ],
   "source": [
    "leg = ['View 1', 'View 2', 'View 3']\n",
    "\n",
    "x_vals = np.arange(max_iter)\n",
    "plt.plot(x_vals, objective.T)\n",
    "plt.title('My Implementation')\n",
    "plt.xlabel('Iterations')\n",
    "plt.ylabel('Clustering Objective')\n",
    "plt.legend(leg)\n",
    "plt.show()\n",
    "\n",
    "x_vals = np.arange(max_iter)\n",
    "plt.plot(x_vals, matlab_obj.T)\n",
    "plt.title('Matlab Implementation')\n",
    "plt.xlabel('Iterations')\n",
    "plt.ylabel('Clustering Objective')\n",
    "plt.legend(leg)\n",
    "plt.show()"
   ]
  },
  {
   "cell_type": "code",
   "execution_count": null,
   "metadata": {},
   "outputs": [],
   "source": [
    "display_plots('Matlab Implementation', data, matlab_clusters)\n",
    "display_plots('My Implementation', data, predictions)"
   ]
  },
  {
   "cell_type": "code",
   "execution_count": null,
   "metadata": {},
   "outputs": [],
   "source": []
  }
 ],
 "metadata": {
  "kernelspec": {
   "display_name": "Python 3",
   "language": "python",
   "name": "python3"
  },
  "language_info": {
   "codemirror_mode": {
    "name": "ipython",
    "version": 3
   },
   "file_extension": ".py",
   "mimetype": "text/x-python",
   "name": "python",
   "nbconvert_exporter": "python",
   "pygments_lexer": "ipython3",
   "version": "3.6.7"
  }
 },
 "nbformat": 4,
 "nbformat_minor": 4
}
