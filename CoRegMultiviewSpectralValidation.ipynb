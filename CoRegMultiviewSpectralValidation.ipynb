{
 "cells": [
  {
   "cell_type": "code",
   "execution_count": 1,
   "metadata": {},
   "outputs": [],
   "source": [
    "import numpy as np\n",
    "from sklearn.cluster import KMeans\n",
    "from sklearn.metrics import normalized_mutual_info_score as nmi_score\n",
    "from mvlearn.cluster.mv_coreg_spectral import MultiviewCoRegSpectralClustering\n",
    "import pandas as pd\n",
    "import seaborn as sns\n",
    "import matplotlib.pyplot as plt\n",
    "\n",
    "%matplotlib inline\n",
    "RANDOM_SEED=10"
   ]
  },
  {
   "cell_type": "code",
   "execution_count": 2,
   "metadata": {},
   "outputs": [],
   "source": [
    "# Import the data and matlab results\n",
    "X1 = np.loadtxt('../Coreg_Validation/X1.csv', delimiter=',')\n",
    "X2 = np.loadtxt('../Coreg_Validation/X2.csv', delimiter=',')\n",
    "X3 = np.loadtxt('../Coreg_Validation/X3.csv', delimiter=',')\n",
    "labels = np.loadtxt('../Coreg_Validation/labels.csv', delimiter=',')\n",
    "matlab_clusters = np.loadtxt('../Coreg_Validation/matlab_clusters.csv', delimiter=',')\n",
    "matlab_obj = np.loadtxt('../Coreg_Validation/objective.csv', delimiter=',')"
   ]
  },
  {
   "cell_type": "code",
   "execution_count": 3,
   "metadata": {},
   "outputs": [],
   "source": [
    "data = [X1, X2, X3]\n",
    "matlab_clusters = 1 - matlab_clusters"
   ]
  },
  {
   "cell_type": "code",
   "execution_count": 4,
   "metadata": {},
   "outputs": [],
   "source": [
    "matlab_nmi = np.loadtxt('../Coreg_Validation/matlab_nmi.csv', delimiter=',')\n",
    "matlab_embed = np.loadtxt('../Coreg_Validation/matlab_embed.csv', delimiter=',')"
   ]
  },
  {
   "cell_type": "code",
   "execution_count": 5,
   "metadata": {},
   "outputs": [
    {
     "name": "stdout",
     "output_type": "stream",
     "text": [
      "[[-0.98705068 -0.1604087 ]\n",
      " [-0.5949766   0.80374303]\n",
      " [-0.58015013  0.81450957]\n",
      " [-0.61950722  0.78499096]\n",
      " [-0.92299166  0.38481996]\n",
      " [-0.47701627 -0.87889447]]\n",
      "[[ 0.03349329 -0.02260726]\n",
      " [ 0.03010516  0.04064591]\n",
      " [ 0.02924627  0.03801132]\n",
      " ...\n",
      " [ 0.02208021  0.03820189]\n",
      " [ 0.03297485 -0.02675943]\n",
      " [ 0.03031213  0.04008273]]\n",
      "[[ 0.03346811 -0.02571474]\n",
      " [ 0.03013397  0.03977207]\n",
      " [ 0.02930873  0.03736807]\n",
      " ...\n",
      " [ 0.02245538  0.03728046]\n",
      " [ 0.03312253 -0.02667088]\n",
      " [ 0.03033422  0.03922462]]\n",
      "[[ 0.03350985 -0.02786398]\n",
      " [ 0.03016103  0.0392988 ]\n",
      " [ 0.02935855  0.03693059]\n",
      " ...\n",
      " [ 0.02257436  0.03698774]\n",
      " [ 0.03315428 -0.02607993]\n",
      " [ 0.030362    0.03874742]]\n",
      "[[ 0.03354714 -0.02896616]\n",
      " [ 0.0301771   0.03902812]\n",
      " [ 0.02937884  0.03668792]\n",
      " ...\n",
      " [ 0.02261309  0.03678507]\n",
      " [ 0.03315475 -0.02580465]\n",
      " [ 0.03037806  0.03847628]]\n",
      "[[ 0.03357109 -0.0295584 ]\n",
      " [ 0.03018637  0.03887883]\n",
      " [ 0.02938886  0.03655327]\n",
      " ...\n",
      " [ 0.02262748  0.03666957]\n",
      " [ 0.03315018 -0.02565012]\n",
      " [ 0.03038732  0.03832688]]\n"
     ]
    }
   ],
   "source": [
    "# Running spectral clustering\n",
    "lam = 0.5\n",
    "max_iter = 6\n",
    "spectral = MultiviewCoRegSpectralClustering(n_clusters=2, \n",
    "                    n_views=3, v_lambda=lam, max_iter=max_iter, n_init=1)\n",
    "predictions = spectral.fit_predict(data)\n",
    "embedding = spectral._embedding"
   ]
  },
  {
   "cell_type": "code",
   "execution_count": 6,
   "metadata": {},
   "outputs": [],
   "source": [
    "n_trials = 50\n",
    "nmi_vals = list()\n",
    "for _ in range(n_trials):\n",
    "    kmeans = KMeans(n_clusters=2, n_init=1)\n",
    "    preds = kmeans.fit_predict(embedding)\n",
    "    nmi_vals.append(nmi_score(preds, labels, average_method='arithmetic'))\n",
    "nmi_vals = np.array(nmi_vals)"
   ]
  },
  {
   "cell_type": "code",
   "execution_count": 7,
   "metadata": {},
   "outputs": [
    {
     "data": {
      "text/plain": [
       "Text(0, 0.5, 'NMI')"
      ]
     },
     "execution_count": 7,
     "metadata": {},
     "output_type": "execute_result"
    },
    {
     "data": {
      "image/png": "[encoded data removed]",
      "text/plain": [
       "<Figure size 432x288 with 1 Axes>"
      ]
     },
     "metadata": {
      "needs_background": "light"
     },
     "output_type": "display_data"
    }
   ],
   "source": [
    "df = pd.DataFrame(np.vstack([matlab_nmi, nmi_vals]).T, columns=['Matlab Code', 'My Code'])\n",
    "ax = sns.boxplot(data=df)\n",
    "plt.xlabel('Implementation')\n",
    "plt.ylabel('NMI')"
   ]
  },
  {
   "cell_type": "code",
   "execution_count": 8,
   "metadata": {},
   "outputs": [
    {
     "name": "stdout",
     "output_type": "stream",
     "text": [
      "(1000, 6)\n",
      "(1000, 6)\n",
      "[ 0.39155781 -0.34475563  0.295558    0.56932338  0.378094    0.41639804]\n",
      "[-0.39155781 -0.34475563  0.295558    0.56932338 -0.378094   -0.41639804]\n"
     ]
    },
    {
     "ename": "AssertionError",
     "evalue": "",
     "output_type": "error",
     "traceback": [
      "\u001b[0;31m---------------------------------------------------------------------------\u001b[0m",
      "\u001b[0;31mAssertionError\u001b[0m                            Traceback (most recent call last)",
      "\u001b[0;32m<ipython-input-8-c4420cfb1097>\u001b[0m in \u001b[0;36m<module>\u001b[0;34m\u001b[0m\n\u001b[1;32m      4\u001b[0m \u001b[0mprint\u001b[0m\u001b[0;34m(\u001b[0m\u001b[0membedding\u001b[0m\u001b[0;34m[\u001b[0m\u001b[0;36m0\u001b[0m\u001b[0;34m]\u001b[0m\u001b[0;34m)\u001b[0m\u001b[0;34m\u001b[0m\u001b[0;34m\u001b[0m\u001b[0m\n\u001b[1;32m      5\u001b[0m \u001b[0mprint\u001b[0m\u001b[0;34m(\u001b[0m\u001b[0mmatlab_embed\u001b[0m\u001b[0;34m[\u001b[0m\u001b[0;36m0\u001b[0m\u001b[0;34m]\u001b[0m\u001b[0;34m)\u001b[0m\u001b[0;34m\u001b[0m\u001b[0;34m\u001b[0m\u001b[0m\n\u001b[0;32m----> 6\u001b[0;31m \u001b[0;32massert\u001b[0m\u001b[0;34m(\u001b[0m\u001b[0mnp\u001b[0m\u001b[0;34m.\u001b[0m\u001b[0mallclose\u001b[0m\u001b[0;34m(\u001b[0m\u001b[0membedding\u001b[0m\u001b[0;34m,\u001b[0m \u001b[0mmatlab_embed\u001b[0m\u001b[0;34m)\u001b[0m\u001b[0;34m)\u001b[0m\u001b[0;34m\u001b[0m\u001b[0;34m\u001b[0m\u001b[0m\n\u001b[0m",
      "\u001b[0;31mAssertionError\u001b[0m: "
     ]
    }
   ],
   "source": [
    "# Check if all elements of the two spectral embeddings are close enough\n",
    "print(embedding.shape)\n",
    "print(matlab_embed.shape)\n",
    "print(embedding[0])\n",
    "print(matlab_embed[0])\n",
    "assert(np.allclose(embedding, matlab_embed))"
   ]
  },
  {
   "cell_type": "code",
   "execution_count": null,
   "metadata": {},
   "outputs": [],
   "source": []
  }
 ],
 "metadata": {
  "kernelspec": {
   "display_name": "Python 3",
   "language": "python",
   "name": "python3"
  },
  "language_info": {
   "codemirror_mode": {
    "name": "ipython",
    "version": 3
   },
   "file_extension": ".py",
   "mimetype": "text/x-python",
   "name": "python",
   "nbconvert_exporter": "python",
   "pygments_lexer": "ipython3",
   "version": "3.6.7"
  }
 },
 "nbformat": 4,
 "nbformat_minor": 4
}
