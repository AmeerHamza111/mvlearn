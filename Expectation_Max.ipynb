{
 "cells": [
  {
   "cell_type": "code",
   "execution_count": null,
   "metadata": {},
   "outputs": [],
   "source": [
    "import numpy as np\n",
    "import matplotlib.pyplot as plt\n",
    "import pandas as pd\n",
    "from sklearn import naive_bayes, model_selection, metrics\n",
    "\n",
    "\n",
    "\n",
    "def Gauss_EM(X_train,y_train,X_test,y_test):\n",
    "    gnb = naive_bayes.GaussianNB().fit(X_train,y_train)\n",
    "    y_pred2= gnb.predict(X_test) \n",
    "\n",
    "    y_prob = gnb.predict_proba(X_test)\n",
    "                \n",
    "    j = []\n",
    "\n",
    "    for i in range(len(y_prob[:,1])):\n",
    "\n",
    "        j.append(max(y_prob[i,0],y_prob[i,1]))\n",
    "\n",
    "    print('Internal Classifier Accuracy: ' + str(metrics.accuracy_score(y_test,y_pred2)))\n",
    "\n",
    "\n",
    "    X_first = np.column_stack((X_test,y_pred2,np.array(j),y_test))\n",
    "    \n",
    "    X_first = X_first[X_first[:,5].argsort()]\n",
    "    n = round(.7 * len(X_first[:,5]))\n",
    "    n_comp = len(X_first[:,5])- n\n",
    "\n",
    "    total = np.row_stack((np.column_stack((sub_X_train2,sub_y_train2)),X_first[n:,0:5]))  #total new training\n",
    "    total2 = np.row_stack((X_first[:n,0:5]))   #total new testing\n",
    "\n",
    "    new_X = total[:,:-1]\n",
    "    new_Y = total[:,-1:]\n",
    "\n",
    "    test_X = total2[:,:-1]\n",
    "    test_Y = total2[:,-1:]\n",
    "\n",
    "    return [new_X, new_Y,test_X, test_Y,gnb]\n",
    "#This initializes the first iteration of what we want"
   ]
  }
 ],
 "metadata": {
  "kernelspec": {
   "display_name": "Python 3",
   "language": "python",
   "name": "python3"
  },
  "language_info": {
   "codemirror_mode": {
    "name": "ipython",
    "version": 3
   },
   "file_extension": ".py",
   "mimetype": "text/x-python",
   "name": "python",
   "nbconvert_exporter": "python",
   "pygments_lexer": "ipython3",
   "version": "3.7.1"
  }
 },
 "nbformat": 4,
 "nbformat_minor": 2
}
