{
 "cells": [
  {
   "cell_type": "markdown",
   "metadata": {},
   "source": [
    "### Testing for Co-regression with co-training"
   ]
  },
  {
   "cell_type": "code",
   "execution_count": 1,
   "metadata": {
    "collapsed": true
   },
   "outputs": [],
   "source": [
    "import numpy as np\n",
    "import matplotlib.pyplot as plt\n",
    "from sklearn.neighbors import KNeighborsRegressor"
   ]
  },
  {
   "cell_type": "code",
   "execution_count": null,
   "metadata": {
    "collapsed": true
   },
   "outputs": [],
   "source": []
  },
  {
   "cell_type": "code",
   "execution_count": 2,
   "metadata": {
    "collapsed": true
   },
   "outputs": [],
   "source": [
    "n_neighbors = 3\n",
    "estimator1 = KNeighborsRegressor(n_neighbors=n_neighbors)\n",
    "estimator2 = KNeighborsRegressor(n_neighbors=n_neighbors)"
   ]
  },
  {
   "cell_type": "code",
   "execution_count": null,
   "metadata": {
    "collapsed": true
   },
   "outputs": [],
   "source": [
    "class CTRegressor():\n",
    "    def __init__(\n",
    "                 self,\n",
    "                 estimator1=None,\n",
    "                 estimator2=None,\n",
    "                 k_neighbors = 3,\n",
    "                 random_state=0\n",
    "                 ):\n",
    "\n",
    "        # initialize a BaseCTEstimator object\n",
    "        super().__init__(estimator1, estimator2, random_state)\n",
    "\n",
    "        # if not given, set classifiers as gaussian naive bayes estimators\n",
    "        if self.estimator1 is None:\n",
    "            self.estimator1 = KNeighborsRegressor()\n",
    "        if self.estimator2 is None:\n",
    "            self.estimator2 = KNeighborsRegressor()\n",
    "\n",
    "        self.n_views_ = 2  # only 2 view learning supported currently\n",
    "\n",
    "        self.class_name = \"CTRegressor\"\n",
    "        \n",
    "        self.k_neighbors_ = 3\n",
    "\n",
    "    # requires Labeled sets for each view, U' shared by both views\n",
    "    def fit(\n",
    "            self,\n",
    "            Xs,\n",
    "            y,\n",
    "            p=1,\n",
    "            n=1,\n",
    "            unlabeled_pool_size=50,\n",
    "            num_iter=50\n",
    "            ):\n",
    "        # split data\n",
    "        # fit each estimator to Labeled set\n",
    "        # for num_iter:\n",
    "            # for each view:\n",
    "                # for each sample in U' for that view:\n",
    "                    # regress (y_hat = h(x))\n",
    "                    # find the k nearest examples in L to x (a set called Omega)\n",
    "                    # fit a new kNN to the labeled set with the addition of this sample\n",
    "                    # compute and store deltaMSE (MSE of the old regressor on each sample in Omega, minus MSE of new regressor on each sample in Omega)\n",
    "                # if there exists deltaMSE > 0\n",
    "                # then pick this example (and its regression) to add to the labeled set of other view, remove from U'\n",
    "            # if didn't add a new sample to either set, then exit\n",
    "\n",
    "        # final regressor = .5*h1(x) + h2(x)\n",
    "\n",
    "        y = np.array(y)\n",
    "        \n",
    "        self.p_, self.n_ = p, n\n",
    "        \n",
    "        self.unlabeled_pool_size_ = unlabeled_pool_size\n",
    "        self.num_iter_ = num_iter\n",
    "\n",
    "        # extract the multiple views given\n",
    "        X1 = Xs[0]\n",
    "        X2 = Xs[1]\n",
    "\n",
    "        # the full set of unlabeled samples\n",
    "        U = [i for i, y_i in enumerate(y) if np.isnan(y_i)]\n",
    "        \n",
    "        # shuffle unlabeled_pool data for easy random access\n",
    "        np.random.shuffle(U)\n",
    "\n",
    "        # the small pool of unlabled samples to draw from in training\n",
    "        unlabeled_pool = U[-min(len(U), self.unlabeled_pool_size_):]\n",
    "\n",
    "        # the labeled samples\n",
    "        L = [i for i, y_i in enumerate(y) if ~np.isnan(y_i)]\n",
    "\n",
    "        # remove the pool from overall unlabeled data\n",
    "        U = U[:-len(unlabeled_pool)]\n",
    "\n",
    "        it = 0\n",
    "        \n",
    "        while it < self.num_iter_ and U:\n",
    "            it += 1\n",
    "\n",
    "            # fit each model to its respective view\n",
    "            self.estimator1.fit(X1[L], y[L])\n",
    "            self.estimator2.fit(X2[L], y[L])\n",
    "            \n",
    "            y_hat1 = self.estimator1.predict(X1[unlabeled_pool])\n",
    "            y_hat2 = self.estimator2.predict(X2[unlabeled_pool])\n",
    "            \n",
    "            neighbors1 = self.estimator1.kneighbors(X1[unlabeled_pool], n_neighbors=self.k_neighbors_)\n",
    "            neighbors2 = self.estimator1.kneighbors(X2[unlabeled_pool], n_neighbors=self.k_neighbors_)\n",
    "            \n",
    "            # find sample in view 1 which lowers the MSE the most\n",
    "            for sample, u in enumerate(unlabeled_pool):\n",
    "                new_L = L.copy().append(u)\n",
    "                new_y = y[L].copy().append(y_hat1[sample])\n",
    "                new_estimator = KNeighborsRegressor(n_neighbors=self.k_neighbors)\n",
    "                new_estimator.fit(X1[new_L], new_y)\n",
    "                delta_MSE = self.estimate_delta_MSE_(self.estimator1, new_estimator, X1[L], y[L])\n",
    "                if sample == 0:\n",
    "                    max_delta_MSE = delta_MSE\n",
    "                    best_sample = sample\n",
    "                else:\n",
    "                    if delta_MSE > max_delta_MSE:\n",
    "                        max_delta_MSE = delta_MSE\n",
    "                        best_sample = sample\n",
    "                \n",
    "            # placeholder function to estimate MSE on labeled data\n",
    "            curr_MSE1 = self.estimate_MSE_(X1[L], y[L])\n",
    "            curr_MSE2 = self.estimate_MSE_(X2{L}, y[L])\n",
    "            \n",
    "            \n",
    "        \n",
    "        \n",
    "    "
   ]
  }
 ],
 "metadata": {
  "kernelspec": {
   "display_name": "Python 3",
   "language": "python",
   "name": "python3"
  },
  "language_info": {
   "codemirror_mode": {
    "name": "ipython",
    "version": 3
   },
   "file_extension": ".py",
   "mimetype": "text/x-python",
   "name": "python",
   "nbconvert_exporter": "python",
   "pygments_lexer": "ipython3",
   "version": "3.6.3"
  }
 },
 "nbformat": 4,
 "nbformat_minor": 2
}
